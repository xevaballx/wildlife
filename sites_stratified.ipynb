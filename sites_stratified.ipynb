{
 "cells": [
  {
   "cell_type": "markdown",
   "metadata": {
    "id": "j6y23yCuMBwj",
    "tags": []
   },
   "source": [
    "## Site Stratified Dataset Split and Transforms\n",
    "\n",
    "Competition Score: 1.5254"
   ]
  },
  {
   "cell_type": "code",
   "execution_count": 1,
   "metadata": {
    "id": "uKiaXIRuMBwn"
   },
   "outputs": [],
   "source": [
    "from utils import verify_data, plot_species_grid, verify_splits, split_data\n",
    "\n",
    "%matplotlib inline\n",
    "\n",
    "import os\n",
    "import wandb\n",
    "import random\n",
    "import matplotlib.pyplot as plt\n",
    "import pandas as pd\n",
    "import torch\n",
    "import torch.nn as nn \n",
    "import torchvision.models as models\n",
    "from torchvision import transforms\n",
    "import torch.nn.functional as F\n",
    "import torch.optim as optim\n",
    "import numpy as np\n",
    "from sklearn.model_selection import train_test_split\n",
    "from sklearn.metrics import precision_score, recall_score, f1_score, confusion_matrix\n",
    "from torch.utils.data import Dataset, DataLoader\n",
    "from tqdm import tqdm\n",
    "from PIL import Image\n",
    "\n",
    "# for auto-reloading external modules\n",
    "# see http://stackoverflow.com/questions/1907993/autoreload-of-modules-in-ipython\n",
    "%load_ext autoreload\n",
    "%autoreload 2"
   ]
  },
  {
   "cell_type": "code",
   "execution_count": 2,
   "metadata": {},
   "outputs": [
    {
     "name": "stdout",
     "output_type": "stream",
     "text": [
      "2.5.1\n",
      "True\n"
     ]
    }
   ],
   "source": [
    "print(torch.__version__)\n",
    "print(torch.backends.mps.is_available())\n",
    "\n",
    "# Determine whether to use MPS (Metal Performance Shaders) or fallback to CPU\n",
    "device = \"mps\" if torch.backends.mps.is_available() else \"cpu\""
   ]
  },
  {
   "cell_type": "code",
   "execution_count": 3,
   "metadata": {},
   "outputs": [
    {
     "name": "stdout",
     "output_type": "stream",
     "text": [
      "Note: you may need to restart the kernel to use updated packages.\n"
     ]
    }
   ],
   "source": [
    "%pip install wandb -qU"
   ]
  },
  {
   "cell_type": "markdown",
   "metadata": {},
   "source": [
    "Refresh this sell for each run. If not using macOS, make sure to set you seed for cuda if necessary."
   ]
  },
  {
   "cell_type": "code",
   "execution_count": 36,
   "metadata": {},
   "outputs": [
    {
     "data": {
      "text/plain": [
       "<torch._C.Generator at 0x175b569b0>"
      ]
     },
     "execution_count": 36,
     "metadata": {},
     "output_type": "execute_result"
    }
   ],
   "source": [
    "seed = 1\n",
    "random.seed(seed)  # Python random seed\n",
    "np.random.seed(seed)  # NumPy random seed\n",
    "torch.manual_seed(seed)  # PyTorch CPU and CUDA seed\n",
    "\n",
    "# If using multiple threads or workers, you can optionally set:\n",
    "# torch.use_deterministic_algorithms(True)  # Enforces deterministic behavior"
   ]
  },
  {
   "cell_type": "markdown",
   "metadata": {},
   "source": [
    "### Initialize Constants\n",
    "\n",
    "This ensures consistency, so what we change in the model is logged properly. "
   ]
  },
  {
   "cell_type": "code",
   "execution_count": 37,
   "metadata": {},
   "outputs": [],
   "source": [
    "NUM_CLASSES = 8  # Number of target classes\n",
    "\n",
    "# Constants for the model experiments and logging\n",
    "RESNET50_WEIGHTS = models.ResNet50_Weights.DEFAULT  # Pre-trained weights\n",
    "HIDDEN_UNITS1 = 100  # Number of units in the hidden fully connected layer\n",
    "\n",
    "\n",
    "\n",
    "TRAIN_TRANSFORMS = transforms.Compose([\n",
    "    transforms.Resize((224, 224)),  # Resize to match model input\n",
    "    transforms.RandomHorizontalFlip(p=0.5),  # Randomly flip horizontally\n",
    "    transforms.RandomRotation(15),  # Rotate within ±15 degrees\n",
    "    transforms.ColorJitter(brightness=0.2, contrast=0.2, saturation=0.2, hue=0.1),\n",
    "    transforms.ToTensor(),  # Convert PIL image to tensor\n",
    "    transforms.Normalize(mean=(0.485, 0.456, 0.406), std=(0.229, 0.224, 0.225)),  # Normalize using ImageNet stats\n",
    "])\n",
    "\n",
    "\n",
    "# TRAIN_TRANSFORMS = transforms.Compose([\n",
    "#     transforms.Resize((224, 224)),\n",
    "#                     transforms.ToTensor(),\n",
    "#                     transforms.Normalize(\n",
    "#                         mean=(0.485, 0.456, 0.406), std=(0.229, 0.224, 0.225))\n",
    "# ])\n",
    "\n",
    "\n",
    "# Hyperparmeters\n",
    "EPOCHS = 5\n",
    "DROPOUT_RATE = 0.1  # Dropout rate for regularization\n",
    "BATCH_SIZE = 32\n",
    "LR = 0.01\n",
    "MOMENTUM = 0.09\n",
    "\n",
    "# Logging params\n",
    "NUM_BATCHES_TO_LOG = 10 # from the test data for each test step\n",
    "NUM_IMAGES_PER_BATCH = 32 # Number of images to log per test batch\n"
   ]
  },
  {
   "cell_type": "markdown",
   "metadata": {},
   "source": [
    "Make sure you add the data to the base_path on your local machine if running locally. We have a git ignore set up so the data folder synch remotely. "
   ]
  },
  {
   "cell_type": "code",
   "execution_count": 38,
   "metadata": {
    "id": "kFk46IPKMBwo"
   },
   "outputs": [],
   "source": [
    "# Define the base path where images are stored\n",
    "base_path = \"./data/givens/\"\n",
    "train_features = pd.read_csv(f\"{base_path}train_features.csv\", index_col=\"id\")\n",
    "test_features = pd.read_csv(f\"{base_path}test_features.csv\", index_col=\"id\")\n",
    "train_labels = pd.read_csv(f\"{base_path}train_labels.csv\", index_col=\"id\")"
   ]
  },
  {
   "cell_type": "markdown",
   "metadata": {
    "id": "u6sZMIpEMBwo"
   },
   "source": [
    "The `features` CSVs contain the image ID, filepath and site ID for each image."
   ]
  },
  {
   "cell_type": "code",
   "execution_count": 7,
   "metadata": {
    "colab": {
     "base_uri": "https://localhost:8080/"
    },
    "id": "_IKcKFKBhsYW",
    "outputId": "c7bdb61d-b60e-4c84-9468-26f9655d21f8"
   },
   "outputs": [
    {
     "name": "stdout",
     "output_type": "stream",
     "text": [
      "object\n",
      "0\n",
      "0\n"
     ]
    }
   ],
   "source": [
    "print(test_features['filepath'].dtype)\n",
    "print(test_features['filepath'].isnull().sum())\n",
    "print(train_features['filepath'].isnull().sum())  # Count any NaN values"
   ]
  },
  {
   "cell_type": "code",
   "execution_count": 39,
   "metadata": {},
   "outputs": [],
   "source": [
    "# Add a 'filepath' column with the full path to each image\n",
    "# Subdirectories for train and test images\n",
    "train_images_path = os.path.join(base_path, \"train_features\")\n",
    "test_images_path = os.path.join(base_path, \"test_features\")\n",
    "\n",
    "train_features['filepath'] = train_features.index.map(\n",
    "    lambda img_id: os.path.join(train_images_path, f\"{img_id}.jpg\"))\n",
    "\n",
    "test_features['filepath'] = test_features.index.map(\n",
    "    lambda img_id: os.path.join(test_images_path, f\"{img_id}.jpg\"))"
   ]
  },
  {
   "cell_type": "markdown",
   "metadata": {
    "id": "rrHGSQGaMBwp"
   },
   "source": [
    "Store a sorted list of the labels, so that we can sort the inputs and outputs to our model in a consistent way."
   ]
  },
  {
   "cell_type": "code",
   "execution_count": 40,
   "metadata": {
    "colab": {
     "base_uri": "https://localhost:8080/"
    },
    "id": "mlxx7flxMBwp",
    "outputId": "e6a1a5e9-9632-49a4-c85a-f5f4104d30df"
   },
   "outputs": [],
   "source": [
    "species_labels = sorted(train_labels.columns.unique())\n",
    "# species_labels"
   ]
  },
  {
   "cell_type": "markdown",
   "metadata": {
    "id": "U2kftnIdMBwp"
   },
   "source": [
    "### Explore the data (Optional)"
   ]
  },
  {
   "cell_type": "code",
   "execution_count": null,
   "metadata": {
    "colab": {
     "base_uri": "https://localhost:8080/",
     "height": 237
    },
    "id": "fw3qfrSZMBwo",
    "outputId": "52e120a4-274f-4555-a5f7-2cb80b377b9b"
   },
   "outputs": [],
   "source": [
    "# helper function (optional)\n",
    "verify_data(train_features,test_features, train_labels)"
   ]
  },
  {
   "cell_type": "code",
   "execution_count": null,
   "metadata": {},
   "outputs": [],
   "source": [
    "# helper function (optional)\n",
    "plot_species_grid(train_features, train_labels, species_labels)"
   ]
  },
  {
   "cell_type": "markdown",
   "metadata": {
    "id": "XHLg_-qfMBwp"
   },
   "source": [
    "There's a lot more data exploration to do. For example, you might also want to look at the distribution of image dimensions or camera trap sites. But since our primary goal here is to develop a benchmark, let's move on to the modeling!"
   ]
  },
  {
   "cell_type": "markdown",
   "metadata": {
    "id": "YNzMhcTGMBwp"
   },
   "source": [
    "### Split into train and evaluation sets\n",
    "\n",
    "We need to ensure that sites are mutually exclusive between the training and validation sets, meaning no site should appear in both sets. This ensures a proper stratification based on site."
   ]
  },
  {
   "cell_type": "code",
   "execution_count": 41,
   "metadata": {},
   "outputs": [],
   "source": [
    "X_train, X_val, y_train, y_val = split_data(\n",
    "    train_features, train_labels, type='sites')"
   ]
  },
  {
   "cell_type": "code",
   "execution_count": null,
   "metadata": {},
   "outputs": [],
   "source": [
    "\n",
    "# Helper function (optional)\n",
    "verify_splits(X_train, y_train, X_val,  y_val)"
   ]
  },
  {
   "cell_type": "markdown",
   "metadata": {},
   "source": [
    "### Build the datasets"
   ]
  },
  {
   "cell_type": "code",
   "execution_count": 42,
   "metadata": {},
   "outputs": [],
   "source": [
    "class ImagesDataset(Dataset):\n",
    "    \"\"\"Reads in an image, transforms pixel values, and serves\n",
    "    a dictionary containing the image id, image tensors, and label.\n",
    "    \"\"\"\n",
    "\n",
    "    def __init__(self, features, \n",
    "                 labels=None, \n",
    "                 transform=None, device=device):\n",
    "        self.data = features\n",
    "        self.label = labels\n",
    "        self.device = device\n",
    "        self.transform = transform\n",
    "\n",
    "    def __getitem__(self, index):\n",
    "    \n",
    "        image_id = self.data.index[index]\n",
    "        image = Image.open(self.data.iloc[index][\"filepath\"]).convert(\"RGB\")\n",
    "\n",
    "        if self.transform:\n",
    "            image = self.transform(image)\n",
    "\n",
    "        sample = {\"image_id\": image_id, \"image\": image}\n",
    "     \n",
    "        if self.label is not None:\n",
    "            label = torch.tensor(self.label.iloc[index].values, dtype=torch.float)\n",
    "            if self.device:\n",
    "                label = label.to(self.device)\n",
    "            sample[\"label\"] = label\n",
    "\n",
    "        return sample\n",
    "\n",
    "    def __len__(self):\n",
    "        return len(self.data)"
   ]
  },
  {
   "cell_type": "markdown",
   "metadata": {},
   "source": [
    "Set up transformations. Model transformations are defined at the top as constants to sync with logging."
   ]
  },
  {
   "cell_type": "code",
   "execution_count": 43,
   "metadata": {},
   "outputs": [],
   "source": [
    "# Always keep validation transformation the same to reflect real world\n",
    "val_transform = transforms.Compose([\n",
    "    transforms.Resize((224, 224)),  # Ensure consistent input size\n",
    "    transforms.ToTensor(),  # Convert to tensor\n",
    "    transforms.Normalize(mean=(0.485, 0.456, 0.406), std=(0.229, 0.224, 0.225)),  # Normalize using ImageNet stats\n",
    "])"
   ]
  },
  {
   "cell_type": "code",
   "execution_count": 44,
   "metadata": {},
   "outputs": [],
   "source": [
    "# Create datasets\n",
    "train_dataset = ImagesDataset(\n",
    "    X_train, \n",
    "    y_train, \n",
    "    transform=TRAIN_TRANSFORMS, device=device)\n",
    "val_dataset = ImagesDataset(\n",
    "    X_val, \n",
    "    y_val, \n",
    "    transform=val_transform, \n",
    "    device=device)\n",
    "\n",
    "# Create DataLoaders\n",
    "\n",
    "train_loader = DataLoader(\n",
    "    train_dataset, \n",
    "    batch_size=BATCH_SIZE, \n",
    "    shuffle=True, pin_memory=True)\n",
    "val_loader = DataLoader(\n",
    "    val_dataset, \n",
    "    batch_size=BATCH_SIZE, \n",
    "    shuffle=False, pin_memory=True)"
   ]
  },
  {
   "cell_type": "code",
   "execution_count": 45,
   "metadata": {},
   "outputs": [
    {
     "name": "stdout",
     "output_type": "stream",
     "text": [
      "Training set: 13171 samples\n",
      "Validation set: 3317 samples\n"
     ]
    }
   ],
   "source": [
    "# Print shapes for verification\n",
    "print(f\"Training set: {len(train_dataset)} samples\")\n",
    "print(f\"Validation set: {len(val_dataset)} samples\")"
   ]
  },
  {
   "cell_type": "markdown",
   "metadata": {
    "id": "cPwe5YFjMBwv",
    "tags": []
   },
   "source": [
    "### Training\n",
    "Current set up is pretrained ResNet50 model as our backbone. The pretrained model outputs a 2048-dimension embedding, which we will then connect to two more dense layers, with a ReLU and Dropout step in between.\n",
    "\n",
    "These final layers, defined in `model.fc`, are the new \"head\" of our model, and allow us to transform the image embeddings produced by the pretrained \"backbone\" into the 8-dimensional output required to learn the species classification task we're tackling here. Prior to redefining it below, `model.fc` would be the final, dense layer connecting the 2048-dimension embedding to a 1000-dimension output (corresponding to the 1000 ImageNet classes that the pretrained model was trained on). We will instead prepare the model for the current task by redefining `model.fc` to produce an 8-dimensional output corresponding to our 8 species classes (including blanks).\n",
    "\n",
    "We'll also add a couple more layers in between. The `ReLU` layer introduces non-linearity into the model head, in effect activating important features and suppressing noise. And the `Dropout` layer is a commonly used regularization component that randomly drops some nodes from the previous layer's outputs (10% of nodes in this case) during each training step, mitigating our risk of overfitting."
   ]
  },
  {
   "cell_type": "markdown",
   "metadata": {},
   "source": [
    "#### Define the model, loss, and optimizer:"
   ]
  },
  {
   "cell_type": "code",
   "execution_count": 46,
   "metadata": {
    "colab": {
     "base_uri": "https://localhost:8080/"
    },
    "id": "Yf3bCjmwMBwv",
    "outputId": "e0b47689-3576-4c08-c1f8-fb4515032200"
   },
   "outputs": [],
   "source": [
    "# model = models.resnet50(pretrained=True) fixed warning\n",
    "model = models.resnet50(weights=RESNET50_WEIGHTS)\n",
    "\n",
    "# # Freeze the backbone parameters\n",
    "# for param in model.parameters():\n",
    "#     param.requires_grad = False\n",
    "\n",
    "model.fc = nn.Sequential(\n",
    "    nn.Linear(2048, HIDDEN_UNITS1),  # dense layer takes a 2048-dim input and outputs 100-dim\n",
    "    nn.ReLU(inplace=True),  # ReLU activation introduces non-linearity\n",
    "    nn.Dropout(DROPOUT_RATE),  # common technique to mitigate overfitting\n",
    "    nn.Linear(HIDDEN_UNITS1, NUM_CLASSES\n",
    "    ),  # final dense layer outputs 8-dim corresponding to our target classes\n",
    ")\n",
    "model = model.to(device)  # Move model to MPS device\n",
    "\n",
    "criterion = nn.CrossEntropyLoss()\n",
    "\n",
    "# # Define optimizer to only update the head's parameters\n",
    "# optimizer = optim.SGD(model.fc.parameters(), lr=LR, momentum=MOMENTUM)\n",
    "\n",
    "optimizer = optim.SGD(model.parameters(), lr=LR, momentum=MOMENTUM)"
   ]
  },
  {
   "cell_type": "markdown",
   "metadata": {},
   "source": [
    "#### Set up logging\n",
    "\n",
    "Looking for output: True."
   ]
  },
  {
   "cell_type": "code",
   "execution_count": 47,
   "metadata": {},
   "outputs": [
    {
     "data": {
      "text/plain": [
       "True"
      ]
     },
     "execution_count": 47,
     "metadata": {},
     "output_type": "execute_result"
    }
   ],
   "source": [
    "wandb.require()\n",
    "wandb.login()"
   ]
  },
  {
   "cell_type": "markdown",
   "metadata": {},
   "source": [
    "If you change the model or hyperparameters for experimentation, you will need to update the constants at the top of the notebook and feed the constants into the config file below. You'll need to use constants in the model too to be sure model and logs are synced. \n",
    "\n",
    "Keep `wandb.init(project=\"wildlife\")` to log to our shared project."
   ]
  },
  {
   "cell_type": "code",
   "execution_count": 48,
   "metadata": {},
   "outputs": [
    {
     "data": {
      "text/html": [
       "Tracking run with wandb version 0.18.7"
      ],
      "text/plain": [
       "<IPython.core.display.HTML object>"
      ]
     },
     "metadata": {},
     "output_type": "display_data"
    },
    {
     "data": {
      "text/html": [
       "Run data is saved locally in <code>/Users/evaball/Documents/CS_Projects/HomeWork/Gatech/wildlife/wandb/run-20241120_232830-w6pnn3ha</code>"
      ],
      "text/plain": [
       "<IPython.core.display.HTML object>"
      ]
     },
     "metadata": {},
     "output_type": "display_data"
    },
    {
     "data": {
      "text/html": [
       "Syncing run <strong><a href='https://wandb.ai/gball30-georgia-institute-of-technology/wildlife/runs/w6pnn3ha' target=\"_blank\">sleek-wave-22</a></strong> to <a href='https://wandb.ai/gball30-georgia-institute-of-technology/wildlife' target=\"_blank\">Weights & Biases</a> (<a href='https://wandb.me/developer-guide' target=\"_blank\">docs</a>)<br/>"
      ],
      "text/plain": [
       "<IPython.core.display.HTML object>"
      ]
     },
     "metadata": {},
     "output_type": "display_data"
    },
    {
     "data": {
      "text/html": [
       " View project at <a href='https://wandb.ai/gball30-georgia-institute-of-technology/wildlife' target=\"_blank\">https://wandb.ai/gball30-georgia-institute-of-technology/wildlife</a>"
      ],
      "text/plain": [
       "<IPython.core.display.HTML object>"
      ]
     },
     "metadata": {},
     "output_type": "display_data"
    },
    {
     "data": {
      "text/html": [
       " View run at <a href='https://wandb.ai/gball30-georgia-institute-of-technology/wildlife/runs/w6pnn3ha' target=\"_blank\">https://wandb.ai/gball30-georgia-institute-of-technology/wildlife/runs/w6pnn3ha</a>"
      ],
      "text/plain": [
       "<IPython.core.display.HTML object>"
      ]
     },
     "metadata": {},
     "output_type": "display_data"
    }
   ],
   "source": [
    "# ✨ W&B: Initialize a new run to track this model's training\n",
    "wandb.init(project=\"wildlife\")\n",
    "\n",
    "# ✨ W&B: Log anything we want to experiment with here\n",
    "cfg = wandb.config\n",
    "cfg.update({\"epochs\" : EPOCHS, \"batch_size\": BATCH_SIZE,\n",
    "            \"model\": \"ResNet50\", \"weights\": RESNET50_WEIGHTS,\n",
    "            \"hidden_units1\" : HIDDEN_UNITS1, \"dropout\": DROPOUT_RATE,\n",
    "            \"lr\": LR, \"momentum\": MOMENTUM,\n",
    "            \"train_transforms\": TRAIN_TRANSFORMS, \n",
    "            # num images being logged\n",
    "            \"img_count\" : min(50, NUM_IMAGES_PER_BATCH*NUM_BATCHES_TO_LOG)})\n",
    "\n"
   ]
  },
  {
   "cell_type": "code",
   "execution_count": 49,
   "metadata": {},
   "outputs": [],
   "source": [
    "def log_test_predictions(images, \n",
    "                         image_ids,\n",
    "                         labels, \n",
    "                         outputs, \n",
    "                         probs,\n",
    "                         predicted, \n",
    "                         test_table, \n",
    "                         counter):\n",
    "                        #  preds_collector):\n",
    "    \"\"\"\n",
    "    Log predictions, confidence scores, and true labels for a batch of test \n",
    "        images. Creating a table of results in W&B. It visualizes image \n",
    "        misclassifications.\n",
    "    Args:\n",
    "        images (torch.Tensor): Batch of test images.\n",
    "        image_ids (list): List of IDs corresponding to the test images.\n",
    "        labels (torch.Tensor): Ground-truth labels.\n",
    "        outputs (torch.Tensor): Model outputs (logits).\n",
    "        predicted (torch.Tensor): Predicted class indices.\n",
    "        test_table (wandb.Table): W&B Table to log predictions.\n",
    "        counter (int): Current count of images logged.\n",
    "    \"\"\"\n",
    "    # Obtain confidence scores for all classes\n",
    "    # scores = F.softmax(outputs.data, dim=1)\n",
    "    log_scores = probs.cpu().numpy()  # Convert to NumPy for logging\n",
    "    log_images = images.cpu().numpy()\n",
    "    log_labels = labels.argmax(axis=1).cpu().numpy()\n",
    "    log_preds = predicted.cpu().numpy()\n",
    "\n",
    "    # Add data to W&B table\n",
    "    for img, img_id, true_label, pred, conf_scores in zip(\n",
    "        log_images, image_ids, log_labels, log_preds, log_scores\n",
    "    ):\n",
    "        if counter >= cfg[\"img_count\"]:\n",
    "            break  # Stop logging once the limit is reached\n",
    "\n",
    "        # Convert image from [C, H, W] to [H, W, C]\n",
    "        img = img.transpose(1, 2, 0)\n",
    "        \n",
    "        # Add data to the W&B table\n",
    "        test_table.add_data(\n",
    "            img_id,              # Image_ID\n",
    "            wandb.Image(img),    # Image\n",
    "            pred,                # Predicted class\n",
    "            true_label,          # Ground-truth label\n",
    "            *conf_scores         # Confidence scores for all classes\n",
    "        )\n",
    "        counter += 1  # Increment the counter\n",
    "\n",
    "        # return preds_collector\n"
   ]
  },
  {
   "cell_type": "markdown",
   "metadata": {
    "id": "6XwuufhOMBwv"
   },
   "source": [
    "#### Set up training Loop\n",
    "We're now ready to train our model!\n",
    "\n",
    "We'll start simple and just run it for one epoch, but feel free to run it for more `num_epochs` if you've got the time. We hope to see a decreasing loss as training progresses, which will provide some evidence that the model is learning. Note that we haven't frozen any weights in the pretrained model, a choice which you may want to revisit and we discuss in a little more detail below.\n"
   ]
  },
  {
   "cell_type": "code",
   "execution_count": 50,
   "metadata": {},
   "outputs": [],
   "source": [
    "def train_one_epoch(model, train_loader, criterion, optimizer, epoch):\n",
    "    \"\"\"\n",
    "    Train the model for one epoch.\n",
    "\n",
    "    Args:\n",
    "        model (nn.Module): The model being trained.\n",
    "        train_loader (DataLoader): DataLoader for training data.\n",
    "        criterion (nn.Module): Loss function.\n",
    "        optimizer (Optimizer): Optimizer for training.\n",
    "        epoch (int): Current epoch number.\n",
    "        cfg (dict): W&B configuration.\n",
    "\n",
    "    Returns:\n",
    "        float: Average loss for all batches in the epoch. Summarizing how \n",
    "        the model is performing during this epoch\n",
    "    \"\"\"\n",
    "    print(f\"Starting training for epoch {epoch}\")\n",
    "    model.train()\n",
    "    total_loss = 0\n",
    "    # total_steps = len(train_loader) # num batches in loader\n",
    "    tracking_loss = []  # List to store loss for every batch\n",
    "\n",
    "    for batch_n, batch in enumerate(train_loader):\n",
    "        images = batch[\"image\"].to(device)\n",
    "        labels = batch[\"label\"].to(device)\n",
    "\n",
    "        # forward pass\n",
    "        outputs = model(images)\n",
    "        loss = criterion(outputs, labels)\n",
    "        total_loss += loss.item()\n",
    "        tracking_loss.append(loss.item())  # Store batch loss for tracking \n",
    "\n",
    "        # backward and optimize\n",
    "        optimizer.zero_grad()\n",
    "        loss.backward() # wrt\n",
    "        optimizer.step()\n",
    "\n",
    "        # ✨ W&B: Log loss over training steps, visualized in the UI live\n",
    "        wandb.log({\"loss\" : loss, \"epoch\": epoch,})\n",
    "\n",
    "        # Print progress every 100 batches\n",
    "        if (batch_n + 1 ) % 100 == 0: \n",
    "            print ('Epoch [{}/{}], Step [{}/{}], Loss: {:.4f}'\n",
    "                .format(epoch+1, EPOCHS, batch_n+1, len(train_loader), loss.item()))\n",
    "            \n",
    "    avg_loss = total_loss / len(train_loader)\n",
    "    return avg_loss, tracking_loss\n",
    "                "
   ]
  },
  {
   "cell_type": "markdown",
   "metadata": {},
   "source": [
    "#### Set up Evaluation Loop"
   ]
  },
  {
   "cell_type": "code",
   "execution_count": 51,
   "metadata": {},
   "outputs": [],
   "source": [
    "def evaluate(model, val_loader, criterion, log_counter):\n",
    "    \"\"\"\n",
    "    Evaluate the model on a test/validation dataset.\n",
    "\n",
    "    Args:\n",
    "        model (nn.Module): The model to evaluate.\n",
    "        test_loader (DataLoader): DataLoader for test data.\n",
    "        criterion (nn.Module): Loss function.\n",
    "        cfg (dict): W&B configuration.\n",
    "\n",
    "    Returns:\n",
    "        dict: Metrics including accuracy and average loss.\n",
    "    \"\"\"\n",
    "    model.eval()\n",
    "    total_loss = 0\n",
    "    correct = 0\n",
    "    total = 0\n",
    "    log_counter = 0\n",
    "\n",
    "    # Collect all predictions and labels for metric calculations\n",
    "    all_preds = []\n",
    "    all_labels = []\n",
    "\n",
    "    # ✨ Initialize the W&B table\n",
    "    test_table = wandb.Table(columns=[\n",
    "        \"image_id\", \"image\", \"predicted\", \"true_label\",\n",
    "        \"score_antelope_duiker\", \"score_bird\", \"score_blank\",\n",
    "        \"score_civet_genet\", \"score_hog\", \"score_leopard\",\n",
    "        \"score_monkey_prosimian\", \"score_rodent\"\n",
    "    ])\n",
    "    \n",
    "    with torch.no_grad():\n",
    "        for batch_n, batch in enumerate(val_loader):\n",
    "            images = batch[\"image\"].to(device)\n",
    "            labels = batch[\"label\"].to(device)\n",
    "            image_ids = batch[\"image_id\"]\n",
    "\n",
    "            # forward pass\n",
    "            outputs = model(images)\n",
    "            probs = F.softmax(outputs, dim=1)  # For logging\n",
    "\n",
    "            loss = criterion(outputs, labels)\n",
    "            total_loss += loss.item()\n",
    "\n",
    "            _, predicted = torch.max(outputs, dim=1) \n",
    "            correct += (predicted == labels.argmax(dim=1)).sum().item()\n",
    "            total += labels.size(0)\n",
    "\n",
    "            # Store predictions and labels for metrics\n",
    "            all_preds.extend(predicted.cpu().numpy())\n",
    "            all_labels.extend(labels.argmax(dim=1).cpu().numpy())  # Convert one-hot to class indices\n",
    "            \n",
    "\n",
    "            # Log predictions (only log a limited number of batches)\n",
    "            if batch_n < NUM_BATCHES_TO_LOG:\n",
    "                log_test_predictions(images, image_ids, labels, \n",
    "                                     outputs,probs, predicted, \n",
    "                                     test_table,log_counter)\n",
    "                log_counter += 1\n",
    "\n",
    "    # Calculate metrics\n",
    "    acc = 100 * correct / total\n",
    "    avg_loss = total_loss / len(val_loader)\n",
    "    precision = precision_score(all_labels, all_preds, average=\"weighted\")\n",
    "    recall = recall_score(all_labels, all_preds, average=\"weighted\")\n",
    "    f1 = f1_score(all_labels, all_preds, average=\"weighted\")\n",
    "    macro_f1 = f1_score(all_labels, all_preds, average=\"macro\")\n",
    "    conf_matrix = confusion_matrix(all_labels, all_preds)\n",
    "\n",
    "    # ✨ Log metrics to W&B\n",
    "    wandb.log({\n",
    "        \"eval_loss\": avg_loss,\n",
    "        \"eval_accuracy\": acc,\n",
    "        \"eval_precision\": precision,\n",
    "        \"eval_recall\": recall,\n",
    "        \"eval_f1\": f1,\n",
    "        \"eval_macro_f1\": macro_f1,\n",
    "        \"confusion_matrix\": wandb.plot.confusion_matrix(\n",
    "            probs=None,\n",
    "            y_true=all_labels,\n",
    "            preds=all_preds,\n",
    "            class_names=[\n",
    "                \"antelope_duiker\", \"bird\", \"blank\", \"civet_genet\", \n",
    "                \"hog\", \"leopard\", \"monkey_prosimian\", \"rodent\"\n",
    "            ]\n",
    "        )\n",
    "    })\n",
    "\n",
    "    wandb.log({\"test_predictions\": test_table})\n",
    "        \n",
    "    print(f\"Evaluation - Loss: {avg_loss:.4f}, Accuracy: {acc:.2f}%, Precision: {precision:.2f}, Recall: {recall:.2f}, F1: {f1:.2f}\")\n",
    "    \n",
    "    return {\n",
    "        \"loss\": avg_loss,\n",
    "        \"accuracy\": acc,\n",
    "        \"precision\": precision,\n",
    "        \"recall\": recall,\n",
    "        \"f1\": f1,\n",
    "        \"macro_f1\": macro_f1,\n",
    "        \"confusion_matrix\": conf_matrix,\n",
    "        \"all_preds\": all_preds,\n",
    "        \"all_labels\": all_labels\n",
    "    }"
   ]
  },
  {
   "cell_type": "markdown",
   "metadata": {},
   "source": [
    "#### Run the Train and Eval Blocks"
   ]
  },
  {
   "cell_type": "code",
   "execution_count": 52,
   "metadata": {},
   "outputs": [
    {
     "name": "stdout",
     "output_type": "stream",
     "text": [
      "Starting training for epoch 0\n",
      "Epoch [1/5], Step [100/412], Loss: 1.9744\n",
      "Epoch [1/5], Step [200/412], Loss: 1.8596\n",
      "Epoch [1/5], Step [300/412], Loss: 1.7421\n",
      "Epoch [1/5], Step [400/412], Loss: 1.5845\n",
      "Epoch 1/5 - Avg Train Loss: 1.7905\n"
     ]
    },
    {
     "name": "stderr",
     "output_type": "stream",
     "text": [
      "/Users/evaball/opt/miniconda3/envs/mlflow/lib/python3.12/site-packages/sklearn/metrics/_classification.py:1531: UndefinedMetricWarning: Precision is ill-defined and being set to 0.0 in labels with no predicted samples. Use `zero_division` parameter to control this behavior.\n",
      "  _warn_prf(average, modifier, f\"{metric.capitalize()} is\", len(result))\n"
     ]
    },
    {
     "name": "stdout",
     "output_type": "stream",
     "text": [
      "Evaluation - Loss: 1.6458, Accuracy: 35.91%, Precision: 0.30, Recall: 0.36, F1: 0.25\n",
      "Epoch 1/5 - Eval Loss: 1.6458, Eval Acc: 35.91%\n",
      "Starting training for epoch 1\n",
      "Epoch [2/5], Step [100/412], Loss: 1.1949\n",
      "Epoch [2/5], Step [200/412], Loss: 1.3179\n",
      "Epoch [2/5], Step [300/412], Loss: 1.5091\n",
      "Epoch [2/5], Step [400/412], Loss: 1.4603\n",
      "Epoch 2/5 - Avg Train Loss: 1.3616\n",
      "Evaluation - Loss: 1.4763, Accuracy: 41.45%, Precision: 0.40, Recall: 0.41, F1: 0.38\n",
      "Epoch 2/5 - Eval Loss: 1.4763, Eval Acc: 41.45%\n",
      "Starting training for epoch 2\n",
      "Epoch [3/5], Step [100/412], Loss: 1.2623\n",
      "Epoch [3/5], Step [200/412], Loss: 0.9350\n",
      "Epoch [3/5], Step [300/412], Loss: 1.0661\n",
      "Epoch [3/5], Step [400/412], Loss: 0.8081\n",
      "Epoch 3/5 - Avg Train Loss: 1.1044\n",
      "Evaluation - Loss: 1.3318, Accuracy: 46.97%, Precision: 0.50, Recall: 0.47, F1: 0.46\n",
      "Epoch 3/5 - Eval Loss: 1.3318, Eval Acc: 46.97%\n",
      "Starting training for epoch 3\n",
      "Epoch [4/5], Step [100/412], Loss: 1.1164\n",
      "Epoch [4/5], Step [200/412], Loss: 0.8852\n",
      "Epoch [4/5], Step [300/412], Loss: 0.8087\n",
      "Epoch [4/5], Step [400/412], Loss: 0.7941\n",
      "Epoch 4/5 - Avg Train Loss: 0.8594\n",
      "Evaluation - Loss: 1.2811, Accuracy: 52.37%, Precision: 0.55, Recall: 0.52, F1: 0.53\n",
      "Epoch 4/5 - Eval Loss: 1.2811, Eval Acc: 52.37%\n",
      "Starting training for epoch 4\n",
      "Epoch [5/5], Step [100/412], Loss: 0.6638\n",
      "Epoch [5/5], Step [200/412], Loss: 0.8514\n",
      "Epoch [5/5], Step [300/412], Loss: 0.6524\n",
      "Epoch [5/5], Step [400/412], Loss: 0.7196\n",
      "Epoch 5/5 - Avg Train Loss: 0.7016\n",
      "Evaluation - Loss: 1.3653, Accuracy: 52.37%, Precision: 0.55, Recall: 0.52, F1: 0.52\n",
      "Epoch 5/5 - Eval Loss: 1.3653, Eval Acc: 52.37%\n"
     ]
    }
   ],
   "source": [
    "log_counter = 0\n",
    "tracking_loss_all = []\n",
    "train_losses = []  # To store average training loss per epoch\n",
    "val_losses = []    # To store validation loss per epoch\n",
    "\n",
    "for epoch in range(EPOCHS):\n",
    "    #Training step\n",
    "    avg_train_loss, tracking_loss = train_one_epoch(model, \n",
    "                                     train_loader, \n",
    "                                     criterion, \n",
    "                                     optimizer, \n",
    "                                     epoch)\n",
    "    tracking_loss_all.extend(tracking_loss)  # Append to global list\n",
    "    train_losses.append(avg_train_loss)  # Store avg training loss\n",
    "    print(f\"Epoch {epoch+1}/{cfg['epochs']} - Avg Train Loss: {\n",
    "        avg_train_loss:.4f}\")\n",
    "    \n",
    "    # Evaluation step\n",
    "    eval_metrics = evaluate(model, val_loader, criterion, log_counter)\n",
    "    val_losses.append(eval_metrics[\"loss\"])  # Store validation loss\n",
    "    print(f\"Epoch {epoch+1}/{cfg['epochs']} - Eval Loss: {\n",
    "        eval_metrics['loss']:.4f}, Eval Acc: {eval_metrics['accuracy']:.2f}%\")\n"
   ]
  },
  {
   "cell_type": "markdown",
   "metadata": {},
   "source": [
    "Finish logging if you are done evaluation the model, but if you plan to run the rest of the notebook don't finish until the end so you can log everything below including the score."
   ]
  },
  {
   "cell_type": "code",
   "execution_count": null,
   "metadata": {},
   "outputs": [],
   "source": [
    "# ✨ W&B: Mark the run as complete (Or wait until the end of notebook)\n",
    "wandb.finish()"
   ]
  },
  {
   "cell_type": "code",
   "execution_count": 53,
   "metadata": {},
   "outputs": [
    {
     "data": {
      "image/png": "[encoded data removed]",
      "text/plain": [
       "<Figure size 1000x600 with 1 Axes>"
      ]
     },
     "metadata": {},
     "output_type": "display_data"
    }
   ],
   "source": [
    "plt.figure(figsize=(10, 6))\n",
    "plt.plot(range(1, EPOCHS + 1), train_losses, label=\"Training Loss\", marker=\"o\")\n",
    "plt.plot(range(1, EPOCHS + 1), val_losses, label=\"Validation Loss\", marker=\"o\")\n",
    "plt.xlabel(\"Epochs\")\n",
    "plt.ylabel(\"Loss\")\n",
    "plt.title(\"Learning Curve\")\n",
    "plt.legend()\n",
    "plt.grid(True)\n",
    "plt.show()"
   ]
  },
  {
   "cell_type": "markdown",
   "metadata": {
    "id": "Zl7bVTmFMBwv"
   },
   "source": [
    "Now let's plot the loss by epoch and batch. The x-axis here is a tuple of `(epoch, batch)`."
   ]
  },
  {
   "cell_type": "code",
   "execution_count": 54,
   "metadata": {},
   "outputs": [
    {
     "data": {
      "image/png": "[encoded data removed]",
      "text/plain": [
       "<Figure size 1000x500 with 1 Axes>"
      ]
     },
     "metadata": {},
     "output_type": "display_data"
    }
   ],
   "source": [
    "# Convert tracking_loss to a pandas Series for convenient rolling average\n",
    "tracking_loss_series = pd.Series(tracking_loss_all)\n",
    "\n",
    "# Plot\n",
    "plt.figure(figsize=(10, 5))\n",
    "tracking_loss_series.plot(alpha=0.2, label=\"Batch Loss\")\n",
    "tracking_loss_series.rolling(center=True, min_periods=1, window=10).mean().plot(\n",
    "    label=\"Loss (Moving Avg)\", linewidth=2\n",
    ")\n",
    "plt.xlabel(\"(Epoch, Batch)\")\n",
    "plt.ylabel(\"Loss\")\n",
    "plt.title(\"Batch Loss During Training\")\n",
    "plt.legend(loc=\"upper right\")\n",
    "plt.show()"
   ]
  },
  {
   "cell_type": "markdown",
   "metadata": {
    "id": "hp95JZH-MBwv"
   },
   "source": [
    "Good news, the loss is going down! This is an encouraging start, especially since we haven't done anything fancy yet.\n",
    "\n",
    "Note: In this version of the benchmark, the loss reaches 1.85 with the different randomness and params warning. The benchmark from the competition reaches 1.3. That is surprising."
   ]
  },
  {
   "cell_type": "code",
   "execution_count": null,
   "metadata": {
    "id": "ByNFrKQtMBwv"
   },
   "outputs": [],
   "source": [
    "# torch.save(model, \"model.pth\")"
   ]
  },
  {
   "cell_type": "markdown",
   "metadata": {
    "id": "jVxXyhglMBww",
    "tags": []
   },
   "source": [
    "### Predicted labels distribution\n",
    "First let's review the species distribution we saw in the training set."
   ]
  },
  {
   "cell_type": "code",
   "execution_count": 55,
   "metadata": {
    "colab": {
     "base_uri": "https://localhost:8080/",
     "height": 352
    },
    "id": "mroK41PCMBww",
    "outputId": "8743d2d9-e5a9-4d0f-eb8d-55b7101e6f5b"
   },
   "outputs": [
    {
     "name": "stdout",
     "output_type": "stream",
     "text": [
      "True labels (training):\n"
     ]
    },
    {
     "data": {
      "text/plain": [
       "civet_genet         2055\n",
       "monkey_prosimian    1959\n",
       "antelope_duiker     1867\n",
       "leopard             1859\n",
       "blank               1800\n",
       "rodent              1535\n",
       "bird                1324\n",
       "hog                  772\n",
       "Name: count, dtype: int64"
      ]
     },
     "execution_count": 55,
     "metadata": {},
     "output_type": "execute_result"
    }
   ],
   "source": [
    "print(\"True labels (training):\")\n",
    "y_train.idxmax(axis=1).value_counts()"
   ]
  },
  {
   "cell_type": "code",
   "execution_count": 56,
   "metadata": {},
   "outputs": [
    {
     "name": "stdout",
     "output_type": "stream",
     "text": [
      "Predicted labels (eval):\n",
      "predicted_label\n",
      "monkey_prosimian    903\n",
      "blank               548\n",
      "civet_genet         484\n",
      "antelope_duiker     412\n",
      "leopard             362\n",
      "rodent              297\n",
      "bird                168\n",
      "hog                 143\n",
      "Name: count, dtype: int64\n",
      "\n",
      "True labels (eval):\n",
      "true_label\n",
      "antelope_duiker     607\n",
      "monkey_prosimian    533\n",
      "rodent              478\n",
      "blank               413\n",
      "leopard             395\n",
      "civet_genet         368\n",
      "bird                317\n",
      "hog                 206\n",
      "Name: count, dtype: int64\n"
     ]
    }
   ],
   "source": [
    "# Extract predictions and true labels from eval_metrics\n",
    "all_preds = eval_metrics[\"all_preds\"]\n",
    "all_labels = eval_metrics[\"all_labels\"]\n",
    "\n",
    "# Convert all_preds to DataFrame and map to class names\n",
    "preds_df = pd.DataFrame(all_preds, columns=[\"predicted_class\"])\n",
    "preds_df[\"predicted_label\"] = preds_df[\"predicted_class\"].map(\n",
    "    lambda idx: species_labels[idx]\n",
    ")\n",
    "\n",
    "# Convert all_labels to DataFrame and map to class names\n",
    "labels_df = pd.DataFrame(all_labels, columns=[\"true_class\"])\n",
    "labels_df[\"true_label\"] = labels_df[\"true_class\"].map(\n",
    "    lambda idx: species_labels[idx]\n",
    ")\n",
    "\n",
    "# Combine predictions and true labels for analysis\n",
    "results_df = pd.concat([preds_df, labels_df], axis=1)\n",
    "\n",
    "# Display value counts for predicted and true labels\n",
    "print(\"Predicted labels (eval):\")\n",
    "print(results_df[\"predicted_label\"].value_counts())\n",
    "\n",
    "print(\"\\nTrue labels (eval):\")\n",
    "print(results_df[\"true_label\"].value_counts())"
   ]
  },
  {
   "cell_type": "markdown",
   "metadata": {
    "id": "tu2sSN7IMBww"
   },
   "source": [
    "### Accuracy\n",
    "Now let's compute how accurate our model is and compare that against some trivial baseline models. First let's get the labels with the highest score for each image."
   ]
  },
  {
   "cell_type": "markdown",
   "metadata": {
    "id": "BN_v3KrmMBww"
   },
   "source": [
    "Random guessing across 8 classes would yield an accuracy of 12.5% (1/8). But we could construct a slightly better trivial model by always guessing the most common class (\"monkey_prosimian\" images in this case).\n",
    "\n",
    "If we were to always guess that an image is `monkey_prosimian`, we could achieve accuracy of 15.8%."
   ]
  },
  {
   "cell_type": "code",
   "execution_count": 58,
   "metadata": {
    "colab": {
     "base_uri": "https://localhost:8080/"
    },
    "id": "AqHjEQQEMBww",
    "outputId": "24d44f60-984b-43ee-f8aa-86af6fc568c2"
   },
   "outputs": [
    {
     "name": "stdout",
     "output_type": "stream",
     "text": [
      "Benchmark Accuracy (always guessing 'monkey_prosimian'): 0.1607\n"
     ]
    }
   ],
   "source": [
    "# Convert all_labels (true labels) to their class names\n",
    "eval_true = pd.Series(all_labels).apply(lambda x: species_labels[x])\n",
    "\n",
    "# Simulate always guessing \"monkey_prosimian\"\n",
    "monkey_predictions = pd.Series(\"monkey_prosimian\", index=eval_true.index)\n",
    "\n",
    "# Compute the accuracy of always predicting \"monkey_prosimian\"\n",
    "benchmark_accuracy = (eval_true == monkey_predictions).sum() / len(monkey_predictions)\n",
    "\n",
    "print(f\"Benchmark Accuracy (always guessing 'monkey_prosimian'): {benchmark_accuracy:.4f}\")\n"
   ]
  },
  {
   "cell_type": "code",
   "execution_count": 59,
   "metadata": {},
   "outputs": [
    {
     "name": "stdout",
     "output_type": "stream",
     "text": [
      "Model Accuracy: 0.5237\n"
     ]
    }
   ],
   "source": [
    "\n",
    "eval_predictions = pd.Series(all_preds).apply(lambda x: species_labels[x])\n",
    "\n",
    "# Calculate model accuracy\n",
    "model_accuracy = (eval_predictions == eval_true).sum() / len(eval_true)\n",
    "\n",
    "# Print results\n",
    "print(f\"Model Accuracy: {model_accuracy:.4f}\")\n"
   ]
  },
  {
   "cell_type": "code",
   "execution_count": 60,
   "metadata": {},
   "outputs": [
    {
     "name": "stdout",
     "output_type": "stream",
     "text": [
      "Per-Class Accuracy:\n",
      "true_label\n",
      "antelope_duiker     0.423394\n",
      "bird                0.268139\n",
      "blank               0.476998\n",
      "civet_genet         0.676630\n",
      "hog                 0.475728\n",
      "leopard             0.668354\n",
      "monkey_prosimian    0.793621\n",
      "rodent              0.343096\n",
      "dtype: float64\n"
     ]
    },
    {
     "name": "stderr",
     "output_type": "stream",
     "text": [
      "/var/folders/f9/_qvc3zsj1sg4_558kbgxv0d00000gn/T/ipykernel_14036/3003157961.py:2: DeprecationWarning: DataFrameGroupBy.apply operated on the grouping columns. This behavior is deprecated, and in a future version of pandas the grouping columns will be excluded from the operation. Either pass `include_groups=False` to exclude the groupings or explicitly select the grouping columns after groupby to silence this warning.\n",
      "  per_class_accuracy = results_df.groupby(\"true_label\").apply(\n"
     ]
    }
   ],
   "source": [
    "# accuracy per class\n",
    "per_class_accuracy = results_df.groupby(\"true_label\").apply(\n",
    "    lambda x: (x[\"true_label\"] == x[\"predicted_label\"]).mean()\n",
    ")\n",
    "print(\"Per-Class Accuracy:\")\n",
    "print(per_class_accuracy)\n"
   ]
  },
  {
   "cell_type": "markdown",
   "metadata": {
    "id": "rx4Q6fugMBww"
   },
   "source": [
    "Let's look at the predictions from another angle.\n",
    "\n",
    "We can see from the confusion matrix below that our model does reasonably well on some species, but we have plenty of room for improvement on antelopes, birds, hogs and blanks."
   ]
  },
  {
   "cell_type": "code",
   "execution_count": 61,
   "metadata": {},
   "outputs": [
    {
     "data": {
      "image/png": "[encoded data removed]",
      "text/plain": [
       "<Figure size 1000x1000 with 2 Axes>"
      ]
     },
     "metadata": {},
     "output_type": "display_data"
    }
   ],
   "source": [
    "from sklearn.metrics import ConfusionMatrixDisplay\n",
    "\n",
    "# Convert predictions to species names\n",
    "\n",
    "\n",
    "# Plot confusion matrix\n",
    "fig, ax = plt.subplots(figsize=(10, 10))\n",
    "cm = ConfusionMatrixDisplay.from_predictions(\n",
    "    eval_true,\n",
    "    eval_predictions,\n",
    "    ax=ax,\n",
    "    xticks_rotation=90,\n",
    "    colorbar=True,\n",
    ")\n",
    "plt.show()\n"
   ]
  },
  {
   "cell_type": "markdown",
   "metadata": {
    "id": "8suCHLTEMBww"
   },
   "source": [
    "That's where you come in! What can you do to improve on this benchmark?\n",
    "\n",
    "Here are some ideas you might want to try:\n",
    "* Train for more epochs. We've only done 1 so far.\n",
    "* Try another pretrained model. For example, you may have more success with EfficientNet, or another ResNet model with more layers like ResNet152. See what's available from pytorch [here](https://pytorch.org/vision/stable/models.html). You may also want to review which models are or have been state of the art for image classification tasks, for example on [paperswithcode.com](https://paperswithcode.com/task/image-classification). Keep in mind that different models will require different input and output dimensions, so you'll need to update how you construct `model` above.\n",
    "* Experiment with different loss functions.\n",
    "* Experiment with different learning rates or learning rate schedulers.\n",
    "* Add more layers to the model head (`model.fc`).\n",
    "* You also may want to consider freezing the weights in the backbone model and only training the head (`model.fc`). If this results in higher accuracy, that suggests the current approach may be overwriting the backbone weights in a problematic way. One approach here would be to train just the model head, and then unfreeze the backbone but train at a lower learning rate.\n",
    "* As you become more comfortable iterating through different versions of the model, you may want to try out [PyTorch Lightning](https://www.pytorchlightning.ai/) or [Lightning Flash](https://lightning-flash.readthedocs.io/en/latest/quickstart.html), which build upon PyTorch and eliminate a lot of boilerplate code, in addition to providing a more complete research framework for deep learning problems."
   ]
  },
  {
   "cell_type": "markdown",
   "metadata": {
    "id": "dg9QTTxKMBwx"
   },
   "source": [
    "## 8. Create submission"
   ]
  },
  {
   "cell_type": "markdown",
   "metadata": {
    "id": "76a6DRx_MBwx"
   },
   "source": [
    "Last but not least, we'll want to participate in the competition and see where we stand on the leaderboard.\n",
    "\n",
    "To do this we need to create predictions for the **competition test set** (not the eval set we used above). You don't have labels for these.\n",
    "\n",
    "We'll create predictions in the same way we did for the `eval` set, but this time using the `test_features` we downloaded from the [competition website](https://www.drivendata.org/competitions/87/competition-image-classification-wildlife-conservation/data/)."
   ]
  },
  {
   "cell_type": "code",
   "execution_count": null,
   "metadata": {
    "id": "X83p0e6kMBwx"
   },
   "outputs": [],
   "source": [
    "# test_dataset = ImagesDataset(test_features.filepath.to_frame())\n",
    "# test_dataloader = DataLoader(test_dataset, batch_size=32)"
   ]
  },
  {
   "cell_type": "code",
   "execution_count": 62,
   "metadata": {},
   "outputs": [],
   "source": [
    "test_dataset = ImagesDataset(\n",
    "    test_features, \n",
    "    transform=val_transform, \n",
    "    device=device)\n",
    "\n",
    "# Create DataLoaders\n",
    "\n",
    "test_loader = DataLoader(\n",
    "    test_dataset, \n",
    "    batch_size=BATCH_SIZE, \n",
    "    shuffle=False, pin_memory=True)"
   ]
  },
  {
   "cell_type": "code",
   "execution_count": 63,
   "metadata": {},
   "outputs": [
    {
     "name": "stdout",
     "output_type": "stream",
     "text": [
      "Test set: 4464 samples\n"
     ]
    }
   ],
   "source": [
    "print(f\"Test set: {len(test_dataset)} samples\")"
   ]
  },
  {
   "cell_type": "code",
   "execution_count": 64,
   "metadata": {
    "colab": {
     "base_uri": "https://localhost:8080/",
     "height": 461
    },
    "id": "yz08YKCrMBwx",
    "outputId": "6a79bdbb-ebff-4dd5-c21b-d7710c68ceb4"
   },
   "outputs": [],
   "source": [
    "test_preds_collector = []\n",
    "\n",
    "# put the model in eval mode so we don't update any parameters\n",
    "model.eval()\n",
    "\n",
    "# we aren't updating our weights so no need to calculate gradients\n",
    "with torch.no_grad():\n",
    "    for batch_n, batch in enumerate(test_loader):\n",
    "        # run the forward step\n",
    "        images = batch[\"image\"].to(device)\n",
    "        logits = model(images)\n",
    "\n",
    "        # apply softmax so that model outputs are in range [0,1]\n",
    "        preds = F.softmax(logits, dim=1)\n",
    "\n",
    "        # store this batch's predictions in df\n",
    "        # note that PyTorch Tensors need to first be detached from their computational graph before converting to numpy arrays\n",
    "        preds_df = pd.DataFrame(\n",
    "            preds.cpu().numpy(),\n",
    "            index=batch[\"image_id\"],\n",
    "            columns=species_labels,\n",
    "        )\n",
    "        test_preds_collector.append(preds_df)\n",
    "\n",
    "submission_df = pd.concat(test_preds_collector)\n"
   ]
  },
  {
   "cell_type": "code",
   "execution_count": 65,
   "metadata": {},
   "outputs": [
    {
     "data": {
      "text/html": [
       "<div>\n",
       "<style scoped>\n",
       "    .dataframe tbody tr th:only-of-type {\n",
       "        vertical-align: middle;\n",
       "    }\n",
       "\n",
       "    .dataframe tbody tr th {\n",
       "        vertical-align: top;\n",
       "    }\n",
       "\n",
       "    .dataframe thead th {\n",
       "        text-align: right;\n",
       "    }\n",
       "</style>\n",
       "<table border=\"1\" class=\"dataframe\">\n",
       "  <thead>\n",
       "    <tr style=\"text-align: right;\">\n",
       "      <th></th>\n",
       "      <th>antelope_duiker</th>\n",
       "      <th>bird</th>\n",
       "      <th>blank</th>\n",
       "      <th>civet_genet</th>\n",
       "      <th>hog</th>\n",
       "      <th>leopard</th>\n",
       "      <th>monkey_prosimian</th>\n",
       "      <th>rodent</th>\n",
       "    </tr>\n",
       "    <tr>\n",
       "      <th>id</th>\n",
       "      <th></th>\n",
       "      <th></th>\n",
       "      <th></th>\n",
       "      <th></th>\n",
       "      <th></th>\n",
       "      <th></th>\n",
       "      <th></th>\n",
       "      <th></th>\n",
       "    </tr>\n",
       "  </thead>\n",
       "  <tbody>\n",
       "    <tr>\n",
       "      <th>ZJ016488</th>\n",
       "      <td>0.048686</td>\n",
       "      <td>0.001447</td>\n",
       "      <td>0.230780</td>\n",
       "      <td>0.095001</td>\n",
       "      <td>0.014133</td>\n",
       "      <td>0.595671</td>\n",
       "      <td>0.002747</td>\n",
       "      <td>0.011536</td>\n",
       "    </tr>\n",
       "    <tr>\n",
       "      <th>ZJ016489</th>\n",
       "      <td>0.616508</td>\n",
       "      <td>0.044786</td>\n",
       "      <td>0.030354</td>\n",
       "      <td>0.023032</td>\n",
       "      <td>0.149089</td>\n",
       "      <td>0.011544</td>\n",
       "      <td>0.099801</td>\n",
       "      <td>0.024886</td>\n",
       "    </tr>\n",
       "    <tr>\n",
       "      <th>ZJ016490</th>\n",
       "      <td>0.432758</td>\n",
       "      <td>0.014618</td>\n",
       "      <td>0.099790</td>\n",
       "      <td>0.304343</td>\n",
       "      <td>0.056257</td>\n",
       "      <td>0.019484</td>\n",
       "      <td>0.023995</td>\n",
       "      <td>0.048755</td>\n",
       "    </tr>\n",
       "    <tr>\n",
       "      <th>ZJ016491</th>\n",
       "      <td>0.000000</td>\n",
       "      <td>0.000000</td>\n",
       "      <td>0.000010</td>\n",
       "      <td>0.000000</td>\n",
       "      <td>0.000000</td>\n",
       "      <td>0.999990</td>\n",
       "      <td>0.000000</td>\n",
       "      <td>0.000000</td>\n",
       "    </tr>\n",
       "    <tr>\n",
       "      <th>ZJ016492</th>\n",
       "      <td>0.292243</td>\n",
       "      <td>0.118125</td>\n",
       "      <td>0.230700</td>\n",
       "      <td>0.004349</td>\n",
       "      <td>0.025938</td>\n",
       "      <td>0.002462</td>\n",
       "      <td>0.230531</td>\n",
       "      <td>0.095651</td>\n",
       "    </tr>\n",
       "    <tr>\n",
       "      <th>...</th>\n",
       "      <td>...</td>\n",
       "      <td>...</td>\n",
       "      <td>...</td>\n",
       "      <td>...</td>\n",
       "      <td>...</td>\n",
       "      <td>...</td>\n",
       "      <td>...</td>\n",
       "      <td>...</td>\n",
       "    </tr>\n",
       "    <tr>\n",
       "      <th>ZJ020947</th>\n",
       "      <td>0.144733</td>\n",
       "      <td>0.013775</td>\n",
       "      <td>0.722622</td>\n",
       "      <td>0.001375</td>\n",
       "      <td>0.019008</td>\n",
       "      <td>0.015853</td>\n",
       "      <td>0.071588</td>\n",
       "      <td>0.011045</td>\n",
       "    </tr>\n",
       "    <tr>\n",
       "      <th>ZJ020948</th>\n",
       "      <td>0.287168</td>\n",
       "      <td>0.041882</td>\n",
       "      <td>0.426830</td>\n",
       "      <td>0.003143</td>\n",
       "      <td>0.007469</td>\n",
       "      <td>0.030302</td>\n",
       "      <td>0.173164</td>\n",
       "      <td>0.030043</td>\n",
       "    </tr>\n",
       "    <tr>\n",
       "      <th>ZJ020949</th>\n",
       "      <td>0.088131</td>\n",
       "      <td>0.000302</td>\n",
       "      <td>0.251507</td>\n",
       "      <td>0.489464</td>\n",
       "      <td>0.047111</td>\n",
       "      <td>0.031740</td>\n",
       "      <td>0.001067</td>\n",
       "      <td>0.090678</td>\n",
       "    </tr>\n",
       "    <tr>\n",
       "      <th>ZJ020950</th>\n",
       "      <td>0.208723</td>\n",
       "      <td>0.006906</td>\n",
       "      <td>0.012326</td>\n",
       "      <td>0.000267</td>\n",
       "      <td>0.162475</td>\n",
       "      <td>0.007272</td>\n",
       "      <td>0.599895</td>\n",
       "      <td>0.002136</td>\n",
       "    </tr>\n",
       "    <tr>\n",
       "      <th>ZJ020951</th>\n",
       "      <td>0.002535</td>\n",
       "      <td>0.000764</td>\n",
       "      <td>0.010832</td>\n",
       "      <td>0.001234</td>\n",
       "      <td>0.000755</td>\n",
       "      <td>0.981831</td>\n",
       "      <td>0.000643</td>\n",
       "      <td>0.001406</td>\n",
       "    </tr>\n",
       "  </tbody>\n",
       "</table>\n",
       "<p>4464 rows × 8 columns</p>\n",
       "</div>"
      ],
      "text/plain": [
       "          antelope_duiker      bird     blank  civet_genet       hog  \\\n",
       "id                                                                     \n",
       "ZJ016488         0.048686  0.001447  0.230780     0.095001  0.014133   \n",
       "ZJ016489         0.616508  0.044786  0.030354     0.023032  0.149089   \n",
       "ZJ016490         0.432758  0.014618  0.099790     0.304343  0.056257   \n",
       "ZJ016491         0.000000  0.000000  0.000010     0.000000  0.000000   \n",
       "ZJ016492         0.292243  0.118125  0.230700     0.004349  0.025938   \n",
       "...                   ...       ...       ...          ...       ...   \n",
       "ZJ020947         0.144733  0.013775  0.722622     0.001375  0.019008   \n",
       "ZJ020948         0.287168  0.041882  0.426830     0.003143  0.007469   \n",
       "ZJ020949         0.088131  0.000302  0.251507     0.489464  0.047111   \n",
       "ZJ020950         0.208723  0.006906  0.012326     0.000267  0.162475   \n",
       "ZJ020951         0.002535  0.000764  0.010832     0.001234  0.000755   \n",
       "\n",
       "           leopard  monkey_prosimian    rodent  \n",
       "id                                              \n",
       "ZJ016488  0.595671          0.002747  0.011536  \n",
       "ZJ016489  0.011544          0.099801  0.024886  \n",
       "ZJ016490  0.019484          0.023995  0.048755  \n",
       "ZJ016491  0.999990          0.000000  0.000000  \n",
       "ZJ016492  0.002462          0.230531  0.095651  \n",
       "...            ...               ...       ...  \n",
       "ZJ020947  0.015853          0.071588  0.011045  \n",
       "ZJ020948  0.030302          0.173164  0.030043  \n",
       "ZJ020949  0.031740          0.001067  0.090678  \n",
       "ZJ020950  0.007272          0.599895  0.002136  \n",
       "ZJ020951  0.981831          0.000643  0.001406  \n",
       "\n",
       "[4464 rows x 8 columns]"
      ]
     },
     "execution_count": 65,
     "metadata": {},
     "output_type": "execute_result"
    }
   ],
   "source": [
    "# Add 'id' as the index name\n",
    "submission_df.index.name = 'id'\n",
    "submission_df = submission_df.round(6)\n",
    "submission_df"
   ]
  },
  {
   "cell_type": "markdown",
   "metadata": {
    "id": "Cf7PXcg8MBwx"
   },
   "source": [
    "Let's check a couple things on `submission_df` before submitting to the platform. We'll want to make sure our submission's index and column labels match the submission format. (The DrivenData platform will do these data integrity checks as well, but it will be quicker to detect problems this way.)"
   ]
  },
  {
   "cell_type": "code",
   "execution_count": 66,
   "metadata": {
    "id": "-cRBuX8fMBwx"
   },
   "outputs": [],
   "source": [
    "submission_format_path = \"./data/givens/submission_format.csv\"\n",
    "submission_format = pd.read_csv(submission_format_path, index_col=\"id\")\n",
    "\n",
    "\n",
    "assert all(submission_df.index == submission_format.index)\n",
    "assert all(submission_df.columns == submission_format.columns)\n",
    "\n",
    "# Save submission_df for further use\n",
    "submission_df_path = \"./data/submissions/submission9.csv\"\n",
    "submission_df.to_csv(submission_df_path)"
   ]
  },
  {
   "cell_type": "markdown",
   "metadata": {
    "id": "tdAFuw5-MBwx"
   },
   "source": [
    "Looks like we're ready to submit! Save the dataframe out to a CSV file and then upload it via the [Submissions page](https://www.drivendata.org/competitions/87/competition-image-classification-wildlife-conservation/submissions/) on the competition website."
   ]
  },
  {
   "cell_type": "code",
   "execution_count": 67,
   "metadata": {},
   "outputs": [
    {
     "data": {
      "text/html": [
       "\n",
       "    <style>\n",
       "        .wandb-row {\n",
       "            display: flex;\n",
       "            flex-direction: row;\n",
       "            flex-wrap: wrap;\n",
       "            justify-content: flex-start;\n",
       "            width: 100%;\n",
       "        }\n",
       "        .wandb-col {\n",
       "            display: flex;\n",
       "            flex-direction: column;\n",
       "            flex-basis: 100%;\n",
       "            flex: 1;\n",
       "            padding: 10px;\n",
       "        }\n",
       "    </style>\n",
       "<div class=\"wandb-row\"><div class=\"wandb-col\"><h3>Run history:</h3><br/><table class=\"wandb\"><tr><td>epoch</td><td>▁▁▁▁▁▁▁▁▁▁▁▁▃▃▃▃▃▃▃▅▅▅▅▅▅▅▅▆▆▆▆▆▆▆██████</td></tr><tr><td>eval_accuracy</td><td>▁▃▆██</td></tr><tr><td>eval_f1</td><td>▁▄▆██</td></tr><tr><td>eval_loss</td><td>█▅▂▁▃</td></tr><tr><td>eval_macro_f1</td><td>▁▅▆██</td></tr><tr><td>eval_precision</td><td>▁▄▇██</td></tr><tr><td>eval_recall</td><td>▁▃▆██</td></tr><tr><td>loss</td><td>███▇▇▅▅▄▆▅▅▆▄▄▃▃▃▄▅▂▃▃▂▂▃▂▃▂▃▃▁▂▃▂▁▂▁▁▂▂</td></tr></table><br/></div><div class=\"wandb-col\"><h3>Run summary:</h3><br/><table class=\"wandb\"><tr><td>epoch</td><td>4</td></tr><tr><td>eval_accuracy</td><td>52.3666</td></tr><tr><td>eval_f1</td><td>0.51529</td></tr><tr><td>eval_loss</td><td>1.36535</td></tr><tr><td>eval_macro_f1</td><td>0.51511</td></tr><tr><td>eval_precision</td><td>0.54859</td></tr><tr><td>eval_recall</td><td>0.52367</td></tr><tr><td>loss</td><td>0.63803</td></tr></table><br/></div></div>"
      ],
      "text/plain": [
       "<IPython.core.display.HTML object>"
      ]
     },
     "metadata": {},
     "output_type": "display_data"
    },
    {
     "data": {
      "text/html": [
       " View run <strong style=\"color:#cdcd00\">sleek-wave-22</strong> at: <a href='https://wandb.ai/gball30-georgia-institute-of-technology/wildlife/runs/w6pnn3ha' target=\"_blank\">https://wandb.ai/gball30-georgia-institute-of-technology/wildlife/runs/w6pnn3ha</a><br/> View project at: <a href='https://wandb.ai/gball30-georgia-institute-of-technology/wildlife' target=\"_blank\">https://wandb.ai/gball30-georgia-institute-of-technology/wildlife</a><br/>Synced 5 W&B file(s), 0 media file(s), 340 artifact file(s) and 10 other file(s)"
      ],
      "text/plain": [
       "<IPython.core.display.HTML object>"
      ]
     },
     "metadata": {},
     "output_type": "display_data"
    },
    {
     "data": {
      "text/html": [
       "Find logs at: <code>./wandb/run-20241120_232830-w6pnn3ha/logs</code>"
      ],
      "text/plain": [
       "<IPython.core.display.HTML object>"
      ]
     },
     "metadata": {},
     "output_type": "display_data"
    }
   ],
   "source": [
    "# ✨ W&B: Mark the run as complete (Or wait until the end of notebook)\n",
    "wandb.finish()"
   ]
  }
 ],
 "metadata": {
  "accelerator": "GPU",
  "anaconda-cloud": {},
  "colab": {
   "gpuType": "T4",
   "include_colab_link": true,
   "provenance": []
  },
  "kernelspec": {
   "display_name": "mlflow",
   "language": "python",
   "name": "python3"
  },
  "language_info": {
   "codemirror_mode": {
    "name": "ipython",
    "version": 3
   },
   "file_extension": ".py",
   "mimetype": "text/x-python",
   "name": "python",
   "nbconvert_exporter": "python",
   "pygments_lexer": "ipython3",
   "version": "3.12.7"
  }
 },
 "nbformat": 4,
 "nbformat_minor": 0
}
