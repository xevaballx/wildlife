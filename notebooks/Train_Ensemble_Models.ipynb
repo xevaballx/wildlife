{
 "cells": [
  {
   "cell_type": "code",
   "execution_count": 1,
   "metadata": {},
   "outputs": [
    {
     "name": "stdout",
     "output_type": "stream",
     "text": [
      "Note: you may need to restart the kernel to use updated packages.\n"
     ]
    }
   ],
   "source": [
    "import os\n",
    "import sys\n",
    "import yaml\n",
    "import wandb\n",
    "import matplotlib.pyplot as plt\n",
    "import pandas as pd\n",
    "import torch\n",
    "import torch.nn.functional as F\n",
    "import time\n",
    "from torch.utils.data import DataLoader\n",
    "from imblearn.under_sampling import RandomUnderSampler\n",
    "\n",
    "# for auto-reloading external modules\n",
    "# see http://stackoverflow.com/questions/1907993/autoreload-of-modules-in-ipython\n",
    "%load_ext autoreload\n",
    "%autoreload 2\n",
    "%pip install wandb -qU\n",
    "%matplotlib inline\n",
    "\n",
    "# Get the current working directory\n",
    "notebook_dir = notebook_dir = os.path.dirname(os.path.abspath(\"__file__\"))  \n",
    "project_dir = os.path.abspath(os.path.join(notebook_dir, '..')) \n",
    "if project_dir not in sys.path:\n",
    "    sys.path.append(project_dir)\n",
    "\n",
    "\n",
    "from binary_classifier import (get_transforms, load_data, split_data, set_seeds, \n",
    "                 verify_splits, verify_data, plot_species_grid,\n",
    "                 verify_loader_transforms)\n",
    "from binary_classifier.data_utils import ImagesDataset\n",
    "from binary_classifier.models import build_resnet50_basic, build_efficientnet_v2_basic\n",
    "from binary_classifier.train import setup_training, evaluate, train"
   ]
  },
  {
   "cell_type": "code",
   "execution_count": 3,
   "metadata": {},
   "outputs": [
    {
     "name": "stdout",
     "output_type": "stream",
     "text": [
      "{'device': 'cuda', 'model': {'num_classes': 1, 'architecture': 'resnet50', 'freeze_backbone': False, 'dropout': 0.1, 'hidden_units1': 100}, 'train': {'batch_size': 32, 'epochs': 10, 'lr': 0.001, 'momentum': 0.9, 'optimizer': 'adam', 'criterion': 'binary_cross_entropy'}, 'experiment': {'seed': 42, 'experiment_name': 'single_model_ensemble_train_resnet_rodent'}, 'transforms': {'resize': [224, 224], 'horizontal_flip': 0.5, 'rotate': 15, 'jitter': {'brightness': 0.2, 'contrast': 0.2, 'saturation': 0.2, 'hue': 0.1}, 'custom': {'block_timestamp': True}}, 'log': {'img_count': 50}}\n"
     ]
    }
   ],
   "source": [
    "# Locate the YAML file relative to the notebook's location\n",
    "notebook_dir = os.path.dirname(os.path.abspath(\"__file__\"))\n",
    "\n",
    "# You need to update this path to your new .yaml file\n",
    "config_path = os.path.join(notebook_dir, \"../configs/default_single_ensemble_training.yaml\")\n",
    "\n",
    "# Load the YAML file\n",
    "with open(config_path, \"r\") as f:\n",
    "    config = yaml.safe_load(f)\n",
    "print(config)"
   ]
  },
  {
   "cell_type": "code",
   "execution_count": 4,
   "metadata": {},
   "outputs": [
    {
     "name": "stdout",
     "output_type": "stream",
     "text": [
      "2.5.1\n",
      "False\n",
      "Running on device: cuda\n"
     ]
    }
   ],
   "source": [
    "print(torch.__version__)\n",
    "print(torch.backends.mps.is_available())\n",
    "device = config[\"device\"]\n",
    "print(f\"Running on device: {device}\")"
   ]
  },
  {
   "cell_type": "code",
   "execution_count": 5,
   "metadata": {},
   "outputs": [],
   "source": [
    "train_features, test_features, train_labels, species_labels = load_data()\n",
    "#species_labels"
   ]
  },
  {
   "cell_type": "code",
   "execution_count": 6,
   "metadata": {},
   "outputs": [],
   "source": [
    "train_labels_antelope_duiker = train_labels[\"antelope_duiker\"]\n",
    "# not_ant_duiker = (train_labels_antelope_duiker==0)*1.0\n",
    "# not_ant_duiker.name = \"not_antelope_duiker\"\n",
    "# train_labels_antelope_duiker = pd.concat([train_labels_antelope_duiker, not_ant_duiker], axis= 1)\n",
    "\n",
    "train_labels_bird = train_labels[\"bird\"]\n",
    "# not_bird = (train_labels_antelope_duiker==0)*1.0\n",
    "# not_bird.name = \"not_bird\"\n",
    "# train_labels_bird = pd.concat([train_labels_bird, not_bird], axis= 1)\n",
    "\n",
    "train_labels_blank = train_labels[\"blank\"]\n",
    "# not_blank = (train_labels_blank==0)*1.0\n",
    "# not_blank.name = \"not_blank\"\n",
    "# train_labels_blank = pd.concat([train_labels_blank, not_blank], axis= 1)\n",
    "\n",
    "train_labels_civet_genet = train_labels[\"civet_genet\"]\n",
    "# not_civet_genet = (train_labels_civet_genet==0)*1.0\n",
    "# not_civet_genet.name = \"not_civet_genet\"\n",
    "# train_labels_civet_genet = pd.concat([train_labels_civet_genet, not_civet_genet], axis= 1)\n",
    "\n",
    "\n",
    "train_labels_hog = train_labels[\"hog\"]\n",
    "# not_hog = (train_labels_hog==0)*1.0\n",
    "# not_hog.name = \"not_hog\"\n",
    "# train_labels_hog = pd.concat([train_labels_hog, not_hog], axis= 1)\n",
    "\n",
    "\n",
    "train_labels_leopard = train_labels[\"leopard\"]\n",
    "# not_leopard = (train_labels_leopard==0)*1.0\n",
    "# not_leopard.name = \"not_leopard\"\n",
    "# train_labels_leopard = pd.concat([train_labels_leopard, not_leopard], axis= 1)\n",
    "\n",
    "\n",
    "train_labels_monkey_prosimian = train_labels[\"monkey_prosimian\"]\n",
    "# not_monkey_prosimian = (train_labels_monkey_prosimian==0)*1.0\n",
    "# not_monkey_prosimian.name = \"not_monkey_prosimian\"\n",
    "# train_labels_monkey_prosimian = pd.concat([train_labels_monkey_prosimian, not_monkey_prosimian], axis= 1)\n",
    "\n",
    "train_labels_rodent = train_labels[\"rodent\"]\n",
    "# not_rodent = (train_labels_rodent==0)*1.0\n",
    "# not_rodent.name = \"not_rodent\"\n",
    "# train_labels_rodent = pd.concat([train_labels_rodent, not_rodent], axis= 1)\n",
    "\n"
   ]
  },
  {
   "cell_type": "code",
   "execution_count": 7,
   "metadata": {},
   "outputs": [],
   "source": [
    "# Get transforms\n",
    "train_transforms, val_transforms = get_transforms(config)"
   ]
  },
  {
   "cell_type": "code",
   "execution_count": 8,
   "metadata": {},
   "outputs": [],
   "source": [
    "set_seeds(config[\"experiment\"][\"seed\"])\n",
    "\n",
    "X_train_antelope_duiker, X_val_antelope_duiker, y_train_antelope_duiker, y_val_antelope_duiker = split_data(train_features, train_labels_antelope_duiker)\n",
    "X_train_bird, X_val_bird, y_train_bird, y_val_bird = split_data(train_features, train_labels_bird)\n",
    "X_train_blank, X_val_blank, y_train_blank, y_val_blank = split_data(train_features, train_labels_blank)\n",
    "X_train_civet_genet, X_val_civet_genet, y_train_civet_genet, y_val_civet_genet = split_data(train_features, train_labels_civet_genet)\n",
    "X_train_hog, X_val_hog, y_train_hog, y_val_hog = split_data(train_features, train_labels_hog)\n",
    "X_train_leopard, X_val_leopard, y_train_leopard, y_val_leopard = split_data(train_features, train_labels_leopard)\n",
    "X_train_monkey_prosimian, X_val_monkey_prosimian, y_train_monkey_prosimian, y_val_monkey_prosimian = split_data(train_features, train_labels_monkey_prosimian)\n",
    "X_train_rodent, X_val_rodent, y_train_rodent, y_val_rodent = split_data(train_features, train_labels_rodent)"
   ]
  },
  {
   "cell_type": "code",
   "execution_count": 9,
   "metadata": {},
   "outputs": [],
   "source": [
    "random_under_sampler = RandomUnderSampler(sampling_strategy=1)\n",
    "\n",
    "X_train_antelope_duiker_resampled, y_train_antelope_duiker_resampled = random_under_sampler.fit_resample(X_train_antelope_duiker, y_train_antelope_duiker)\n",
    "\n",
    "X_train_bird_resampled, y_train_bird_resampled = random_under_sampler.fit_resample(X_train_bird, y_train_bird)\n",
    "\n",
    "X_train_blank_resampled, y_train_blank_resampled = random_under_sampler.fit_resample(X_train_blank, y_train_blank)\n",
    "\n",
    "X_train_civet_genet_resampled, y_train_civet_genet_resampled = random_under_sampler.fit_resample(X_train_civet_genet, y_train_civet_genet)\n",
    "\n",
    "X_train_hog_resampled, y_train_hog_resampled = random_under_sampler.fit_resample(X_train_hog, y_train_hog)\n",
    "\n",
    "X_train_leopard_resampled, y_train_leopard_resampled = random_under_sampler.fit_resample(X_train_leopard, y_train_leopard)\n",
    "\n",
    "X_train_monkey_prosimian_resampled, y_train_monkey_prosimian_resampled = random_under_sampler.fit_resample(X_train_monkey_prosimian, y_train_monkey_prosimian)\n",
    "\n",
    "X_train_rodent_resampled, y_train_rodent_resampled = random_under_sampler.fit_resample(X_train_rodent, y_train_rodent)\n",
    "\n"
   ]
  },
  {
   "cell_type": "code",
   "execution_count": null,
   "metadata": {},
   "outputs": [],
   "source": [
    "# Create datasets antelope\n",
    "\n",
    "set_seeds(config[\"experiment\"][\"seed\"])\n",
    "\n",
    "# Create datasets antelope\n",
    "train_dataset_antelope_duiker = ImagesDataset(\n",
    "    features=X_train_antelope_duiker_resampled, \n",
    "    labels=y_train_antelope_duiker_resampled, \n",
    "    transform=train_transforms, \n",
    "    device=device)\n",
    "\n",
    "val_dataset_antelope_duiker = ImagesDataset(\n",
    "    features=X_val_antelope_duiker, \n",
    "    labels=y_val_antelope_duiker,\n",
    "    transform=val_transforms, \n",
    "    device=device)\n",
    "\n",
    "# Create DataLoaders\n",
    "train_loader_antelope_duiker = DataLoader(\n",
    "    train_dataset_antelope_duiker, \n",
    "    batch_size=config[\"train\"][\"batch_size\"], \n",
    "    shuffle=True,\n",
    "    pin_memory=False)\n",
    "\n",
    "val_loader_antelope_duiker = DataLoader(\n",
    "    val_dataset_antelope_duiker, \n",
    "    batch_size=config[\"train\"][\"batch_size\"], \n",
    "    shuffle=False,\n",
    "    pin_memory=False)\n",
    "\n",
    "# model_antelope_duiker = build_efficientnet_v2_basic(\n",
    "#     num_classes = config[\"model\"][\"num_classes\"],\n",
    "#     hidden_units1 = config[\"model\"][\"hidden_units1\"],\n",
    "#     dropout = config[\"model\"][\"dropout\"] \n",
    "# )\n",
    "\n",
    "model_antelope_duiker = build_resnet50_basic(\n",
    "    num_classes = config[\"model\"][\"num_classes\"],\n",
    "    hidden_units1 = config[\"model\"][\"hidden_units1\"],\n",
    "    dropout = config[\"model\"][\"dropout\"] \n",
    ")\n",
    "\n",
    "model_antelope_duiker = model_antelope_duiker.to(device)"
   ]
  },
  {
   "cell_type": "code",
   "execution_count": null,
   "metadata": {},
   "outputs": [],
   "source": [
    "# Create datasets bird\n",
    "train_dataset_bird = ImagesDataset(\n",
    "    features=X_train_bird_resampled,\n",
    "    labels=y_train_bird_resampled, \n",
    "    transform=train_transforms, \n",
    "    device=device)\n",
    "\n",
    "\n",
    "val_dataset_bird = ImagesDataset(\n",
    "    features=X_val_bird, \n",
    "    labels=y_val_bird, \n",
    "    transform=val_transforms, \n",
    "    device=device)\n",
    "\n",
    "# Create DataLoaders\n",
    "train_loader_bird = DataLoader(\n",
    "    train_dataset_bird, \n",
    "    batch_size=config[\"train\"][\"batch_size\"], \n",
    "    shuffle=True, \n",
    "    pin_memory=False)\n",
    "\n",
    "val_loader_bird = DataLoader(\n",
    "    val_dataset_bird, \n",
    "    batch_size=config[\"train\"][\"batch_size\"], \n",
    "    shuffle=False, \n",
    "    pin_memory=False)\n",
    "\n",
    "model_bird = build_resnet50_basic(\n",
    "    num_classes = config[\"model\"][\"num_classes\"],\n",
    "    hidden_units1 = config[\"model\"][\"hidden_units1\"],\n",
    "    dropout = config[\"model\"][\"dropout\"] \n",
    ")\n",
    "model_bird = model_bird.to(device)"
   ]
  },
  {
   "cell_type": "code",
   "execution_count": null,
   "metadata": {},
   "outputs": [],
   "source": [
    "# Create datasets blank\n",
    "train_dataset_blank = ImagesDataset(\n",
    "    features=X_train_blank_resampled, \n",
    "    labels=y_train_blank_resampled, \n",
    "    transform=train_transforms, \n",
    "    device=device)\n",
    "\n",
    "val_dataset_blank = ImagesDataset(\n",
    "    features=X_val_blank, \n",
    "    labels=y_val_blank, \n",
    "    transform=val_transforms, \n",
    "    device=device)\n",
    "\n",
    "# Create DataLoaders\n",
    "train_loader_blank = DataLoader(\n",
    "    train_dataset_blank, \n",
    "    batch_size=config[\"train\"][\"batch_size\"], \n",
    "    shuffle=True, \n",
    "    pin_memory=False)\n",
    "\n",
    "val_loader_blank = DataLoader(\n",
    "    val_dataset_blank, \n",
    "    batch_size=config[\"train\"][\"batch_size\"], \n",
    "    shuffle=False, \n",
    "    pin_memory=False)\n",
    "\n",
    "model_blank = build_resnet50_basic(\n",
    "    num_classes = config[\"model\"][\"num_classes\"],\n",
    "    hidden_units1 = config[\"model\"][\"hidden_units1\"],\n",
    "    dropout = config[\"model\"][\"dropout\"] \n",
    ")\n",
    "model_blank = model_blank.to(device)"
   ]
  },
  {
   "cell_type": "code",
   "execution_count": null,
   "metadata": {},
   "outputs": [],
   "source": [
    "# Create datasets civet genet\n",
    "train_dataset_civet_genet = ImagesDataset(\n",
    "    features=X_train_civet_genet_resampled, \n",
    "    labels=y_train_civet_genet_resampled, \n",
    "    transform=train_transforms, \n",
    "    device=device)\n",
    "\n",
    "val_dataset_civet_genet = ImagesDataset(\n",
    "    features=X_val_civet_genet, \n",
    "    labels=y_val_civet_genet, \n",
    "    transform=val_transforms, \n",
    "    device=device)\n",
    "\n",
    "# Create DataLoaders\n",
    "train_loader_civet_genet = DataLoader(\n",
    "    train_dataset_civet_genet, \n",
    "    batch_size=config[\"train\"][\"batch_size\"], \n",
    "    shuffle=True, \n",
    "    pin_memory=False)\n",
    "\n",
    "val_loader_civet_genet = DataLoader(\n",
    "    val_dataset_civet_genet, \n",
    "    batch_size=config[\"train\"][\"batch_size\"], \n",
    "    shuffle=False, \n",
    "    pin_memory=False)\n",
    "\n",
    "model_civet_genet = build_resnet50_basic(\n",
    "    num_classes = config[\"model\"][\"num_classes\"],\n",
    "    hidden_units1 = config[\"model\"][\"hidden_units1\"],\n",
    "    dropout = config[\"model\"][\"dropout\"] \n",
    ")\n",
    "model_civet_genet = model_civet_genet.to(device)"
   ]
  },
  {
   "cell_type": "code",
   "execution_count": null,
   "metadata": {},
   "outputs": [],
   "source": [
    "# Create datasets hog\n",
    "train_dataset_hog = ImagesDataset(\n",
    "    features=X_train_hog_resampled, \n",
    "    labels=y_train_hog_resampled, \n",
    "    transform=train_transforms, \n",
    "    device=device)\n",
    "\n",
    "val_dataset_hog = ImagesDataset(\n",
    "    features=X_val_hog, \n",
    "    labels=y_val_hog, \n",
    "    transform=val_transforms, \n",
    "    device=device)\n",
    "\n",
    "# Create DataLoaders\n",
    "train_loader_hog = DataLoader(\n",
    "    train_dataset_hog, \n",
    "    batch_size=config[\"train\"][\"batch_size\"], \n",
    "    shuffle=True, \n",
    "    pin_memory=False)\n",
    "\n",
    "val_loader_hog = DataLoader(\n",
    "    val_dataset_hog, \n",
    "    batch_size=config[\"train\"][\"batch_size\"], \n",
    "    shuffle=False, \n",
    "    pin_memory=False)\n",
    "\n",
    "\n",
    "model_hog = build_resnet50_basic(\n",
    "    num_classes = config[\"model\"][\"num_classes\"],\n",
    "    hidden_units1 = config[\"model\"][\"hidden_units1\"],\n",
    "    dropout = config[\"model\"][\"dropout\"] \n",
    ")\n",
    "model_hog = model_hog.to(device)"
   ]
  },
  {
   "cell_type": "code",
   "execution_count": null,
   "metadata": {},
   "outputs": [],
   "source": [
    "# Create datasets leopard\n",
    "train_dataset_leopard = ImagesDataset(\n",
    "    features=X_train_leopard_resampled, \n",
    "    labels=y_train_leopard, \n",
    "    transform=train_transforms, \n",
    "    device=device)\n",
    "\n",
    "val_dataset_leopard = ImagesDataset(\n",
    "    features=X_val_leopard, \n",
    "    labels=y_val_leopard, \n",
    "    transform=val_transforms, \n",
    "    device=device)\n",
    "\n",
    "# Create DataLoaders\n",
    "train_loader_leopard = DataLoader(\n",
    "    train_dataset_leopard, \n",
    "    batch_size=config[\"train\"][\"batch_size\"], \n",
    "    shuffle=True, \n",
    "    pin_memory=False)\n",
    "\n",
    "val_loader_leopard = DataLoader(\n",
    "    val_dataset_leopard, \n",
    "    batch_size=config[\"train\"][\"batch_size\"], \n",
    "    shuffle=False, \n",
    "    pin_memory=False)\n",
    "\n",
    "\n",
    "model_leopard = build_resnet50_basic(\n",
    "    num_classes = config[\"model\"][\"num_classes\"],\n",
    "    hidden_units1 = config[\"model\"][\"hidden_units1\"],\n",
    "    dropout = config[\"model\"][\"dropout\"] \n",
    ")\n",
    "model_leopard = model_leopard.to(device)"
   ]
  },
  {
   "cell_type": "code",
   "execution_count": null,
   "metadata": {},
   "outputs": [],
   "source": [
    "# Create datasets monkey prosimian\n",
    "train_dataset_monkey_prosimian = ImagesDataset(\n",
    "    features=X_train_monkey_prosimian_resampled, \n",
    "    labels=y_train_monkey_prosimian_resampled, \n",
    "    transform=train_transforms, \n",
    "    device=device)\n",
    "\n",
    "val_dataset_monkey_prosimian = ImagesDataset(\n",
    "    features=X_val_monkey_prosimian, \n",
    "    labels=y_val_monkey_prosimian, \n",
    "    transform=val_transforms, \n",
    "    device=device)\n",
    "\n",
    "# Create DataLoaders\n",
    "train_loader_monkey_prosimian = DataLoader(\n",
    "    train_dataset_monkey_prosimian, \n",
    "    batch_size=config[\"train\"][\"batch_size\"], \n",
    "    shuffle=True, \n",
    "    pin_memory=False)\n",
    "\n",
    "val_loader_monkey_prosimian = DataLoader(\n",
    "    val_dataset_monkey_prosimian, \n",
    "    batch_size=config[\"train\"][\"batch_size\"], \n",
    "    shuffle=False, \n",
    "    pin_memory=False)\n",
    "\n",
    "\n",
    "model_monkey_prosimian = build_resnet50_basic(\n",
    "    num_classes = config[\"model\"][\"num_classes\"],\n",
    "    hidden_units1 = config[\"model\"][\"hidden_units1\"],\n",
    "    dropout = config[\"model\"][\"dropout\"] \n",
    ")\n",
    "model_monkey_prosimian = model_monkey_prosimian.to(device)"
   ]
  },
  {
   "cell_type": "code",
   "execution_count": 10,
   "metadata": {},
   "outputs": [],
   "source": [
    "# Create datasets rodent\n",
    "train_dataset_rodent = ImagesDataset(\n",
    "    features=X_train_rodent_resampled, \n",
    "    labels=y_train_rodent_resampled, \n",
    "    transform=train_transforms, \n",
    "    device=device)\n",
    "\n",
    "val_dataset_rodent = ImagesDataset(\n",
    "    features=X_val_rodent, \n",
    "    labels=y_val_rodent, \n",
    "    transform=val_transforms, \n",
    "    device=device)\n",
    "\n",
    "# Create DataLoaders\n",
    "train_loader_rodent = DataLoader(\n",
    "    train_dataset_rodent, \n",
    "    batch_size=config[\"train\"][\"batch_size\"], \n",
    "    shuffle=True, \n",
    "    pin_memory=False)\n",
    "\n",
    "val_loader_rodent = DataLoader(\n",
    "    val_dataset_rodent, \n",
    "    batch_size=config[\"train\"][\"batch_size\"], \n",
    "    shuffle=False, \n",
    "    pin_memory=False)\n",
    "\n",
    "\n",
    "\n",
    "model_rodent = build_resnet50_basic(\n",
    "    num_classes = config[\"model\"][\"num_classes\"],\n",
    "    hidden_units1 = config[\"model\"][\"hidden_units1\"],\n",
    "    dropout = config[\"model\"][\"dropout\"] \n",
    ")\n",
    "model_rodent = model_rodent.to(device)"
   ]
  },
  {
   "cell_type": "code",
   "execution_count": 11,
   "metadata": {},
   "outputs": [],
   "source": [
    "model = model_rodent\n",
    "train_loader = train_loader_rodent\n",
    "val_loader = val_loader_rodent"
   ]
  },
  {
   "cell_type": "code",
   "execution_count": 12,
   "metadata": {},
   "outputs": [
    {
     "name": "stderr",
     "output_type": "stream",
     "text": [
      "\u001b[34m\u001b[1mwandb\u001b[0m: Using wandb-core as the SDK backend.  Please refer to https://wandb.me/wandb-core for more information.\n",
      "\u001b[34m\u001b[1mwandb\u001b[0m: Currently logged in as: \u001b[33mkseeger7\u001b[0m (\u001b[33mkseeger7-georgia-institute-of-technology\u001b[0m). Use \u001b[1m`wandb login --relogin`\u001b[0m to force relogin\n"
     ]
    },
    {
     "data": {
      "text/plain": [
       "True"
      ]
     },
     "execution_count": 12,
     "metadata": {},
     "output_type": "execute_result"
    }
   ],
   "source": [
    "wandb.require()\n",
    "wandb.login()"
   ]
  },
  {
   "cell_type": "code",
   "execution_count": 13,
   "metadata": {},
   "outputs": [
    {
     "data": {
      "text/html": [
       "Tracking run with wandb version 0.19.0"
      ],
      "text/plain": [
       "<IPython.core.display.HTML object>"
      ]
     },
     "metadata": {},
     "output_type": "display_data"
    },
    {
     "data": {
      "text/html": [
       "Run data is saved locally in <code>c:\\Users\\kseeg\\Documents\\Georgia Tech\\Deep Learning\\Final Project\\Github Code\\wildlife\\notebooks\\wandb\\run-20241209_074028-gx5p3nvn</code>"
      ],
      "text/plain": [
       "<IPython.core.display.HTML object>"
      ]
     },
     "metadata": {},
     "output_type": "display_data"
    },
    {
     "data": {
      "text/html": [
       "Syncing run <strong><a href='https://wandb.ai/kseeger7-georgia-institute-of-technology/wildlife/runs/gx5p3nvn' target=\"_blank\">deft-plasma-90</a></strong> to <a href='https://wandb.ai/kseeger7-georgia-institute-of-technology/wildlife' target=\"_blank\">Weights & Biases</a> (<a href='https://wandb.me/developer-guide' target=\"_blank\">docs</a>)<br/>"
      ],
      "text/plain": [
       "<IPython.core.display.HTML object>"
      ]
     },
     "metadata": {},
     "output_type": "display_data"
    },
    {
     "data": {
      "text/html": [
       " View project at <a href='https://wandb.ai/kseeger7-georgia-institute-of-technology/wildlife' target=\"_blank\">https://wandb.ai/kseeger7-georgia-institute-of-technology/wildlife</a>"
      ],
      "text/plain": [
       "<IPython.core.display.HTML object>"
      ]
     },
     "metadata": {},
     "output_type": "display_data"
    },
    {
     "data": {
      "text/html": [
       " View run at <a href='https://wandb.ai/kseeger7-georgia-institute-of-technology/wildlife/runs/gx5p3nvn' target=\"_blank\">https://wandb.ai/kseeger7-georgia-institute-of-technology/wildlife/runs/gx5p3nvn</a>"
      ],
      "text/plain": [
       "<IPython.core.display.HTML object>"
      ]
     },
     "metadata": {},
     "output_type": "display_data"
    },
    {
     "data": {
      "text/html": [
       "<button onClick=\"this.nextSibling.style.display='block';this.style.display='none';\">Display W&B run</button><iframe src='https://wandb.ai/kseeger7-georgia-institute-of-technology/wildlife/runs/gx5p3nvn?jupyter=true' style='border:none;width:100%;height:420px;display:none;'></iframe>"
      ],
      "text/plain": [
       "<wandb.sdk.wandb_run.Run at 0x19f0f744b10>"
      ]
     },
     "execution_count": 13,
     "metadata": {},
     "output_type": "execute_result"
    }
   ],
   "source": [
    "# ✨ W&B: Initialize a new run to track this model's training\n",
    "wandb.init(project=\"wildlife\", config=config)"
   ]
  },
  {
   "cell_type": "code",
   "execution_count": 14,
   "metadata": {},
   "outputs": [],
   "source": [
    "set_seeds(config[\"experiment\"]['seed'])\n",
    "criterion, optimizer = setup_training(\n",
    "        model, \n",
    "        criterion=config[\"train\"][\"criterion\"],\n",
    "        optimizer=config[\"train\"][\"optimizer\"], \n",
    "        lr=config[\"train\"][\"lr\"], \n",
    "        momentum=config[\"train\"][\"momentum\"])"
   ]
  },
  {
   "cell_type": "code",
   "execution_count": 15,
   "metadata": {},
   "outputs": [
    {
     "name": "stdout",
     "output_type": "stream",
     "text": [
      "Starting training for epoch 1\n",
      "Epoch [1/10], Step [10/101], Loss: 0.4805\n",
      "Epoch [1/10], Step [20/101], Loss: 0.6851\n",
      "Epoch [1/10], Step [30/101], Loss: 0.6288\n",
      "Epoch [1/10], Step [40/101], Loss: 0.5651\n",
      "Epoch [1/10], Step [50/101], Loss: 0.7922\n",
      "Epoch [1/10], Step [60/101], Loss: 0.7120\n",
      "Epoch [1/10], Step [70/101], Loss: 0.4608\n",
      "Epoch [1/10], Step [80/101], Loss: 0.6306\n",
      "Epoch [1/10], Step [90/101], Loss: 0.5256\n",
      "Epoch [1/10], Step [100/101], Loss: 0.5456\n",
      "Epoch 1/10 - Avg Train Loss: 0.6128\n",
      "Evaluation - Loss: 0.5321, Accuracy: 81.23%, Precision: nan, Recall: nan, F1: nan\n",
      "Epoch 1/10 - Eval Loss: 0.5321, Eval Acc: 81.23%\n",
      "Starting training for epoch 2\n",
      "Epoch [2/10], Step [10/101], Loss: 0.5025\n",
      "Epoch [2/10], Step [20/101], Loss: 0.5387\n",
      "Epoch [2/10], Step [30/101], Loss: 0.5734\n",
      "Epoch [2/10], Step [40/101], Loss: 0.5935\n",
      "Epoch [2/10], Step [50/101], Loss: 0.4780\n",
      "Epoch [2/10], Step [60/101], Loss: 0.3866\n",
      "Epoch [2/10], Step [70/101], Loss: 0.3573\n",
      "Epoch [2/10], Step [80/101], Loss: 0.4760\n",
      "Epoch [2/10], Step [90/101], Loss: 0.4683\n",
      "Epoch [2/10], Step [100/101], Loss: 0.5984\n",
      "Epoch 2/10 - Avg Train Loss: 0.5341\n",
      "Evaluation - Loss: 0.4560, Accuracy: 79.81%, Precision: nan, Recall: nan, F1: nan\n",
      "Epoch 2/10 - Eval Loss: 0.4560, Eval Acc: 79.81%\n",
      "Starting training for epoch 3\n",
      "Epoch [3/10], Step [10/101], Loss: 0.5045\n",
      "Epoch [3/10], Step [20/101], Loss: 0.5381\n",
      "Epoch [3/10], Step [30/101], Loss: 0.4074\n",
      "Epoch [3/10], Step [40/101], Loss: 0.5357\n",
      "Epoch [3/10], Step [50/101], Loss: 0.3600\n",
      "Epoch [3/10], Step [60/101], Loss: 0.4967\n",
      "Epoch [3/10], Step [70/101], Loss: 0.4355\n",
      "Epoch [3/10], Step [80/101], Loss: 0.3551\n",
      "Epoch [3/10], Step [90/101], Loss: 0.4478\n",
      "Epoch [3/10], Step [100/101], Loss: 0.5356\n",
      "Epoch 3/10 - Avg Train Loss: 0.4845\n",
      "Evaluation - Loss: 0.3068, Accuracy: 88.66%, Precision: nan, Recall: nan, F1: nan\n",
      "Epoch 3/10 - Eval Loss: 0.3068, Eval Acc: 88.66%\n",
      "Starting training for epoch 4\n",
      "Epoch [4/10], Step [10/101], Loss: 0.5101\n",
      "Epoch [4/10], Step [20/101], Loss: 0.4326\n",
      "Epoch [4/10], Step [30/101], Loss: 0.4575\n",
      "Epoch [4/10], Step [40/101], Loss: 0.4896\n",
      "Epoch [4/10], Step [50/101], Loss: 0.4271\n",
      "Epoch [4/10], Step [60/101], Loss: 0.6477\n",
      "Epoch [4/10], Step [70/101], Loss: 0.5026\n",
      "Epoch [4/10], Step [80/101], Loss: 0.3318\n",
      "Epoch [4/10], Step [90/101], Loss: 0.3684\n",
      "Epoch [4/10], Step [100/101], Loss: 0.4609\n",
      "Epoch 4/10 - Avg Train Loss: 0.4564\n",
      "Evaluation - Loss: 0.5521, Accuracy: 71.50%, Precision: nan, Recall: nan, F1: nan\n",
      "Epoch 4/10 - Eval Loss: 0.5521, Eval Acc: 71.50%\n",
      "Starting training for epoch 5\n",
      "Epoch [5/10], Step [10/101], Loss: 0.3717\n",
      "Epoch [5/10], Step [20/101], Loss: 0.4435\n",
      "Epoch [5/10], Step [30/101], Loss: 0.3567\n",
      "Epoch [5/10], Step [40/101], Loss: 0.2872\n",
      "Epoch [5/10], Step [50/101], Loss: 0.4157\n",
      "Epoch [5/10], Step [60/101], Loss: 0.3458\n",
      "Epoch [5/10], Step [70/101], Loss: 0.4111\n",
      "Epoch [5/10], Step [80/101], Loss: 0.3800\n",
      "Epoch [5/10], Step [90/101], Loss: 0.2922\n",
      "Epoch [5/10], Step [100/101], Loss: 0.3443\n",
      "Epoch 5/10 - Avg Train Loss: 0.4331\n",
      "Evaluation - Loss: 0.4133, Accuracy: 81.23%, Precision: nan, Recall: nan, F1: nan\n",
      "Epoch 5/10 - Eval Loss: 0.4133, Eval Acc: 81.23%\n",
      "Starting training for epoch 6\n",
      "Epoch [6/10], Step [10/101], Loss: 0.2577\n",
      "Epoch [6/10], Step [20/101], Loss: 0.4052\n",
      "Epoch [6/10], Step [30/101], Loss: 0.2940\n",
      "Epoch [6/10], Step [40/101], Loss: 0.4966\n",
      "Epoch [6/10], Step [50/101], Loss: 0.5346\n",
      "Epoch [6/10], Step [60/101], Loss: 0.5697\n",
      "Epoch [6/10], Step [70/101], Loss: 0.3500\n",
      "Epoch [6/10], Step [80/101], Loss: 0.5010\n",
      "Epoch [6/10], Step [90/101], Loss: 0.3608\n",
      "Epoch [6/10], Step [100/101], Loss: 0.2749\n",
      "Epoch 6/10 - Avg Train Loss: 0.4058\n",
      "Evaluation - Loss: 0.5623, Accuracy: 73.86%, Precision: nan, Recall: nan, F1: nan\n",
      "Epoch 6/10 - Eval Loss: 0.5623, Eval Acc: 73.86%\n",
      "Starting training for epoch 7\n",
      "Epoch [7/10], Step [10/101], Loss: 0.4663\n",
      "Epoch [7/10], Step [20/101], Loss: 0.3457\n",
      "Epoch [7/10], Step [30/101], Loss: 0.3547\n",
      "Epoch [7/10], Step [40/101], Loss: 0.2911\n",
      "Epoch [7/10], Step [50/101], Loss: 0.5183\n",
      "Epoch [7/10], Step [60/101], Loss: 0.3562\n",
      "Epoch [7/10], Step [70/101], Loss: 0.3549\n",
      "Epoch [7/10], Step [80/101], Loss: 0.2084\n",
      "Epoch [7/10], Step [90/101], Loss: 0.2415\n",
      "Epoch [7/10], Step [100/101], Loss: 0.5279\n",
      "Epoch 7/10 - Avg Train Loss: 0.3736\n",
      "Evaluation - Loss: 0.2531, Accuracy: 89.60%, Precision: nan, Recall: nan, F1: nan\n",
      "Epoch 7/10 - Eval Loss: 0.2531, Eval Acc: 89.60%\n",
      "Starting training for epoch 8\n",
      "Epoch [8/10], Step [10/101], Loss: 0.2481\n",
      "Epoch [8/10], Step [20/101], Loss: 0.3487\n",
      "Epoch [8/10], Step [30/101], Loss: 0.2990\n",
      "Epoch [8/10], Step [40/101], Loss: 0.4610\n",
      "Epoch [8/10], Step [50/101], Loss: 0.3331\n",
      "Epoch [8/10], Step [60/101], Loss: 0.4697\n",
      "Epoch [8/10], Step [70/101], Loss: 0.2986\n",
      "Epoch [8/10], Step [80/101], Loss: 0.3137\n",
      "Epoch [8/10], Step [90/101], Loss: 0.2456\n",
      "Epoch [8/10], Step [100/101], Loss: 0.3006\n",
      "Epoch 8/10 - Avg Train Loss: 0.3504\n",
      "Evaluation - Loss: 0.3851, Accuracy: 83.93%, Precision: nan, Recall: nan, F1: nan\n",
      "Epoch 8/10 - Eval Loss: 0.3851, Eval Acc: 83.93%\n",
      "Starting training for epoch 9\n",
      "Epoch [9/10], Step [10/101], Loss: 0.2031\n",
      "Epoch [9/10], Step [20/101], Loss: 0.3180\n",
      "Epoch [9/10], Step [30/101], Loss: 0.3791\n",
      "Epoch [9/10], Step [40/101], Loss: 0.5138\n",
      "Epoch [9/10], Step [50/101], Loss: 0.2420\n",
      "Epoch [9/10], Step [60/101], Loss: 0.2423\n",
      "Epoch [9/10], Step [70/101], Loss: 0.1610\n",
      "Epoch [9/10], Step [80/101], Loss: 0.4028\n",
      "Epoch [9/10], Step [90/101], Loss: 0.2507\n",
      "Epoch [9/10], Step [100/101], Loss: 0.2580\n",
      "Epoch 9/10 - Avg Train Loss: 0.3312\n",
      "Evaluation - Loss: 0.6111, Accuracy: 70.80%, Precision: nan, Recall: nan, F1: nan\n",
      "Epoch 9/10 - Eval Loss: 0.6111, Eval Acc: 70.80%\n",
      "Starting training for epoch 10\n",
      "Epoch [10/10], Step [10/101], Loss: 0.4113\n",
      "Epoch [10/10], Step [20/101], Loss: 0.3247\n",
      "Epoch [10/10], Step [30/101], Loss: 0.2781\n",
      "Epoch [10/10], Step [40/101], Loss: 0.3650\n",
      "Epoch [10/10], Step [50/101], Loss: 0.3756\n",
      "Epoch [10/10], Step [60/101], Loss: 0.2377\n",
      "Epoch [10/10], Step [70/101], Loss: 0.1996\n",
      "Epoch [10/10], Step [80/101], Loss: 0.3946\n",
      "Epoch [10/10], Step [90/101], Loss: 0.1670\n",
      "Epoch [10/10], Step [100/101], Loss: 0.5049\n",
      "Epoch 10/10 - Avg Train Loss: 0.3340\n",
      "Evaluation - Loss: 0.3145, Accuracy: 86.39%, Precision: nan, Recall: nan, F1: nan\n",
      "Epoch 10/10 - Eval Loss: 0.3145, Eval Acc: 86.39%\n"
     ]
    }
   ],
   "source": [
    "log_counter = 0\n",
    "tracking_loss_all = []\n",
    "train_losses = []  # To store average training loss per epoch\n",
    "val_losses = []    # To store validation loss per epoch\n",
    "set_seeds(config[\"experiment\"]['seed'])\n",
    "\n",
    "start_time = time.time()\n",
    "for epoch in range(config[\"train\"][\"epochs\"]):\n",
    "    #Training step\n",
    "    avg_train_loss, tracking_loss = train(model, \n",
    "                                     train_loader, \n",
    "                                     criterion, \n",
    "                                     optimizer, \n",
    "                                     epoch, config, device=device)\n",
    "    tracking_loss_all.extend(tracking_loss)  # Append to global list\n",
    "    train_losses.append(avg_train_loss)  # Store avg training loss\n",
    "    print(f\"Epoch {epoch+1}/{config['train']['epochs']} - Avg Train Loss: {avg_train_loss:.4f}\")\n",
    "    \n",
    "    # Evaluation step\n",
    "    eval_metrics = evaluate(model, val_loader, criterion, config, epoch= epoch+1, device=device)\n",
    "    val_losses.append(eval_metrics[\"loss\"])  # Store validation loss\n",
    "    print(f\"Epoch {epoch+1}/{config['train']['epochs']} - Eval Loss: {eval_metrics['loss']:.4f}, Eval Acc: {eval_metrics['accuracy']:.2f}%\")\n",
    "\n",
    "end_time = time.time()\n",
    "duration = end_time - start_time\n",
    "wandb.log({\"duration\": duration})"
   ]
  },
  {
   "cell_type": "code",
   "execution_count": 16,
   "metadata": {},
   "outputs": [
    {
     "data": {
      "text/html": [
       "\n",
       "    <style>\n",
       "        .wandb-row {\n",
       "            display: flex;\n",
       "            flex-direction: row;\n",
       "            flex-wrap: wrap;\n",
       "            justify-content: flex-start;\n",
       "            width: 100%;\n",
       "        }\n",
       "        .wandb-col {\n",
       "            display: flex;\n",
       "            flex-direction: column;\n",
       "            flex-basis: 100%;\n",
       "            flex: 1;\n",
       "            padding: 10px;\n",
       "        }\n",
       "    </style>\n",
       "<div class=\"wandb-row\"><div class=\"wandb-col\"><h3>Run history:</h3><br/><table class=\"wandb\"><tr><td>duration</td><td>▁</td></tr><tr><td>epoch</td><td>▁▁▂▂▂▂▂▂▂▃▃▃▃▃▃▄▄▄▄▄▅▅▅▅▆▆▆▆▆▆▆▆▇▇▇▇▇▇██</td></tr><tr><td>loss</td><td>█▇▅█▇▇▅▄▇▅▆▅▄▆▅▅▆▄▄▄▆▇█▃▄▅▅▆▅▄▅▆▂▃▃▆▁▄▄▂</td></tr></table><br/></div><div class=\"wandb-col\"><h3>Run summary:</h3><br/><table class=\"wandb\"><tr><td>duration</td><td>781.55842</td></tr><tr><td>epoch</td><td>10</td></tr><tr><td>loss</td><td>0.19277</td></tr></table><br/></div></div>"
      ],
      "text/plain": [
       "<IPython.core.display.HTML object>"
      ]
     },
     "metadata": {},
     "output_type": "display_data"
    },
    {
     "data": {
      "text/html": [
       " View run <strong style=\"color:#cdcd00\">deft-plasma-90</strong> at: <a href='https://wandb.ai/kseeger7-georgia-institute-of-technology/wildlife/runs/gx5p3nvn' target=\"_blank\">https://wandb.ai/kseeger7-georgia-institute-of-technology/wildlife/runs/gx5p3nvn</a><br/> View project at: <a href='https://wandb.ai/kseeger7-georgia-institute-of-technology/wildlife' target=\"_blank\">https://wandb.ai/kseeger7-georgia-institute-of-technology/wildlife</a><br/>Synced 5 W&B file(s), 0 media file(s), 0 artifact file(s) and 0 other file(s)"
      ],
      "text/plain": [
       "<IPython.core.display.HTML object>"
      ]
     },
     "metadata": {},
     "output_type": "display_data"
    },
    {
     "data": {
      "text/html": [
       "Find logs at: <code>.\\wandb\\run-20241209_074028-gx5p3nvn\\logs</code>"
      ],
      "text/plain": [
       "<IPython.core.display.HTML object>"
      ]
     },
     "metadata": {},
     "output_type": "display_data"
    }
   ],
   "source": [
    "# ✨ W&B: Mark the run as complete (Or wait until the end of notebook)\n",
    "wandb.finish()\n"
   ]
  },
  {
   "cell_type": "code",
   "execution_count": 17,
   "metadata": {},
   "outputs": [],
   "source": [
    "torch.save(model.state_dict(),\"../pretrained_models/pretrained_rodent_model.pth\")"
   ]
  },
  {
   "cell_type": "code",
   "execution_count": null,
   "metadata": {},
   "outputs": [],
   "source": []
  },
  {
   "cell_type": "code",
   "execution_count": null,
   "metadata": {},
   "outputs": [],
   "source": []
  }
 ],
 "metadata": {
  "kernelspec": {
   "display_name": "FinalProject",
   "language": "python",
   "name": "python3"
  },
  "language_info": {
   "codemirror_mode": {
    "name": "ipython",
    "version": 3
   },
   "file_extension": ".py",
   "mimetype": "text/x-python",
   "name": "python",
   "nbconvert_exporter": "python",
   "pygments_lexer": "ipython3",
   "version": "3.11.10"
  }
 },
 "nbformat": 4,
 "nbformat_minor": 2
}
