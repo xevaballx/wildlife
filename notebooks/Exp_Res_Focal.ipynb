{
 "cells": [
  {
   "cell_type": "markdown",
   "metadata": {
    "id": "j6y23yCuMBwj",
    "tags": []
   },
   "source": [
    "## Resnet50 Focal Loss Experiment (no reweight)"
   ]
  },
  {
   "cell_type": "code",

   "execution_count": 1,

   "metadata": {
    "id": "uKiaXIRuMBwn"
   },
   "outputs": [
    {
     "name": "stdout",
     "output_type": "stream",
     "text": [

      "Note: you may need to restart the kernel to use updated packages.\n"
     ]

    }
   ],
   "source": [
    "import os\n",
    "import sys\n",
    "import yaml\n",
    "import wandb\n",
    "import matplotlib.pyplot as plt\n",
    "import pandas as pd\n",
    "import torch\n",
    "import torch.nn.functional as F\n",
    "import time\n",
    "from torch.utils.data import DataLoader\n",
    "\n",
    "# for auto-reloading external modules\n",
    "# see http://stackoverflow.com/questions/1907993/autoreload-of-modules-in-ipython\n",
    "%load_ext autoreload\n",
    "%autoreload 2\n",
    "%pip install wandb -qU\n",
    "%matplotlib inline\n",
    "\n",
    "# Get the current working directory\n",
    "notebook_dir = notebook_dir = os.path.dirname(os.path.abspath(\"__file__\"))  \n",
    "project_dir = os.path.abspath(os.path.join(notebook_dir, '..')) \n",
    "if project_dir not in sys.path:\n",
    "    sys.path.append(project_dir)\n",
    "\n",
    "from src import (get_transforms, load_data, split_data, set_seeds, \n",
    "                 verify_splits, verify_data, plot_species_grid,\n",
    "                 verify_loader_transforms)\n",
    "from src.data_utils import ImagesDataset\n",
    "from src.models import build_resnet50_basic\n",
    "from src.train import setup_training, evaluate_low_log, train"
   ]
  },
  {
   "cell_type": "markdown",
   "metadata": {},
   "source": [
    "Ensure your directory is set up properly:"
   ]
  },
  {
   "cell_type": "code",
   "execution_count": 2,
   "metadata": {},
   "outputs": [],
   "source": [
    "# !tree ../ -L 2\n"
   ]
  },
  {
   "cell_type": "code",
   "execution_count": 3,
   "metadata": {},
   "outputs": [],
   "source": [
    "# !tree ../data/ -L 2"
   ]
  },
  {
   "cell_type": "markdown",
   "metadata": {},
   "source": [
    "### **Set up your experiment**"
   ]
  },
  {
   "cell_type": "markdown",
   "metadata": {},
   "source": [
    "Copy this notebook. Rename it, but keep it in `notebooks/`. To update any settings, params, and/or hyperparams make a copy of `configs/default.yaml`, rename it and call your new `.yaml` below. Be sure to keep it in `configs/`"
   ]
  },
  {
   "cell_type": "code",
   "execution_count": 4,
   "metadata": {},
   "outputs": [],
   "source": [
    "# Locate the YAML file relative to the notebook's location\n",
    "notebook_dir = os.path.dirname(os.path.abspath(\"__file__\"))\n",
    "\n",
    "# You need to update this path to your new .yaml file\n",
    "config_path = os.path.join(notebook_dir, \"../configs/res_focal.yaml\")\n",
    "\n",
    "# Load the YAML file\n",
    "with open(config_path, \"r\") as f:\n",
    "    config = yaml.safe_load(f)\n",
    "# print(config)"
   ]
  },
  {
   "cell_type": "code",
   "execution_count": 5,
   "metadata": {},
   "outputs": [
    {
     "name": "stdout",
     "output_type": "stream",
     "text": [
      "2.5.1\n",

      "True\n",
      "Running on device: mps\n"

     ]
    }
   ],
   "source": [
    "print(torch.__version__)\n",
    "print(torch.backends.mps.is_available())\n",
    "device = config[\"device\"]\n",
    "print(f\"Running on device: {device}\")"
   ]
  },
  {
   "cell_type": "markdown",
   "metadata": {},
   "source": [
    "### **Build the datasets**"
   ]
  },
  {
   "cell_type": "markdown",
   "metadata": {},
   "source": [
    "#### Load the data\n",
    "Note: your data file should be hidden in the repo (.gitignore) but make sure to set it up locally like:\n",
    "\n",
    "`wildlife/data/givens/test_features/[images...]`\n",
    "\n",
    "`wildlife/data/givens/train_features/[images...]`\n",
    "\n",
    "`wildlife/data/givens/train_features.csv`\n",
    "\n",
    "`wildlife/data/givens/test_features.csv`"
   ]
  },
  {
   "cell_type": "code",
   "execution_count": 6,
   "metadata": {},
   "outputs": [],
   "source": [
    "\n",
    "train_features, test_features, train_labels, species_labels = load_data()"
   ]
  },
  {
   "cell_type": "markdown",
   "metadata": {},
   "source": [
    "#### Augment Data"
   ]
  },
  {
   "cell_type": "code",
   "execution_count": 7,
   "metadata": {},
   "outputs": [],
   "source": [
    "# Get transforms\n",
    "train_transforms, val_transforms = get_transforms(config)\n",
    "# print(train_transforms)"
   ]
  },
  {
   "cell_type": "markdown",
   "metadata": {
    "id": "YNzMhcTGMBwp"
   },
   "source": [
    "#### Split into train and evaluation sets\n",
    "\n",
    "We need to ensure that sites are mutually exclusive between the training and validation sets, meaning no site should appear in both sets. This ensures a proper stratification based on site."
   ]
  },
  {
   "cell_type": "code",
   "execution_count": 8,
   "metadata": {},
   "outputs": [],
   "source": [
    "set_seeds(config[\"experiment\"][\"seed\"])\n",
    "X_train, X_val, y_train, y_val = split_data(\n",
    "    train_features, train_labels, type='sites')"
   ]
  },
  {
   "cell_type": "code",
   "execution_count": 9,
   "metadata": {},
   "outputs": [],
   "source": [
    "# Helper function (Optional)\n",
    "# verify_splits(X_train, y_train, X_val,  y_val)"
   ]
  },
  {
   "cell_type": "markdown",
   "metadata": {},
   "source": [
    "#### Set up DataLoader"
   ]
  },
  {
   "cell_type": "code",

   "execution_count": 10,

   "metadata": {},
   "outputs": [],
   "source": [
    "set_seeds(config[\"experiment\"][\"seed\"])\n",
    "\n",
    "# Create datasets\n",
    "train_dataset = ImagesDataset(\n",
    "    features=X_train, \n",
    "    labels=y_train, \n",
    "    transform=train_transforms, \n",
    "    device=device)\n",
    "val_dataset = ImagesDataset(\n",
    "    features=X_val, \n",
    "    labels=y_val, \n",
    "    transform=val_transforms, \n",
    "    device=device)\n",
    "\n",
    "if device==\"cuda\":\n",
    "    pin=False\n",
    "else:\n",
    "    pin=True\n",
    "\n",
    "# Create DataLoaders\n",
    "train_loader = DataLoader(\n",
    "    train_dataset, \n",
    "    batch_size=config[\"train\"][\"batch_size\"], \n",
    "    shuffle=True, \n",
    "    pin_memory=pin)\n",
    "val_loader = DataLoader(\n",
    "    val_dataset, \n",
    "    batch_size=config[\"train\"][\"batch_size\"], \n",
    "    shuffle=False, \n",
    "    pin_memory=pin)"
   ]
  },
  {
   "cell_type": "code",
   "execution_count": 11,
   "metadata": {},
   "outputs": [],
   "source": [
    "# verify transformations in dataloaders (Optional)\n",
    "# verify_loader_transforms(train_loader, title_type='train')\n",
    "# verify_loader_transforms(val_loader, title_type='validate')\n",
    "\n",
    "# set_seeds(config[\"experiment\"]['seed'])"
   ]
  },
  {
   "cell_type": "code",
   "execution_count": 12,
   "metadata": {},
   "outputs": [],
   "source": [
    "# Print shapes for verification (Optional)\n",
    "# print(f\"Training set: {len(train_dataset)} samples\")\n",
    "# print(f\"Validation set: {len(val_dataset)} samples\")"
   ]
  },
  {
   "cell_type": "markdown",
   "metadata": {
    "id": "cPwe5YFjMBwv",
    "tags": []
   },
   "source": [
    "### **Training**\n"
   ]
  },
  {
   "cell_type": "markdown",
   "metadata": {},
   "source": [
    "#### Define the model\n",
    "Note: If you build a new model, add it to `models.py` and update the block below. And update your `.yaml` config."
   ]
  },
  {
   "cell_type": "code",

   "execution_count": 13,

   "metadata": {},
   "outputs": [],
   "source": [
    "set_seeds(config[\"experiment\"]['seed'])\n",
    "model =  build_resnet50_basic(\n",
    "    num_classes = config[\"model\"][\"num_classes\"],\n",
    "    hidden_units1 = config[\"model\"][\"hidden_units1\"],\n",
    "    dropout = config[\"model\"][\"dropout\"],\n",
    "    freeze_backbone = config[\"model\"][\"freeze_backbone\"]\n",
    ")\n",
    "model = model.to(device)"
   ]
  },
  {
   "cell_type": "markdown",
   "metadata": {},
   "source": [
    "#### Define your criterion and optimizer\n",
    "Note: If needed up date these in `train.py` and update your `.yaml` config."
   ]
  },
  {
   "cell_type": "code",

   "execution_count": 14,

   "metadata": {
    "colab": {
     "base_uri": "https://localhost:8080/"
    },
    "id": "Yf3bCjmwMBwv",
    "outputId": "e0b47689-3576-4c08-c1f8-fb4515032200"
   },
   "outputs": [
    {
     "name": "stdout",
     "output_type": "stream",
     "text": [
      "None\n",
      "FocalLoss()\n"
     ]
    }
   ],
   "source": [
    "set_seeds(config[\"experiment\"]['seed'])\n",
    "class_counts = y_train.sum(axis=0).values\n",
    "# print(class_counts)\n",
    "\n",
    "criterion, optimizer = setup_training(\n",
    "        model, \n",
    "        criterion=config[\"train\"][\"criterion\"],\n",
    "        optimizer=config[\"train\"][\"optimizer\"], \n",
    "        lr=config[\"train\"][\"lr\"], \n",
    "        momentum=config[\"train\"][\"momentum\"],\n",
    "        gamma=config[\"train\"][\"gamma\"],\n",
    "        alpha=config[\"train\"][\"alpha\"],\n",
    "        device=device,\n",
    "        cls_num_list=class_counts)\n",
    "print(config[\"train\"][\"alpha\"])\n",
    "print(criterion)"
   ]
  },
  {
   "cell_type": "markdown",
   "metadata": {},
   "source": [
    "#### Set up logging"
   ]
  },
  {
   "cell_type": "code",

   "execution_count": 15,

   "metadata": {},
   "outputs": [
    {
     "name": "stderr",
     "output_type": "stream",
     "text": [
      "\u001b[34m\u001b[1mwandb\u001b[0m: Using wandb-core as the SDK backend.  Please refer to https://wandb.me/wandb-core for more information.\n",

      "\u001b[34m\u001b[1mwandb\u001b[0m: Currently logged in as: \u001b[33mgball30\u001b[0m (\u001b[33mgball30-georgia-institute-of-technology\u001b[0m). Use \u001b[1m`wandb login --relogin`\u001b[0m to force relogin\n"

     ]
    },
    {
     "data": {
      "text/plain": [
       "True"
      ]
     },

     "execution_count": 15,

     "metadata": {},
     "output_type": "execute_result"
    }
   ],
   "source": [
    "wandb.require()\n",
    "wandb.login()"
   ]
  },
  {
   "cell_type": "code",

   "execution_count": 16,

   "metadata": {},
   "outputs": [
    {
     "data": {
      "text/html": [
       "Tracking run with wandb version 0.19.0"
      ],
      "text/plain": [
       "<IPython.core.display.HTML object>"
      ]
     },
     "metadata": {},
     "output_type": "display_data"
    },
    {
     "data": {
      "text/html": [

       "Run data is saved locally in <code>/Users/evaball/Documents/CS_Projects/HomeWork/Gatech/wildlife/notebooks/wandb/run-20241212_020919-jw5erjlq</code>"

      ],
      "text/plain": [
       "<IPython.core.display.HTML object>"
      ]
     },
     "metadata": {},
     "output_type": "display_data"
    },
    {
     "data": {
      "text/html": [

       "Syncing run <strong><a href='https://wandb.ai/gball30-georgia-institute-of-technology/wildlife/runs/jw5erjlq' target=\"_blank\">sparkling-mountain-253</a></strong> to <a href='https://wandb.ai/gball30-georgia-institute-of-technology/wildlife' target=\"_blank\">Weights & Biases</a> (<a href='https://wandb.me/developer-guide' target=\"_blank\">docs</a>)<br/>"

      "text/plain": [
       "<IPython.core.display.HTML object>"
      ]
     },
     "metadata": {},
     "output_type": "display_data"
    },
    {
     "data": {
      "text/html": [

       " View project at <a href='https://wandb.ai/gball30-georgia-institute-of-technology/wildlife' target=\"_blank\">https://wandb.ai/gball30-georgia-institute-of-technology/wildlife</a>"

      ],
      "text/plain": [
       "<IPython.core.display.HTML object>"
      ]
     },
     "metadata": {},
     "output_type": "display_data"
    },
    {
     "data": {
      "text/html": [

       " View run at <a href='https://wandb.ai/gball30-georgia-institute-of-technology/wildlife/runs/jw5erjlq' target=\"_blank\">https://wandb.ai/gball30-georgia-institute-of-technology/wildlife/runs/jw5erjlq</a>"

      ],
      "text/plain": [
       "<IPython.core.display.HTML object>"
      ]
     },
     "metadata": {},
     "output_type": "display_data"
    }
   ],
   "source": [
    "# ✨ W&B: Initialize a new run to track this model's training\n",
    "wandb.init(project=\"wildlife\")\n",
    "cfg = wandb.config\n",
    "cfg.update(config)"
   ]
  },
  {
   "cell_type": "markdown",
   "metadata": {},
   "source": [
    "#### Run the train / eval loop"
   ]
  },
  {
   "cell_type": "code",

   "execution_count": 17,

   "metadata": {},
   "outputs": [
    {
     "name": "stdout",
     "output_type": "stream",
     "text": [
      "Starting training for epoch 1\n",

      "Epoch [1/5], Step [100/412], Loss: 1.381795644760\n",
      "Epoch [1/5], Step [200/412], Loss: 1.199277400970\n",
      "Epoch [1/5], Step [300/412], Loss: 1.016803264618\n",
      "Epoch [1/5], Step [400/412], Loss: 0.981006145477\n",
      "Epoch 1/5 - Avg Train Loss: 1.148034077102\n",
      "Eval - Loss: 0.9374, Accuracy: 34.55%, Precision: 0.28, Recall: 0.35, F1: 0.27, MacroF1: 0.25\n",
      "Epoch 1/5 - Eval Loss: 0.937421367146, Eval Acc: 34.55%\n",
      "Starting training for epoch 2\n",
      "Epoch [2/5], Step [100/412], Loss: 0.657710313797\n",
      "Epoch [2/5], Step [200/412], Loss: 0.809814691544\n",
      "Epoch [2/5], Step [300/412], Loss: 0.742990016937\n",
      "Epoch [2/5], Step [400/412], Loss: 0.617784678936\n",
      "Epoch 2/5 - Avg Train Loss: 0.746307136581\n",
      "Eval - Loss: 0.8548, Accuracy: 38.77%, Precision: 0.40, Recall: 0.39, F1: 0.37, MacroF1: 0.37\n",
      "Epoch 2/5 - Eval Loss: 0.854811105017, Eval Acc: 38.77%\n",
      "Starting training for epoch 3\n",
      "Epoch [3/5], Step [100/412], Loss: 0.595596611500\n",
      "Epoch [3/5], Step [200/412], Loss: 0.414637744427\n",
      "Epoch [3/5], Step [300/412], Loss: 0.456362962723\n",
      "Epoch [3/5], Step [400/412], Loss: 0.491064757109\n",
      "Epoch 3/5 - Avg Train Loss: 0.553236985453\n",
      "Eval - Loss: 0.7394, Accuracy: 44.77%, Precision: 0.45, Recall: 0.45, F1: 0.42, MacroF1: 0.42\n",
      "Epoch 3/5 - Eval Loss: 0.739385189918, Eval Acc: 44.77%\n",
      "Starting training for epoch 4\n",
      "Epoch [4/5], Step [100/412], Loss: 0.361690580845\n",
      "Epoch [4/5], Step [200/412], Loss: 0.330831944942\n",
      "Epoch [4/5], Step [300/412], Loss: 0.493879795074\n",
      "Epoch [4/5], Step [400/412], Loss: 0.266547828913\n",
      "Epoch 4/5 - Avg Train Loss: 0.419906873473\n",
      "Eval - Loss: 0.7234, Accuracy: 46.79%, Precision: 0.49, Recall: 0.47, F1: 0.46, MacroF1: 0.45\n",
      "Epoch 4/5 - Eval Loss: 0.723399840582, Eval Acc: 46.79%\n",
      "Starting training for epoch 5\n",
      "Epoch [5/5], Step [100/412], Loss: 0.450739800930\n",
      "Epoch [5/5], Step [200/412], Loss: 0.192094475031\n",
      "Epoch [5/5], Step [300/412], Loss: 0.404604732990\n",
      "Epoch [5/5], Step [400/412], Loss: 0.240394532681\n",
      "Epoch 5/5 - Avg Train Loss: 0.342221829588\n",
      "Eval - Loss: 0.6962, Accuracy: 51.46%, Precision: 0.54, Recall: 0.51, F1: 0.50, MacroF1: 0.49\n",
      "Epoch 5/5 - Eval Loss: 0.696248343644, Eval Acc: 51.46%\n"

     ]
    }
   ],
   "source": [
    "train_losses = []  # To store average training loss per epoch\n",
    "val_losses = []    # To store validation loss per epoch\n",
    "set_seeds(config[\"experiment\"]['seed'])\n",
    "\n",
    "start_time = time.time()\n",
    "for epoch in range(config[\"train\"][\"epochs\"]):\n",
    "    # Training step\n",
    "    avg_train_loss = train(model, \n",
    "                                     train_loader, \n",
    "                                     criterion, \n",
    "                                     optimizer, \n",
    "                                     epoch, config, device=device)\n",
    "    train_losses.append(avg_train_loss)  # Store avg training loss\n",
    "    print(f\"Epoch {epoch+1}/{config['train']['epochs']} - Avg Train Loss: {avg_train_loss:.12f}\")\n",
    "    \n",
    "    # Evaluation step\n",
    "    eval_metrics = evaluate_low_log(model, val_loader, criterion, config, epoch+1, device=device)\n",
    "    val_losses.append(eval_metrics[\"loss\"])  # Store validation loss\n",
    "    print(f\"Epoch {epoch+1}/{config['train']['epochs']} - Eval Loss: {eval_metrics['loss']:.12f}, Eval Acc: {eval_metrics['accuracy']:.2f}%\")\n",
    "\n",
    "end_time = time.time()\n",
    "duration = end_time - start_time\n",
    "wandb.log({\"duration\": duration})\n"
   ]
  },
  {
   "cell_type": "markdown",
   "metadata": {},
   "source": [
    "If you are done logging or you want to run the experiment again, finish with the block below. But if you think you might want to submit this run to the competition, don't finish logging until the end once you've added the competition score."
   ]
  },
  {
   "cell_type": "code",

   "execution_count": 18,

   "metadata": {},
   "outputs": [
    {
     "data": {
      "text/html": [
       "\n",
       "    <style>\n",
       "        .wandb-row {\n",
       "            display: flex;\n",
       "            flex-direction: row;\n",
       "            flex-wrap: wrap;\n",
       "            justify-content: flex-start;\n",
       "            width: 100%;\n",
       "        }\n",
       "        .wandb-col {\n",
       "            display: flex;\n",
       "            flex-direction: column;\n",
       "            flex-basis: 100%;\n",
       "            flex: 1;\n",
       "            padding: 10px;\n",
       "        }\n",
       "    </style>\n",

       "<div class=\"wandb-row\"><div class=\"wandb-col\"><h3>Run history:</h3><br/><table class=\"wandb\"><tr><td>duration</td><td>▁</td></tr><tr><td>epoch</td><td>▁▁▁▁▁▁▁▁▃▃▃▃▃▃▃▃▅▅▅▅▅▅▅▅▆▆▆▆▆▆▆▆████████</td></tr><tr><td>eval_accuracy</td><td>▁▃▅▆█</td></tr><tr><td>eval_f1</td><td>▁▄▅▇█</td></tr><tr><td>eval_loss</td><td>█▆▂▂▁</td></tr><tr><td>eval_macro_f1</td><td>▁▄▆▇█</td></tr><tr><td>eval_precision</td><td>▁▄▆▇█</td></tr><tr><td>eval_recall</td><td>▁▃▅▆█</td></tr><tr><td>f1_antelope_duiker</td><td>▄▁▇▆█</td></tr><tr><td>f1_bird</td><td>▁▇▅██</td></tr><tr><td>f1_blank</td><td>▁▄▆▇█</td></tr><tr><td>f1_civet_genet</td><td>▂▁▅▄█</td></tr><tr><td>f1_hog</td><td>▁▅█▆▆</td></tr><tr><td>f1_leopard</td><td>▁▄▅▇█</td></tr><tr><td>f1_macro avg</td><td>▁▄▆▇█</td></tr><tr><td>f1_monkey_prosimian</td><td>▁▄▆▇█</td></tr><tr><td>f1_rodent</td><td>▁▆▂▆█</td></tr><tr><td>f1_weighted avg</td><td>▁▄▅▇█</td></tr><tr><td>loss</td><td>██▇▇▆▆▅▅▅▄▄▅▄▄▄▃▃▃▃▂▃▃▃▃▂▂▂▂▃▃▃▁▂▂▂▁▂▂▂▁</td></tr></table><br/></div><div class=\"wandb-col\"><h3>Run summary:</h3><br/><table class=\"wandb\"><tr><td>duration</td><td>1508.43756</td></tr><tr><td>epoch</td><td>5</td></tr><tr><td>eval_accuracy</td><td>51.46216</td></tr><tr><td>eval_f1</td><td>0.5046</td></tr><tr><td>eval_loss</td><td>0.69625</td></tr><tr><td>eval_macro_f1</td><td>0.49365</td></tr><tr><td>eval_precision</td><td>0.53683</td></tr><tr><td>eval_recall</td><td>0.51462</td></tr><tr><td>f1_antelope_duiker</td><td>0.52446</td></tr><tr><td>f1_bird</td><td>0.34608</td></tr><tr><td>f1_blank</td><td>0.43668</td></tr><tr><td>f1_civet_genet</td><td>0.58314</td></tr><tr><td>f1_hog</td><td>0.38621</td></tr><tr><td>f1_leopard</td><td>0.7378</td></tr><tr><td>f1_macro avg</td><td>0.49365</td></tr><tr><td>f1_monkey_prosimian</td><td>0.59806</td></tr><tr><td>f1_rodent</td><td>0.33679</td></tr><tr><td>f1_weighted avg</td><td>0.5046</td></tr><tr><td>loss</td><td>0.24039</td></tr></table><br/></div></div>"

      ],
      "text/plain": [
       "<IPython.core.display.HTML object>"
      ]
     },
     "metadata": {},
     "output_type": "display_data"
    },
    {
     "data": {
      "text/html": [

       " View run <strong style=\"color:#cdcd00\">sparkling-mountain-253</strong> at: <a href='https://wandb.ai/gball30-georgia-institute-of-technology/wildlife/runs/jw5erjlq' target=\"_blank\">https://wandb.ai/gball30-georgia-institute-of-technology/wildlife/runs/jw5erjlq</a><br/> View project at: <a href='https://wandb.ai/gball30-georgia-institute-of-technology/wildlife' target=\"_blank\">https://wandb.ai/gball30-georgia-institute-of-technology/wildlife</a><br/>Synced 5 W&B file(s), 0 media file(s), 10 artifact file(s) and 5 other file(s)"

      ],
      "text/plain": [
       "<IPython.core.display.HTML object>"
      ]
     },
     "metadata": {},
     "output_type": "display_data"
    },
    {
     "data": {
      "text/html": [

       "Find logs at: <code>./wandb/run-20241212_020919-jw5erjlq/logs</code>"

      ],
      "text/plain": [
       "<IPython.core.display.HTML object>"
      ]
     },
     "metadata": {},
     "output_type": "display_data"
    }
   ],
   "source": [
    "# ✨ W&B: Mark the run as complete (Or wait until the end of notebook)\n",
    "wandb.finish()"
   ]
  },
  {
   "cell_type": "markdown",
   "metadata": {},
   "source": [
    "---\n"
   ]
  },
  {
   "cell_type": "markdown",
   "metadata": {},
   "source": [
    "### **Explore Experiment** "
   ]
  },
  {
   "cell_type": "code",

   "execution_count": 19,

   "metadata": {},
   "outputs": [],
   "source": [
    "# set to True to explore and potentially submit your results \n",
    "explore = True"
   ]
  },
  {
   "cell_type": "markdown",
   "metadata": {},
   "source": [
    "#### Learning Curve"
   ]
  },
  {
   "cell_type": "code",

   "execution_count": 20,

   "metadata": {},
   "outputs": [
    {
     "data": {

      "image/png": "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",

      "text/plain": [
       "<Figure size 1000x600 with 1 Axes>"
      ]
     },
     "metadata": {},
     "output_type": "display_data"
    }
   ],
   "source": [
    "if explore:\n",
    "    plt.figure(figsize=(10, 6))\n",
    "    plt.plot(range(1, config[\"train\"][\"epochs\"]+1), train_losses, label=\"Training Loss\", marker=\"o\")\n",
    "    plt.plot(range(1, config[\"train\"][\"epochs\"]+1), val_losses, label=\"Validation Loss\", marker=\"o\")\n",
    "    plt.xlabel(\"Epochs\")\n",
    "    plt.ylabel(\"Loss\")\n",
    "    plt.title(\"Learning Curve\")\n",
    "    plt.legend()\n",
    "    plt.grid(True)\n",
    "    plt.show()"
   ]
  },
  {
   "cell_type": "markdown",
   "metadata": {},
   "source": [
    "#### Class Distribution  "
   ]
  },
  {
   "cell_type": "markdown",
   "metadata": {},
   "source": [
    "True Labels from Training Set"
   ]
  },
  {
   "cell_type": "code",

   "execution_count": 21,

   "metadata": {},
   "outputs": [
    {
     "name": "stdout",
     "output_type": "stream",
     "text": [
      "True labels (training):\n",
      "civet_genet         2055\n",
      "monkey_prosimian    1959\n",
      "antelope_duiker     1867\n",
      "leopard             1859\n",
      "blank               1800\n",
      "rodent              1535\n",
      "bird                1324\n",
      "hog                  772\n",
      "Name: count, dtype: int64\n"
     ]
    }
   ],
   "source": [
    "if explore:\n",
    "    print(\"True labels (training):\")\n",
    "    print(y_train.idxmax(axis=1).value_counts())   "
   ]
  },
  {
   "cell_type": "markdown",
   "metadata": {},
   "source": [
    "True and Predicated Labels from Validation Set"
   ]

  },
  {
   "cell_type": "code",
   "execution_count": 21,
   "metadata": {},
   "outputs": [
    {
     "name": "stdout",
     "output_type": "stream",
     "text": [
      "Predicted labels (eval):\n",
      "predicted_label\n",
      "monkey_prosimian    873\n",
      "blank               630\n",
      "antelope_duiker     537\n",
      "civet_genet         319\n",
      "rodent              314\n",
      "leopard             312\n",
      "bird                249\n",
      "hog                  83\n",
      "Name: count, dtype: int64\n",
      "\n",
      "True labels (eval):\n",
      "true_label\n",
      "antelope_duiker     607\n",
      "monkey_prosimian    533\n",
      "rodent              478\n",
      "blank               413\n",
      "leopard             395\n",
      "civet_genet         368\n",
      "bird                317\n",
      "hog                 206\n",
      "Name: count, dtype: int64\n"
     ]
    }
   ],
   "source": [
    "if explore:\n",
    "    # Extract predictions and true labels from eval_metrics\n",
    "    all_preds = eval_metrics[\"all_preds\"]\n",
    "    all_labels = eval_metrics[\"all_labels\"]\n",
    "\n",
    "    # Convert all_preds to DataFrame and map to class names\n",
    "    preds_df = pd.DataFrame(all_preds, columns=[\"predicted_class\"])\n",
    "    preds_df[\"predicted_label\"] = preds_df[\"predicted_class\"].map(\n",
    "        lambda idx: species_labels[idx]\n",
    "    )\n",
    "\n",
    "    # Convert all_labels to DataFrame and map to class names\n",
    "    labels_df = pd.DataFrame(all_labels, columns=[\"true_class\"])\n",
    "    labels_df[\"true_label\"] = labels_df[\"true_class\"].map(\n",
    "        lambda idx: species_labels[idx]\n",
    "    )\n",
    "\n",
    "    # Combine predictions and true labels for analysis\n",
    "    results_df = pd.concat([preds_df, labels_df], axis=1)\n",
    "\n",
    "    # Display value counts for predicted and true labels\n",
    "    print(\"Predicted labels (eval):\")\n",
    "    print(results_df[\"predicted_label\"].value_counts())\n",
    "\n",
    "    print(\"\\nTrue labels (eval):\")\n",
    "    print(results_df[\"true_label\"].value_counts())"
   ]
  },
  {
   "cell_type": "markdown",
   "metadata": {},
   "source": [
    "Accuracy per class"
   ]
  },
  {
   "cell_type": "code",
   "execution_count": 22,
   "metadata": {},
   "outputs": [
    {
     "name": "stdout",
     "output_type": "stream",
     "text": [
      "Per-Class Accuracy:\n",
      "true_label\n",
      "antelope_duiker     0.484349\n",
      "bird                0.321767\n",
      "blank               0.542373\n",
      "civet_genet         0.538043\n",
      "hog                 0.266990\n",
      "leopard             0.691139\n",
      "monkey_prosimian    0.759850\n",
      "rodent              0.345188\n",
      "dtype: float64\n"
     ]
    },
    {
     "name": "stderr",
     "output_type": "stream",
     "text": [
      "C:\\Users\\kseeg\\AppData\\Local\\Temp\\ipykernel_9928\\3812328652.py:2: DeprecationWarning: DataFrameGroupBy.apply operated on the grouping columns. This behavior is deprecated, and in a future version of pandas the grouping columns will be excluded from the operation. Either pass `include_groups=False` to exclude the groupings or explicitly select the grouping columns after groupby to silence this warning.\n",
      "  per_class_accuracy = results_df.groupby(\"true_label\").apply(\n"
     ]
    }
   ],
   "source": [
    "if explore:    \n",
    "    per_class_accuracy = results_df.groupby(\"true_label\").apply(\n",
    "        lambda x: (x[\"true_label\"] == x[\"predicted_label\"]).mean(), \n",
    "    )\n",
    "    print(\"Per-Class Accuracy:\")\n",
    "    print(per_class_accuracy)"
   ]
  },
  {
   "cell_type": "markdown",
   "metadata": {},
   "source": [
    "Confusion Matrix"
   ]
  },
  {
   "cell_type": "code",
   "execution_count": 23,
   "metadata": {},
   "outputs": [
    {
     "data": {
      "image/png": "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",
      "text/plain": [
       "<Figure size 1000x1000 with 2 Axes>"
      ]
     },
     "metadata": {},
     "output_type": "display_data"
    }
   ],
   "source": [
    "if explore:\n",
    "    from sklearn.metrics import ConfusionMatrixDisplay\n",
    "\n",
    "    eval_true = pd.Series(all_labels).apply(lambda x: species_labels[x])\n",
    "    eval_predictions = pd.Series(all_preds).apply(lambda x: species_labels[x])\n",
    "\n",
    "    # Plot confusion matrix\n",
    "    fig, ax = plt.subplots(figsize=(10, 10))\n",
    "    cm = ConfusionMatrixDisplay.from_predictions(\n",
    "        eval_true,\n",
    "        eval_predictions,\n",
    "        ax=ax,\n",
    "        xticks_rotation=90,\n",
    "        colorbar=True,\n",
    "        normalize='true'\n",
    "    )\n",
    "    plt.title(\"Normalized Confusion Matrix\")\n",
    "    plt.show()"
   ]
  },
  {
   "cell_type": "code",
   "execution_count": null,
   "metadata": {},
   "outputs": [],
   "source": []

  }
 ],
 "metadata": {
  "accelerator": "GPU",
  "anaconda-cloud": {},
  "colab": {
   "gpuType": "T4",
   "include_colab_link": true,
   "provenance": []
  },
  "kernelspec": {
   "display_name": "FinalProject",
   "language": "python",
   "name": "python3"
  },
  "language_info": {
   "codemirror_mode": {
    "name": "ipython",
    "version": 3
   },
   "file_extension": ".py",
   "mimetype": "text/x-python",
   "name": "python",
   "nbconvert_exporter": "python",
   "pygments_lexer": "ipython3",
   "version": "3.11.10"
  }
 },
 "nbformat": 4,
 "nbformat_minor": 0
}
