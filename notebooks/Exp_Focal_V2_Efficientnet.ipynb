{
 "cells": [
  {
   "cell_type": "markdown",
   "metadata": {
    "id": "j6y23yCuMBwj",
    "tags": []
   },
   "source": [
    "## V2 Efficient Net Experiment"
   ]
  },
  {
   "cell_type": "code",
   "execution_count": 1,
   "metadata": {
    "id": "uKiaXIRuMBwn"
   },
   "outputs": [
    {
     "name": "stdout",
     "output_type": "stream",
     "text": [
      "Note: you may need to restart the kernel to use updated packages.\n"
     ]
    }
   ],
   "source": [
    "import os\n",
    "import sys\n",
    "import yaml\n",
    "import wandb\n",
    "import matplotlib.pyplot as plt\n",
    "import pandas as pd\n",
    "import torch\n",
    "import torch.nn.functional as F\n",
    "import time\n",
    "from torch.utils.data import DataLoader\n",
    "\n",
    "# for auto-reloading external modules\n",
    "# see http://stackoverflow.com/questions/1907993/autoreload-of-modules-in-ipython\n",
    "%load_ext autoreload\n",
    "%autoreload 2\n",
    "%pip install wandb -qU\n",
    "%matplotlib inline\n",
    "\n",
    "# Get the current working directory\n",
    "notebook_dir = notebook_dir = os.path.dirname(os.path.abspath(\"__file__\"))  \n",
    "project_dir = os.path.abspath(os.path.join(notebook_dir, '..')) \n",
    "if project_dir not in sys.path:\n",
    "    sys.path.append(project_dir)\n",
    "\n",
    "from src import (get_transforms, load_data, split_data, set_seeds, \n",
    "                 verify_splits, verify_data, plot_species_grid,\n",
    "                 verify_loader_transforms)\n",
    "from src.data_utils import ImagesDataset\n",
    "from src.models import build_efficientnet_v2_basic, build_resnet50_basic\n",
    "from src.train import setup_training, evaluate, evaluate_low_log, train"
   ]
  },
  {
   "cell_type": "markdown",
   "metadata": {},
   "source": [
    "### **Set up your experiment**"
   ]
  },
  {
   "cell_type": "markdown",
   "metadata": {},
   "source": [
    "Copy this notebook. Rename it, but keep it in `notebooks/`. To update any settings, params, and/or hyperparams make a copy of `configs/default.yaml`, rename it and call your new `.yaml` below. Be sure to keep it in `configs/`"
   ]
  },
  {
   "cell_type": "code",
   "execution_count": 2,
   "metadata": {},
   "outputs": [],
   "source": [
    "# Locate the YAML file relative to the notebook's location\n",
    "notebook_dir = os.path.dirname(os.path.abspath(\"__file__\"))\n",
    "\n",
    "# You need to update this path to your new .yaml file\n",
    "config_path = os.path.join(notebook_dir, \"../configs/effnetV2_exp.yaml\")\n",
    "\n",
    "# Load the YAML file\n",
    "with open(config_path, \"r\") as f:\n",
    "    config = yaml.safe_load(f)"
   ]
  },
  {
   "cell_type": "code",
   "execution_count": 3,
   "metadata": {},
   "outputs": [
    {
     "name": "stdout",
     "output_type": "stream",
     "text": [
      "2.5.1\n",
      "True\n"
     ]
    }
   ],
   "source": [
    "print(torch.__version__)\n",
    "print(torch.backends.mps.is_available())\n",
    "device = config[\"device\"]"
   ]
  },
  {
   "cell_type": "markdown",
   "metadata": {},
   "source": [
    "### **Build the datasets**"
   ]
  },
  {
   "cell_type": "markdown",
   "metadata": {},
   "source": [
    "#### Load the data\n",
    "Note: your data file should be hidden in the repo (.gitignore) but make sure to set it up locally like:\n",
    "\n",
    "`wildlife/data/givens/test_features/[images...]`\n",
    "\n",
    "`wildlife/data/givens/train_features/[images...]`\n",
    "\n",
    "`wildlife/data/givens/train_features.csv`\n",
    "\n",
    "`wildlife/data/givens/test_features.csv`"
   ]
  },
  {
   "cell_type": "code",
   "execution_count": 4,
   "metadata": {},
   "outputs": [],
   "source": [
    "\n",
    "train_features, test_features, train_labels, species_labels = load_data()"
   ]
  },
  {
   "cell_type": "markdown",
   "metadata": {},
   "source": [
    "#### Augment Data"
   ]
  },
  {
   "cell_type": "code",
   "execution_count": 5,
   "metadata": {},
   "outputs": [],
   "source": [
    "# Get transforms\n",
    "train_transforms, val_transforms = get_transforms(config)\n",
    "# print(train_transforms)\n",
    "# print(val_transforms)"
   ]
  },
  {
   "cell_type": "markdown",
   "metadata": {
    "id": "YNzMhcTGMBwp"
   },
   "source": [
    "#### Split into train and evaluation sets\n",
    "\n",
    "We need to ensure that sites are mutually exclusive between the training and validation sets, meaning no site should appear in both sets. This ensures a proper stratification based on site."
   ]
  },
  {
   "cell_type": "code",
   "execution_count": 6,
   "metadata": {},
   "outputs": [],
   "source": [
    "set_seeds(config[\"experiment\"][\"seed\"])\n",
    "X_train, X_val, y_train, y_val = split_data(\n",
    "    train_features, train_labels, type='sites')"
   ]
  },
  {
   "cell_type": "code",
   "execution_count": 7,
   "metadata": {},
   "outputs": [],
   "source": [
    "# Helper function (Optional)\n",
    "# verify_splits(X_train, y_train, X_val,  y_val)"
   ]
  },
  {
   "cell_type": "markdown",
   "metadata": {},
   "source": [
    "#### Set up DataLoader"
   ]
  },
  {
   "cell_type": "code",
   "execution_count": 8,
   "metadata": {},
   "outputs": [],
   "source": [
    "set_seeds(config[\"experiment\"][\"seed\"])\n",
    "\n",
    "# Create datasets\n",
    "train_dataset = ImagesDataset(\n",
    "    features=X_train, \n",
    "    labels=y_train, \n",
    "    transform=train_transforms, \n",
    "    device=device)\n",
    "val_dataset = ImagesDataset(\n",
    "    features=X_val, \n",
    "    labels=y_val, \n",
    "    transform=val_transforms, \n",
    "    device=device)\n",
    "\n",
    "# Create DataLoaders\n",
    "train_loader = DataLoader(\n",
    "    train_dataset, \n",
    "    batch_size=config[\"train\"][\"batch_size\"], \n",
    "    shuffle=True, pin_memory=True)\n",
    "val_loader = DataLoader(\n",
    "    val_dataset, \n",
    "    batch_size=config[\"train\"][\"batch_size\"], \n",
    "    shuffle=False, pin_memory=True)"
   ]
  },
  {
   "cell_type": "code",
   "execution_count": 9,
   "metadata": {},
   "outputs": [],
   "source": [
    "# verify transformations in dataloaders (Optional)\n",
    "# verify_loader_transforms(train_loader, title_type='train')\n",
    "# verify_loader_transforms(val_loader, title_type='validate')\n",
    "\n",
    "# set_seeds(config[\"experiment\"]['seed'])"
   ]
  },
  {
   "cell_type": "code",
   "execution_count": 10,
   "metadata": {},
   "outputs": [
    {
     "name": "stdout",
     "output_type": "stream",
     "text": [
      "Training set: 13171 samples\n",
      "Validation set: 3317 samples\n"
     ]
    }
   ],
   "source": [
    "# Print shapes for verification (Optional)\n",
    "print(f\"Training set: {len(train_dataset)} samples\")\n",
    "print(f\"Validation set: {len(val_dataset)} samples\")"
   ]
  },
  {
   "cell_type": "markdown",
   "metadata": {
    "id": "cPwe5YFjMBwv",
    "tags": []
   },
   "source": [
    "### **Training**\n"
   ]
  },
  {
   "cell_type": "markdown",
   "metadata": {},
   "source": [
    "#### Define the model\n",
    "Note: If you build a new model, add it to `models.py` and update the block below. And update your `.yaml` config."
   ]
  },
  {
   "cell_type": "code",
   "execution_count": 11,
   "metadata": {},
   "outputs": [],
   "source": [
    "# set_seeds(config[\"experiment\"]['seed'])\n",
    "# model = build_resnet50_basic(\n",
    "#     num_classes = config[\"model\"][\"num_classes\"],\n",
    "#     hidden_units1 = config[\"model\"][\"hidden_units1\"],\n",
    "#     dropout = config[\"model\"][\"dropout\"],\n",
    "#     freeze_backbone = config[\"model\"][\"freeze_backbone\"]\n",
    "# )\n",
    "# model = model.to(device)"
   ]
  },
  {
   "cell_type": "code",
   "execution_count": 12,
   "metadata": {},
   "outputs": [],
   "source": [
    "set_seeds(config[\"experiment\"]['seed'])\n",
    "model =  build_efficientnet_v2_basic(\n",
    "    num_classes = config[\"model\"][\"num_classes\"],\n",
    "    hidden_units1 = config[\"model\"][\"hidden_units1\"],\n",
    "    dropout = config[\"model\"][\"dropout\"],\n",
    "    freeze_backbone = config[\"model\"][\"freeze_backbone\"]\n",
    ")\n",
    "model = model.to(device)\n"
   ]
  },
  {
   "cell_type": "markdown",
   "metadata": {},
   "source": [
    "#### Define your criterion and optimizer\n",
    "Note: If needed up date these in `train.py` and update your `.yaml` config."
   ]
  },
  {
   "cell_type": "code",
   "execution_count": 13,
   "metadata": {
    "colab": {
     "base_uri": "https://localhost:8080/"
    },
    "id": "Yf3bCjmwMBwv",
    "outputId": "e0b47689-3576-4c08-c1f8-fb4515032200"
   },
   "outputs": [],
   "source": [
    "set_seeds(config[\"experiment\"]['seed'])\n",
    "class_counts = y_train.sum(axis=0).values\n",
    "# print(class_counts)\n",
    "\n",
    "criterion, optimizer = setup_training(\n",
    "        model, \n",
    "        criterion=config[\"train\"][\"criterion\"],\n",
    "        optimizer=config[\"train\"][\"optimizer\"], \n",
    "        lr=config[\"train\"][\"lr\"], \n",
    "        momentum=config[\"train\"][\"momentum\"],\n",
    "        gamma=config[\"train\"][\"gamma\"],\n",
    "        alpha=config[\"train\"][\"alpha\"],\n",
    "        device=device,\n",
    "        cls_num_list=class_counts)\n",
    "# print(config[\"train\"][\"alpha\"])\n",
    "# print(criterion)\n"
   ]
  },
  {
   "cell_type": "markdown",
   "metadata": {},
   "source": [
    "#### Set up logging"
   ]
  },
  {
   "cell_type": "code",
   "execution_count": 14,
   "metadata": {},
   "outputs": [
    {
     "name": "stderr",
     "output_type": "stream",
     "text": [
      "\u001b[34m\u001b[1mwandb\u001b[0m: Using wandb-core as the SDK backend.  Please refer to https://wandb.me/wandb-core for more information.\n",
      "\u001b[34m\u001b[1mwandb\u001b[0m: Currently logged in as: \u001b[33mgball30\u001b[0m (\u001b[33mgball30-georgia-institute-of-technology\u001b[0m). Use \u001b[1m`wandb login --relogin`\u001b[0m to force relogin\n"
     ]
    },
    {
     "data": {
      "text/plain": [
       "True"
      ]
     },
     "execution_count": 14,
     "metadata": {},
     "output_type": "execute_result"
    }
   ],
   "source": [
    "wandb.require()\n",
    "wandb.login()"
   ]
  },
  {
   "cell_type": "code",
   "execution_count": 15,
   "metadata": {},
   "outputs": [
    {
     "data": {
      "text/html": [
       "Tracking run with wandb version 0.19.0"
      ],
      "text/plain": [
       "<IPython.core.display.HTML object>"
      ]
     },
     "metadata": {},
     "output_type": "display_data"
    },
    {
     "data": {
      "text/html": [
       "Run data is saved locally in <code>/Users/evaball/Documents/CS_Projects/HomeWork/Gatech/wildlife/notebooks/wandb/run-20241206_164659-mik2y3ju</code>"
      ],
      "text/plain": [
       "<IPython.core.display.HTML object>"
      ]
     },
     "metadata": {},
     "output_type": "display_data"
    },
    {
     "data": {
      "text/html": [
       "Syncing run <strong><a href='https://wandb.ai/gball30-georgia-institute-of-technology/wildlife/runs/mik2y3ju' target=\"_blank\">celestial-smoke-169</a></strong> to <a href='https://wandb.ai/gball30-georgia-institute-of-technology/wildlife' target=\"_blank\">Weights & Biases</a> (<a href='https://wandb.me/developer-guide' target=\"_blank\">docs</a>)<br/>"
      ],
      "text/plain": [
       "<IPython.core.display.HTML object>"
      ]
     },
     "metadata": {},
     "output_type": "display_data"
    },
    {
     "data": {
      "text/html": [
       " View project at <a href='https://wandb.ai/gball30-georgia-institute-of-technology/wildlife' target=\"_blank\">https://wandb.ai/gball30-georgia-institute-of-technology/wildlife</a>"
      ],
      "text/plain": [
       "<IPython.core.display.HTML object>"
      ]
     },
     "metadata": {},
     "output_type": "display_data"
    },
    {
     "data": {
      "text/html": [
       " View run at <a href='https://wandb.ai/gball30-georgia-institute-of-technology/wildlife/runs/mik2y3ju' target=\"_blank\">https://wandb.ai/gball30-georgia-institute-of-technology/wildlife/runs/mik2y3ju</a>"
      ],
      "text/plain": [
       "<IPython.core.display.HTML object>"
      ]
     },
     "metadata": {},
     "output_type": "display_data"
    },
    {
     "data": {
      "text/html": [
       "<button onClick=\"this.nextSibling.style.display='block';this.style.display='none';\">Display W&B run</button><iframe src='https://wandb.ai/gball30-georgia-institute-of-technology/wildlife/runs/mik2y3ju?jupyter=true' style='border:none;width:100%;height:420px;display:none;'></iframe>"
      ],
      "text/plain": [
       "<wandb.sdk.wandb_run.Run at 0x3444572c0>"
      ]
     },
     "execution_count": 15,
     "metadata": {},
     "output_type": "execute_result"
    }
   ],
   "source": [
    "# ✨ W&B: Initialize a new run to track this model's training\n",
    "wandb.init(project=\"wildlife\", config=config)"
   ]
  },
  {
   "cell_type": "markdown",
   "metadata": {},
   "source": [
    "#### Run the train / eval loop"
   ]
  },
  {
   "cell_type": "code",
   "execution_count": 16,
   "metadata": {},
   "outputs": [
    {
     "name": "stdout",
     "output_type": "stream",
     "text": [
      "Starting training for epoch 1\n",
      "Epoch [1/3], Step [100/1647], Loss: 0.765487909317\n",
      "Epoch [1/3], Step [200/1647], Loss: 1.109468698502\n",
      "Epoch [1/3], Step [300/1647], Loss: 0.463685095310\n",
      "Epoch [1/3], Step [400/1647], Loss: 0.412237584591\n",
      "Epoch [1/3], Step [500/1647], Loss: 0.477245002985\n",
      "Epoch [1/3], Step [600/1647], Loss: 0.630600929260\n",
      "Epoch [1/3], Step [700/1647], Loss: 0.323168009520\n",
      "Epoch [1/3], Step [800/1647], Loss: 0.238782569766\n",
      "Epoch [1/3], Step [900/1647], Loss: 0.372369199991\n",
      "Epoch [1/3], Step [1000/1647], Loss: 0.195539176464\n",
      "Epoch [1/3], Step [1100/1647], Loss: 0.047132648528\n",
      "Epoch [1/3], Step [1200/1647], Loss: 0.167755603790\n",
      "Epoch [1/3], Step [1300/1647], Loss: 0.080961212516\n",
      "Epoch [1/3], Step [1400/1647], Loss: 0.124676719308\n",
      "Epoch [1/3], Step [1500/1647], Loss: 0.191531524062\n",
      "Epoch [1/3], Step [1600/1647], Loss: 0.567455232143\n",
      "Epoch 1/3 - Avg Train Loss: 0.471481723301\n"
     ]
    },
    {
     "name": "stderr",
     "output_type": "stream",
     "text": [
      "python(20286) MallocStackLogging: can't turn off malloc stack logging because it was not enabled.\n"
     ]
    },
    {
     "name": "stdout",
     "output_type": "stream",
     "text": [
      "Eval - Loss: 0.5099, Accuracy: 59.66%, Precision: 0.62, Recall: 0.60, F1: 0.59, MacroF1: 0.60\n",
      "Epoch 1/3 - Eval Loss: 0.509897449523, Eval Acc: 59.66%\n",
      "Starting training for epoch 2\n",
      "Epoch [2/3], Step [100/1647], Loss: 0.329919785261\n",
      "Epoch [2/3], Step [200/1647], Loss: 0.215297058225\n",
      "Epoch [2/3], Step [300/1647], Loss: 0.359830290079\n",
      "Epoch [2/3], Step [400/1647], Loss: 0.118306986988\n",
      "Epoch [2/3], Step [500/1647], Loss: 0.311703264713\n",
      "Epoch [2/3], Step [600/1647], Loss: 0.111646689475\n",
      "Epoch [2/3], Step [700/1647], Loss: 0.353381276131\n",
      "Epoch [2/3], Step [800/1647], Loss: 0.288232862949\n",
      "Epoch [2/3], Step [900/1647], Loss: 0.082656964660\n",
      "Epoch [2/3], Step [1000/1647], Loss: 0.286742866039\n",
      "Epoch [2/3], Step [1100/1647], Loss: 0.008383984677\n",
      "Epoch [2/3], Step [1200/1647], Loss: 0.344380676746\n",
      "Epoch [2/3], Step [1300/1647], Loss: 0.182263046503\n",
      "Epoch [2/3], Step [1400/1647], Loss: 0.045233204961\n",
      "Epoch [2/3], Step [1500/1647], Loss: 0.596059441566\n",
      "Epoch [2/3], Step [1600/1647], Loss: 0.110401563346\n",
      "Epoch 2/3 - Avg Train Loss: 0.202175423581\n",
      "Eval - Loss: 0.5321, Accuracy: 64.79%, Precision: 0.71, Recall: 0.65, F1: 0.65, MacroF1: 0.66\n",
      "Epoch 2/3 - Eval Loss: 0.532138887138, Eval Acc: 64.79%\n",
      "Starting training for epoch 3\n",
      "Epoch [3/3], Step [100/1647], Loss: 0.020866151899\n",
      "Epoch [3/3], Step [200/1647], Loss: 0.211632058024\n",
      "Epoch [3/3], Step [300/1647], Loss: 0.065088726580\n",
      "Epoch [3/3], Step [400/1647], Loss: 0.137349337339\n",
      "Epoch [3/3], Step [500/1647], Loss: 0.156774595380\n",
      "Epoch [3/3], Step [600/1647], Loss: 0.382899582386\n",
      "Epoch [3/3], Step [700/1647], Loss: 0.194731399417\n",
      "Epoch [3/3], Step [800/1647], Loss: 0.016195148230\n",
      "Epoch [3/3], Step [900/1647], Loss: 0.182736441493\n",
      "Epoch [3/3], Step [1000/1647], Loss: 0.257887989283\n",
      "Epoch [3/3], Step [1100/1647], Loss: 0.065704554319\n",
      "Epoch [3/3], Step [1200/1647], Loss: 0.067813165486\n",
      "Epoch [3/3], Step [1300/1647], Loss: 0.181458801031\n",
      "Epoch [3/3], Step [1400/1647], Loss: 0.469724178314\n",
      "Epoch [3/3], Step [1500/1647], Loss: 0.189297705889\n",
      "Epoch [3/3], Step [1600/1647], Loss: 0.078402355313\n",
      "Epoch 3/3 - Avg Train Loss: 0.133049644310\n",
      "Eval - Loss: 0.5531, Accuracy: 65.81%, Precision: 0.72, Recall: 0.66, F1: 0.66, MacroF1: 0.67\n",
      "Epoch 3/3 - Eval Loss: 0.553088291037, Eval Acc: 65.81%\n"
     ]
    }
   ],
   "source": [
    "\n",
    "train_losses = []  # To store average training loss per epoch\n",
    "val_losses = []    # To store validation loss per epoch\n",
    "set_seeds(config[\"experiment\"]['seed'])\n",
    "\n",
    "start_time = time.time()\n",
    "for epoch in range(config[\"train\"][\"epochs\"]):\n",
    "    # Training step\n",
    "    avg_train_loss = train(model, \n",
    "                                     train_loader, \n",
    "                                     criterion, \n",
    "                                     optimizer, \n",
    "                                     epoch, config, device=device)\n",
    "    train_losses.append(avg_train_loss)  # Store avg training loss\n",
    "    print(f\"Epoch {epoch+1}/{config[\"train\"][\"epochs\"]} - Avg Train Loss: {\n",
    "        avg_train_loss:.12f}\")\n",
    "    \n",
    "    # Evaluation step\n",
    "    eval_metrics = evaluate_low_log(model, val_loader, criterion, config, epoch+1, device=device)\n",
    "    val_losses.append(eval_metrics[\"loss\"])  # Store validation loss\n",
    "    print(f\"Epoch {epoch+1}/{config[\"train\"][\"epochs\"]} - Eval Loss: {\n",
    "        eval_metrics['loss']:.12f}, Eval Acc: {eval_metrics['accuracy']:.2f}%\")\n",
    "\n",
    "end_time = time.time()\n",
    "duration = end_time - start_time\n",
    "wandb.log({\"duration\": duration})\n"
   ]
  },
  {
   "cell_type": "markdown",
   "metadata": {},
   "source": [
    "If you are done logging or you want to run the experiment again, finish with the block below. But if you think you might want to submit this run to the competition, don't finish logging until the end once you've added the competition score."
   ]
  },
  {
   "cell_type": "code",
   "execution_count": null,
   "metadata": {},
   "outputs": [],
   "source": [
    "# ✨ W&B: Mark the run as complete (Or wait until the end of notebook)\n",
    "wandb.finish()"
   ]
  },
  {
   "cell_type": "markdown",
   "metadata": {},
   "source": [
    "---\n"
   ]
  },
  {
   "cell_type": "markdown",
   "metadata": {},
   "source": [
    "### **Explore Experiment** "
   ]
  },
  {
   "cell_type": "code",
   "execution_count": 29,
   "metadata": {},
   "outputs": [],
   "source": [
    "# set to True to explore and potentially submit your results \n",
    "explore = True"
   ]
  },
  {
   "cell_type": "markdown",
   "metadata": {},
   "source": [
    "#### Learning Curve"
   ]
  },
  {
   "cell_type": "code",
   "execution_count": 30,
   "metadata": {},
   "outputs": [
    {
     "data": {
      "image/png": "[encoded data removed]",
      "text/plain": [
       "<Figure size 1000x600 with 1 Axes>"
      ]
     },
     "metadata": {},
     "output_type": "display_data"
    }
   ],
   "source": [
    "if explore:\n",
    "    plt.figure(figsize=(10, 6))\n",
    "    plt.plot(range(1, config[\"train\"][\"epochs\"]+1), train_losses, label=\"Training Loss\", marker=\"o\")\n",
    "    plt.plot(range(1, config[\"train\"][\"epochs\"]+1), val_losses, label=\"Validation Loss\", marker=\"o\")\n",
    "    plt.xlabel(\"Epochs\")\n",
    "    plt.ylabel(\"Loss\")\n",
    "    plt.title(\"Learning Curve\")\n",
    "    plt.legend()\n",
    "    plt.grid(True)\n",
    "    plt.show()"
   ]
  },
  {
   "cell_type": "markdown",
   "metadata": {},
   "source": [
    "#### Batch Loss During Training"
   ]
  },
  {
   "cell_type": "markdown",
   "metadata": {},
   "source": [
    "#### Class Distribution  "
   ]
  },
  {
   "cell_type": "markdown",
   "metadata": {},
   "source": [
    "True Labels from Training Set"
   ]
  },
  {
   "cell_type": "code",
   "execution_count": 31,
   "metadata": {},
   "outputs": [
    {
     "name": "stdout",
     "output_type": "stream",
     "text": [
      "True labels (training):\n",
      "civet_genet         2055\n",
      "monkey_prosimian    1959\n",
      "antelope_duiker     1867\n",
      "leopard             1859\n",
      "blank               1800\n",
      "rodent              1535\n",
      "bird                1324\n",
      "hog                  772\n",
      "Name: count, dtype: int64\n"
     ]
    }
   ],
   "source": [
    "if explore:\n",
    "    print(\"True labels (training):\")\n",
    "    print(y_train.idxmax(axis=1).value_counts())   "
   ]
  },
  {
   "cell_type": "markdown",
   "metadata": {},
   "source": [
    "True and Predicated Labels from Validation Set"
   ]
  },
  {
   "cell_type": "code",
   "execution_count": 32,
   "metadata": {},
   "outputs": [
    {
     "name": "stdout",
     "output_type": "stream",
     "text": [
      "Predicted labels (eval):\n",
      "predicted_label\n",
      "blank               767\n",
      "monkey_prosimian    763\n",
      "antelope_duiker     517\n",
      "civet_genet         392\n",
      "rodent              303\n",
      "leopard             226\n",
      "hog                 181\n",
      "bird                168\n",
      "Name: count, dtype: int64\n",
      "\n",
      "True labels (eval):\n",
      "true_label\n",
      "antelope_duiker     607\n",
      "monkey_prosimian    533\n",
      "rodent              478\n",
      "blank               413\n",
      "leopard             395\n",
      "civet_genet         368\n",
      "bird                317\n",
      "hog                 206\n",
      "Name: count, dtype: int64\n"
     ]
    }
   ],
   "source": [
    "if explore:\n",
    "    # Extract predictions and true labels from eval_metrics\n",
    "    all_preds = eval_metrics[\"all_preds\"]\n",
    "    all_labels = eval_metrics[\"all_labels\"]\n",
    "\n",
    "    # Convert all_preds to DataFrame and map to class names\n",
    "    preds_df = pd.DataFrame(all_preds, columns=[\"predicted_class\"])\n",
    "    preds_df[\"predicted_label\"] = preds_df[\"predicted_class\"].map(\n",
    "        lambda idx: species_labels[idx]\n",
    "    )\n",
    "\n",
    "    # Convert all_labels to DataFrame and map to class names\n",
    "    labels_df = pd.DataFrame(all_labels, columns=[\"true_class\"])\n",
    "    labels_df[\"true_label\"] = labels_df[\"true_class\"].map(\n",
    "        lambda idx: species_labels[idx]\n",
    "    )\n",
    "\n",
    "    # Combine predictions and true labels for analysis\n",
    "    results_df = pd.concat([preds_df, labels_df], axis=1)\n",
    "\n",
    "    # Display value counts for predicted and true labels\n",
    "    print(\"Predicted labels (eval):\")\n",
    "    print(results_df[\"predicted_label\"].value_counts())\n",
    "\n",
    "    print(\"\\nTrue labels (eval):\")\n",
    "    print(results_df[\"true_label\"].value_counts())"
   ]
  },
  {
   "cell_type": "markdown",
   "metadata": {},
   "source": [
    "Accuracy per class"
   ]
  },
  {
   "cell_type": "code",
   "execution_count": 33,
   "metadata": {},
   "outputs": [
    {
     "name": "stdout",
     "output_type": "stream",
     "text": [
      "Per-Class Accuracy:\n",
      "true_label\n",
      "antelope_duiker     0.672158\n",
      "bird                0.394322\n",
      "blank               0.760291\n",
      "civet_genet         0.839674\n",
      "hog                 0.805825\n",
      "leopard             0.534177\n",
      "monkey_prosimian    0.808630\n",
      "rodent              0.458159\n",
      "dtype: float64\n"
     ]
    },
    {
     "name": "stderr",
     "output_type": "stream",
     "text": [
      "/var/folders/f9/_qvc3zsj1sg4_558kbgxv0d00000gn/T/ipykernel_19653/3812328652.py:2: DeprecationWarning: DataFrameGroupBy.apply operated on the grouping columns. This behavior is deprecated, and in a future version of pandas the grouping columns will be excluded from the operation. Either pass `include_groups=False` to exclude the groupings or explicitly select the grouping columns after groupby to silence this warning.\n",
      "  per_class_accuracy = results_df.groupby(\"true_label\").apply(\n"
     ]
    }
   ],
   "source": [
    "if explore:    \n",
    "    per_class_accuracy = results_df.groupby(\"true_label\").apply(\n",
    "        lambda x: (x[\"true_label\"] == x[\"predicted_label\"]).mean(), \n",
    "    )\n",
    "    print(\"Per-Class Accuracy:\")\n",
    "    print(per_class_accuracy)"
   ]
  },
  {
   "cell_type": "markdown",
   "metadata": {},
   "source": [
    "Confusion Matrix"
   ]
  },
  {
   "cell_type": "code",
   "execution_count": 34,
   "metadata": {},
   "outputs": [
    {
     "data": {
      "image/png": "[encoded data removed]",
      "text/plain": [
       "<Figure size 1000x1000 with 2 Axes>"
      ]
     },
     "metadata": {},
     "output_type": "display_data"
    }
   ],
   "source": [
    "if explore:\n",
    "    from sklearn.metrics import ConfusionMatrixDisplay\n",
    "\n",
    "    eval_true = pd.Series(all_labels).apply(lambda x: species_labels[x])\n",
    "    eval_predictions = pd.Series(all_preds).apply(lambda x: species_labels[x])\n",
    "\n",
    "    # Plot confusion matrix\n",
    "    fig, ax = plt.subplots(figsize=(10, 10))\n",
    "    cm = ConfusionMatrixDisplay.from_predictions(\n",
    "        eval_true,\n",
    "        eval_predictions,\n",
    "        ax=ax,\n",
    "        xticks_rotation=90,\n",
    "        colorbar=True,\n",
    "        normalize='true'\n",
    "    )\n",
    "    plt.title(\"Normalized Confusion Matrix\")\n",
    "    plt.show()"
   ]
  },
  {
   "cell_type": "markdown",
   "metadata": {},
   "source": [
    "### **Create Submission**"
   ]
  },
  {
   "cell_type": "markdown",
   "metadata": {},
   "source": [
    "### Set up Datatloader"
   ]
  },
  {
   "cell_type": "code",
   "execution_count": 35,
   "metadata": {},
   "outputs": [
    {
     "name": "stdout",
     "output_type": "stream",
     "text": [
      "Test set: 4464 samples\n"
     ]
    }
   ],
   "source": [
    "if explore:\n",
    "    set_seeds(config[\"experiment\"][\"seed\"])\n",
    "    test_dataset = ImagesDataset(\n",
    "        test_features, \n",
    "        transform=val_transforms, \n",
    "        device=device)\n",
    "\n",
    "    test_loader = DataLoader(\n",
    "        test_dataset, \n",
    "        batch_size=config[\"train\"][\"batch_size\"], \n",
    "        shuffle=False, pin_memory=True)\n",
    "    \n",
    "    print(f\"Test set: {len(test_dataset)} samples\")"
   ]
  },
  {
   "cell_type": "markdown",
   "metadata": {},
   "source": [
    "### Test Model"
   ]
  },
  {
   "cell_type": "code",
   "execution_count": 36,
   "metadata": {},
   "outputs": [],
   "source": [
    "if explore:\n",
    "    test_preds_collector = []\n",
    "\n",
    "    # put the model in eval mode so we don't update any parameters\n",
    "    model.eval()\n",
    "\n",
    "    # we aren't updating our weights so no need to calculate gradients\n",
    "    with torch.no_grad():\n",
    "        for batch_n, batch in enumerate(test_loader):\n",
    "            # run the forward step\n",
    "            images = batch[\"image\"].to(device)\n",
    "            logits = model(images)\n",
    "\n",
    "            # apply softmax so that model outputs are in range [0,1]\n",
    "            preds = F.softmax(logits, dim=1)\n",
    "\n",
    "            # store this batch's predictions in df\n",
    "            # note that PyTorch Tensors need to first be detached from their computational graph before converting to numpy arrays\n",
    "            preds_df = pd.DataFrame(\n",
    "                preds.cpu().numpy(),\n",
    "                index=batch[\"image_id\"],\n",
    "                columns=species_labels,\n",
    "            )\n",
    "            test_preds_collector.append(preds_df)\n",
    "\n",
    "    submission_df = pd.concat(test_preds_collector)"
   ]
  },
  {
   "cell_type": "markdown",
   "metadata": {},
   "source": [
    "Create your submission. Update submission_number.\n",
    "\n",
    "Make sure your directory is properly set up, as both `/data` and `/results` are ignored by the repo."
   ]
  },
  {
   "cell_type": "code",
   "execution_count": 37,
   "metadata": {},
   "outputs": [],
   "source": [
    "if explore:\n",
    "    submission_number=17\n",
    "    submission_df.index.name = 'id'\n",
    "    submission_df = submission_df.round(6)\n",
    "    submission_format_path = \"../data/givens/submission_format.csv\"\n",
    "    submission_format = pd.read_csv(submission_format_path, index_col=\"id\")\n",
    "\n",
    "\n",
    "    assert all(submission_df.index == submission_format.index)\n",
    "    assert all(submission_df.columns == submission_format.columns)\n",
    "\n",
    "    # Save submission_df for further use\n",
    "    submission_df_path = f\"../results/submissions/submission{submission_number}.csv\"\n",
    "    submission_df.to_csv(submission_df_path)"
   ]
  },
  {
   "cell_type": "markdown",
   "metadata": {},
   "source": [
    "After you submit update the submission score for logging."
   ]
  },
  {
   "cell_type": "code",
   "execution_count": 27,
   "metadata": {},
   "outputs": [],
   "source": [
    "if explore:\n",
    "     # ✨ Mannualy Log Test Results to W&B\n",
    "    wandb.log({\n",
    "        \"test_score\": 0\n",
    "    })"
   ]
  },
  {
   "cell_type": "markdown",
   "metadata": {},
   "source": [
    "End your logging session."
   ]
  },
  {
   "cell_type": "code",
   "execution_count": null,
   "metadata": {},
   "outputs": [],
   "source": [
    "if explore:\n",
    "    # ✨ W&B: Mark the run as complete (Or wait until the end of notebook)\n",
    "    wandb.finish()"
   ]
  }
 ],
 "metadata": {
  "accelerator": "GPU",
  "anaconda-cloud": {},
  "colab": {
   "gpuType": "T4",
   "include_colab_link": true,
   "provenance": []
  },
  "kernelspec": {
   "display_name": "dlfinal",
   "language": "python",
   "name": "python3"
  },
  "language_info": {
   "codemirror_mode": {
    "name": "ipython",
    "version": 3
   },
   "file_extension": ".py",
   "mimetype": "text/x-python",
   "name": "python",
   "nbconvert_exporter": "python",
   "pygments_lexer": "ipython3",
   "version": "3.12.2"
  }
 },
 "nbformat": 4,
 "nbformat_minor": 0
}
