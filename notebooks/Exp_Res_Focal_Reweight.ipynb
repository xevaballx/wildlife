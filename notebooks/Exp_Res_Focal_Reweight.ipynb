{
 "cells": [
  {
   "cell_type": "markdown",
   "metadata": {
    "id": "j6y23yCuMBwj",
    "tags": []
   },
   "source": [
    "## Resnet50 Focal Loss with Reweight Experiment "
   ]
  },
  {
   "cell_type": "code",
   "execution_count": null,
   "metadata": {
    "id": "uKiaXIRuMBwn"
   },
   "outputs": [
    {
     "name": "stdout",
     "output_type": "stream",
     "text": [
      "Note: you may need to restart the kernel to use updated packages.\n"
     ]
    }
   ],
   "source": [
    "import os\n",
    "import sys\n",
    "import yaml\n",
    "import wandb\n",
    "import matplotlib.pyplot as plt\n",
    "import pandas as pd\n",
    "import torch\n",
    "import torch.nn.functional as F\n",
    "import time\n",
    "from torch.utils.data import DataLoader\n",
    "\n",
    "# for auto-reloading external modules\n",
    "# see http://stackoverflow.com/questions/1907993/autoreload-of-modules-in-ipython\n",
    "%load_ext autoreload\n",
    "%autoreload 2\n",
    "%pip install wandb -qU\n",
    "%matplotlib inline\n",
    "\n",
    "# Get the current working directory\n",
    "notebook_dir = notebook_dir = os.path.dirname(os.path.abspath(\"__file__\"))  \n",
    "project_dir = os.path.abspath(os.path.join(notebook_dir, '..')) \n",
    "if project_dir not in sys.path:\n",
    "    sys.path.append(project_dir)\n",
    "\n",
    "from src import (get_transforms, load_data, split_data, set_seeds, \n",
    "                 verify_splits, verify_data, plot_species_grid,\n",
    "                 verify_loader_transforms)\n",
    "from src.data_utils import ImagesDataset\n",
    "from src.models import build_resnet50_basic\n",
    "from src.train import setup_training, evaluate_low_log, train"
   ]
  },
  {
   "cell_type": "markdown",
   "metadata": {},
   "source": [
    "Ensure your directory is set up properly:"
   ]
  },
  {
   "cell_type": "code",
   "execution_count": null,
   "metadata": {},
   "outputs": [],
   "source": [
    "# !tree ../ -L 2\n"
   ]
  },
  {
   "cell_type": "code",
   "execution_count": null,
   "metadata": {},
   "outputs": [],
   "source": [
    "# !tree ../data/ -L 2"
   ]
  },
  {
   "cell_type": "markdown",
   "metadata": {},
   "source": [
    "### **Set up your experiment**"
   ]
  },
  {
   "cell_type": "markdown",
   "metadata": {},
   "source": [
    "Copy this notebook. Rename it, but keep it in `notebooks/`. To update any settings, params, and/or hyperparams make a copy of `configs/default.yaml`, rename it and call your new `.yaml` below. Be sure to keep it in `configs/`"
   ]
  },
  {
   "cell_type": "code",
   "execution_count": null,
   "metadata": {},
   "outputs": [
    {
     "name": "stdout",
     "output_type": "stream",
     "text": [
      "{'device': 'cuda', 'model': {'num_classes': 8, 'architecture': 'efficientnet', 'freeze_backbone': False, 'dropout': 0.2, 'hidden_units1': 100}, 'train': {'batch_size': 4, 'epochs': 2, 'lr': 0.001, 'momentum': 0.9, 'optimizer': 'sgd', 'criterion': 'cross_entropy'}, 'experiment': {'seed': 42, 'experiment_name': 'efficientnet'}, 'transforms': {'resize': [480, 480], 'horizontal_flip': 0.5, 'rotate': 15, 'jitter': {'brightness': 0.2, 'contrast': 0.2, 'saturation': 0.2, 'hue': 0.1}, 'custom': {'block_timestamp': True}}, 'log': {'img_count': 50}}\n"
     ]
    }
   ],
   "source": [
    "# Locate the YAML file relative to the notebook's location\n",
    "notebook_dir = os.path.dirname(os.path.abspath(\"__file__\"))\n",
    "\n",
    "# You need to update this path to your new .yaml file\n",
    "config_path = os.path.join(notebook_dir, \"../configs/res_focal_reweight.yaml\")\n",
    "\n",
    "# Load the YAML file\n",
    "with open(config_path, \"r\") as f:\n",
    "    config = yaml.safe_load(f)\n",
    "print(config)"
   ]
  },
  {
   "cell_type": "code",
   "execution_count": 4,
   "metadata": {},
   "outputs": [
    {
     "name": "stdout",
     "output_type": "stream",
     "text": [
      "2.5.1\n",
      "False\n",
      "Running on device: cuda\n"
     ]
    }
   ],
   "source": [
    "print(torch.__version__)\n",
    "print(torch.backends.mps.is_available())\n",
    "device = config[\"device\"]\n",
    "print(f\"Running on device: {device}\")"
   ]
  },
  {
   "cell_type": "markdown",
   "metadata": {},
   "source": [
    "### **Build the datasets**"
   ]
  },
  {
   "cell_type": "markdown",
   "metadata": {},
   "source": [
    "#### Load the data\n",
    "Note: your data file should be hidden in the repo (.gitignore) but make sure to set it up locally like:\n",
    "\n",
    "`wildlife/data/givens/test_features/[images...]`\n",
    "\n",
    "`wildlife/data/givens/train_features/[images...]`\n",
    "\n",
    "`wildlife/data/givens/train_features.csv`\n",
    "\n",
    "`wildlife/data/givens/test_features.csv`"
   ]
  },
  {
   "cell_type": "code",
   "execution_count": 5,
   "metadata": {},
   "outputs": [],
   "source": [
    "\n",
    "train_features, test_features, train_labels, species_labels = load_data()"
   ]
  },
  {
   "cell_type": "markdown",
   "metadata": {},
   "source": [
    "#### Augment Data"
   ]
  },
  {
   "cell_type": "code",
   "execution_count": 6,
   "metadata": {},
   "outputs": [],
   "source": [
    "# Get transforms\n",
    "train_transforms, val_transforms = get_transforms(config)\n",
    "# print(train_transforms)"
   ]
  },
  {
   "cell_type": "markdown",
   "metadata": {
    "id": "YNzMhcTGMBwp"
   },
   "source": [
    "#### Split into train and evaluation sets\n",
    "\n",
    "We need to ensure that sites are mutually exclusive between the training and validation sets, meaning no site should appear in both sets. This ensures a proper stratification based on site."
   ]
  },
  {
   "cell_type": "code",
   "execution_count": 7,
   "metadata": {},
   "outputs": [],
   "source": [
    "set_seeds(config[\"experiment\"][\"seed\"])\n",
    "X_train, X_val, y_train, y_val = split_data(\n",
    "    train_features, train_labels, type='sites')"
   ]
  },
  {
   "cell_type": "code",
   "execution_count": null,
   "metadata": {},
   "outputs": [],
   "source": [
    "# Helper function (Optional)\n",
    "# verify_splits(X_train, y_train, X_val,  y_val)"
   ]
  },
  {
   "cell_type": "markdown",
   "metadata": {},
   "source": [
    "#### Set up DataLoader"
   ]
  },
  {
   "cell_type": "code",
   "execution_count": 8,
   "metadata": {},
   "outputs": [],
   "source": [
    "set_seeds(config[\"experiment\"][\"seed\"])\n",
    "\n",
    "# Create datasets\n",
    "train_dataset = ImagesDataset(\n",
    "    features=X_train, \n",
    "    labels=y_train, \n",
    "    transform=train_transforms, \n",
    "    device=device)\n",
    "val_dataset = ImagesDataset(\n",
    "    features=X_val, \n",
    "    labels=y_val, \n",
    "    transform=val_transforms, \n",
    "    device=device)\n",
    "\n",
    "if device==\"cuda\":\n",
    "    pin=False\n",
    "else:\n",
    "    pin=True\n",
    "\n",
    "# Create DataLoaders\n",
    "train_loader = DataLoader(\n",
    "    train_dataset, \n",
    "    batch_size=config[\"train\"][\"batch_size\"], \n",
    "    shuffle=True, \n",
    "    pin_memory=pin)\n",
    "val_loader = DataLoader(\n",
    "    val_dataset, \n",
    "    batch_size=config[\"train\"][\"batch_size\"], \n",
    "    shuffle=False, \n",
    "    pin_memory=pin)"
   ]
  },
  {
   "cell_type": "code",
   "execution_count": null,
   "metadata": {},
   "outputs": [],
   "source": [
    "# verify transformations in dataloaders (Optional)\n",
    "# verify_loader_transforms(train_loader, title_type='train')\n",
    "# verify_loader_transforms(val_loader, title_type='validate')\n",
    "\n",
    "# set_seeds(config[\"experiment\"]['seed'])"
   ]
  },
  {
   "cell_type": "code",
   "execution_count": null,
   "metadata": {},
   "outputs": [],
   "source": [
    "# Print shapes for verification (Optional)\n",
    "# print(f\"Training set: {len(train_dataset)} samples\")\n",
    "# print(f\"Validation set: {len(val_dataset)} samples\")"
   ]
  },
  {
   "cell_type": "markdown",
   "metadata": {
    "id": "cPwe5YFjMBwv",
    "tags": []
   },
   "source": [
    "### **Training**\n"
   ]
  },
  {
   "cell_type": "markdown",
   "metadata": {},
   "source": [
    "#### Define the model\n",
    "Note: If you build a new model, add it to `models.py` and update the block below. And update your `.yaml` config."
   ]
  },
  {
   "cell_type": "code",
   "execution_count": null,
   "metadata": {},
   "outputs": [],
   "source": [
    "set_seeds(config[\"experiment\"]['seed'])\n",
    "model = build_resnet50_basic(\n",
    "    num_classes = config[\"model\"][\"num_classes\"],\n",
    "    hidden_units1 = config[\"model\"][\"hidden_units1\"],\n",
    "    dropout = config[\"model\"][\"dropout\"] \n",
    ")\n",
    "model = model.to(device)"
   ]
  },
  {
   "cell_type": "markdown",
   "metadata": {},
   "source": [
    "#### Define your criterion and optimizer\n",
    "Note: If needed up date these in `train.py` and update your `.yaml` config."
   ]
  },
  {
   "cell_type": "code",
   "execution_count": 10,
   "metadata": {
    "colab": {
     "base_uri": "https://localhost:8080/"
    },
    "id": "Yf3bCjmwMBwv",
    "outputId": "e0b47689-3576-4c08-c1f8-fb4515032200"
   },
   "outputs": [],
   "source": [
    "set_seeds(config[\"experiment\"]['seed'])\n",
    "criterion, optimizer = setup_training(\n",
    "        model, \n",
    "        criterion=config[\"train\"][\"criterion\"],\n",
    "        optimizer=config[\"train\"][\"optimizer\"], \n",
    "        lr=config[\"train\"][\"lr\"], \n",
    "        momentum=config[\"train\"][\"momentum\"])"
   ]
  },
  {
   "cell_type": "markdown",
   "metadata": {},
   "source": [
    "#### Set up logging"
   ]
  },
  {
   "cell_type": "code",
   "execution_count": 11,
   "metadata": {},
   "outputs": [
    {
     "name": "stderr",
     "output_type": "stream",
     "text": [
      "\u001b[34m\u001b[1mwandb\u001b[0m: Using wandb-core as the SDK backend.  Please refer to https://wandb.me/wandb-core for more information.\n",
      "\u001b[34m\u001b[1mwandb\u001b[0m: Currently logged in as: \u001b[33mkseeger7\u001b[0m (\u001b[33mkseeger7-georgia-institute-of-technology\u001b[0m). Use \u001b[1m`wandb login --relogin`\u001b[0m to force relogin\n"
     ]
    },
    {
     "data": {
      "text/plain": [
       "True"
      ]
     },
     "execution_count": 11,
     "metadata": {},
     "output_type": "execute_result"
    }
   ],
   "source": [
    "wandb.require()\n",
    "wandb.login()"
   ]
  },
  {
   "cell_type": "code",
   "execution_count": 12,
   "metadata": {},
   "outputs": [
    {
     "data": {
      "text/html": [
       "Tracking run with wandb version 0.18.7"
      ],
      "text/plain": [
       "<IPython.core.display.HTML object>"
      ]
     },
     "metadata": {},
     "output_type": "display_data"
    },
    {
     "data": {
      "text/html": [
       "Run data is saved locally in <code>c:\\Users\\kseeg\\Documents\\Georgia Tech\\Deep Learning\\Final Project\\Github Code\\wildlife\\notebooks\\wandb\\run-20241202_233416-3bs97qrs</code>"
      ],
      "text/plain": [
       "<IPython.core.display.HTML object>"
      ]
     },
     "metadata": {},
     "output_type": "display_data"
    },
    {
     "data": {
      "text/html": [
       "Syncing run <strong><a href='https://wandb.ai/kseeger7-georgia-institute-of-technology/wildlife/runs/3bs97qrs' target=\"_blank\">clear-microwave-12</a></strong> to <a href='https://wandb.ai/kseeger7-georgia-institute-of-technology/wildlife' target=\"_blank\">Weights & Biases</a> (<a href='https://wandb.me/developer-guide' target=\"_blank\">docs</a>)<br/>"
      ],
      "text/plain": [
       "<IPython.core.display.HTML object>"
      ]
     },
     "metadata": {},
     "output_type": "display_data"
    },
    {
     "data": {
      "text/html": [
       " View project at <a href='https://wandb.ai/kseeger7-georgia-institute-of-technology/wildlife' target=\"_blank\">https://wandb.ai/kseeger7-georgia-institute-of-technology/wildlife</a>"
      ],
      "text/plain": [
       "<IPython.core.display.HTML object>"
      ]
     },
     "metadata": {},
     "output_type": "display_data"
    },
    {
     "data": {
      "text/html": [
       " View run at <a href='https://wandb.ai/kseeger7-georgia-institute-of-technology/wildlife/runs/3bs97qrs' target=\"_blank\">https://wandb.ai/kseeger7-georgia-institute-of-technology/wildlife/runs/3bs97qrs</a>"
      ],
      "text/plain": [
       "<IPython.core.display.HTML object>"
      ]
     },
     "metadata": {},
     "output_type": "display_data"
    }
   ],
   "source": [
    "# ✨ W&B: Initialize a new run to track this model's training\n",
    "wandb.init(project=\"wildlife\")\n",
    "cfg = wandb.config\n",
    "cfg.update(config)"
   ]
  },
  {
   "cell_type": "markdown",
   "metadata": {},
   "source": [
    "#### Run the train / eval loop"
   ]
  },
  {
   "cell_type": "code",
   "execution_count": null,
   "metadata": {},
   "outputs": [
    {
     "name": "stdout",
     "output_type": "stream",
     "text": [
      "Starting training for epoch 1\n",
      "Epoch [1/2], Step [10/3293], Loss: 2.1788\n",
      "Epoch [1/2], Step [20/3293], Loss: 2.0992\n",
      "Epoch [1/2], Step [30/3293], Loss: 2.1315\n",
      "Epoch [1/2], Step [40/3293], Loss: 1.9426\n",
      "Epoch [1/2], Step [50/3293], Loss: 1.9896\n",
      "Epoch [1/2], Step [60/3293], Loss: 1.5309\n",
      "Epoch [1/2], Step [70/3293], Loss: 1.8414\n",
      "Epoch [1/2], Step [80/3293], Loss: 1.8220\n",
      "Epoch [1/2], Step [90/3293], Loss: 2.0303\n",
      "Epoch [1/2], Step [100/3293], Loss: 1.5939\n",
      "Epoch [1/2], Step [110/3293], Loss: 1.9975\n",
      "Epoch [1/2], Step [120/3293], Loss: 1.5919\n",
      "Epoch [1/2], Step [130/3293], Loss: 2.5379\n",
      "Epoch [1/2], Step [140/3293], Loss: 1.3377\n",
      "Epoch [1/2], Step [150/3293], Loss: 1.5661\n",
      "Epoch [1/2], Step [160/3293], Loss: 1.8392\n",
      "Epoch [1/2], Step [170/3293], Loss: 1.6904\n",
      "Epoch [1/2], Step [180/3293], Loss: 1.8382\n",
      "Epoch [1/2], Step [190/3293], Loss: 1.4660\n",
      "Epoch [1/2], Step [200/3293], Loss: 2.0522\n",
      "Epoch [1/2], Step [210/3293], Loss: 1.6411\n",
      "Epoch [1/2], Step [220/3293], Loss: 1.8504\n",
      "Epoch [1/2], Step [230/3293], Loss: 2.0878\n",
      "Epoch [1/2], Step [240/3293], Loss: 1.9048\n",
      "Epoch [1/2], Step [250/3293], Loss: 1.7543\n",
      "Epoch [1/2], Step [260/3293], Loss: 1.5178\n",
      "Epoch [1/2], Step [270/3293], Loss: 1.3110\n",
      "Epoch [1/2], Step [280/3293], Loss: 1.8736\n",
      "Epoch [1/2], Step [290/3293], Loss: 1.8964\n",
      "Epoch [1/2], Step [300/3293], Loss: 1.3025\n",
      "Epoch [1/2], Step [310/3293], Loss: 1.7248\n",
      "Epoch [1/2], Step [320/3293], Loss: 0.7047\n",
      "Epoch [1/2], Step [330/3293], Loss: 1.0938\n",
      "Epoch [1/2], Step [340/3293], Loss: 0.8088\n",
      "Epoch [1/2], Step [350/3293], Loss: 1.4648\n",
      "Epoch [1/2], Step [360/3293], Loss: 0.9725\n",
      "Epoch [1/2], Step [370/3293], Loss: 0.8635\n",
      "Epoch [1/2], Step [380/3293], Loss: 1.2426\n",
      "Epoch [1/2], Step [390/3293], Loss: 1.2440\n",
      "Epoch [1/2], Step [400/3293], Loss: 1.1324\n",
      "Epoch [1/2], Step [410/3293], Loss: 0.8887\n",
      "Epoch [1/2], Step [420/3293], Loss: 0.7993\n",
      "Epoch [1/2], Step [430/3293], Loss: 0.8623\n",
      "Epoch [1/2], Step [440/3293], Loss: 1.7661\n",
      "Epoch [1/2], Step [450/3293], Loss: 1.3128\n",
      "Epoch [1/2], Step [460/3293], Loss: 1.4551\n",
      "Epoch [1/2], Step [470/3293], Loss: 0.9523\n",
      "Epoch [1/2], Step [480/3293], Loss: 0.7683\n",
      "Epoch [1/2], Step [490/3293], Loss: 1.2395\n",
      "Epoch [1/2], Step [500/3293], Loss: 0.9361\n",
      "Epoch [1/2], Step [510/3293], Loss: 2.3735\n",
      "Epoch [1/2], Step [520/3293], Loss: 1.4250\n",
      "Epoch [1/2], Step [530/3293], Loss: 0.6231\n",
      "Epoch [1/2], Step [540/3293], Loss: 1.0294\n",
      "Epoch [1/2], Step [550/3293], Loss: 0.5248\n",
      "Epoch [1/2], Step [560/3293], Loss: 1.3863\n",
      "Epoch [1/2], Step [570/3293], Loss: 0.7067\n",
      "Epoch [1/2], Step [580/3293], Loss: 1.2056\n",
      "Epoch [1/2], Step [590/3293], Loss: 1.6001\n",
      "Epoch [1/2], Step [600/3293], Loss: 0.6189\n",
      "Epoch [1/2], Step [610/3293], Loss: 0.9149\n",
      "Epoch [1/2], Step [620/3293], Loss: 1.3636\n",
      "Epoch [1/2], Step [630/3293], Loss: 1.9237\n",
      "Epoch [1/2], Step [640/3293], Loss: 1.6943\n",
      "Epoch [1/2], Step [650/3293], Loss: 1.6203\n",
      "Epoch [1/2], Step [660/3293], Loss: 1.1087\n",
      "Epoch [1/2], Step [670/3293], Loss: 2.4409\n",
      "Epoch [1/2], Step [680/3293], Loss: 0.3694\n",
      "Epoch [1/2], Step [690/3293], Loss: 1.0479\n",
      "Epoch [1/2], Step [700/3293], Loss: 1.1696\n",
      "Epoch [1/2], Step [710/3293], Loss: 1.2864\n",
      "Epoch [1/2], Step [720/3293], Loss: 1.5157\n",
      "Epoch [1/2], Step [730/3293], Loss: 1.4731\n",
      "Epoch [1/2], Step [740/3293], Loss: 0.9793\n",
      "Epoch [1/2], Step [750/3293], Loss: 1.6854\n",
      "Epoch [1/2], Step [760/3293], Loss: 0.7004\n",
      "Epoch [1/2], Step [770/3293], Loss: 1.1852\n",
      "Epoch [1/2], Step [780/3293], Loss: 0.9697\n",
      "Epoch [1/2], Step [790/3293], Loss: 1.7895\n",
      "Epoch [1/2], Step [800/3293], Loss: 0.5288\n",
      "Epoch [1/2], Step [810/3293], Loss: 0.4042\n",
      "Epoch [1/2], Step [820/3293], Loss: 1.0902\n",
      "Epoch [1/2], Step [830/3293], Loss: 0.5501\n",
      "Epoch [1/2], Step [840/3293], Loss: 0.9583\n",
      "Epoch [1/2], Step [850/3293], Loss: 0.4878\n",
      "Epoch [1/2], Step [860/3293], Loss: 1.4988\n",
      "Epoch [1/2], Step [870/3293], Loss: 1.0078\n",
      "Epoch [1/2], Step [880/3293], Loss: 0.3562\n",
      "Epoch [1/2], Step [890/3293], Loss: 1.2639\n",
      "Epoch [1/2], Step [900/3293], Loss: 0.8914\n",
      "Epoch [1/2], Step [910/3293], Loss: 1.0372\n",
      "Epoch [1/2], Step [920/3293], Loss: 0.5044\n",
      "Epoch [1/2], Step [930/3293], Loss: 0.7575\n",
      "Epoch [1/2], Step [940/3293], Loss: 1.0759\n",
      "Epoch [1/2], Step [950/3293], Loss: 1.2311\n",
      "Epoch [1/2], Step [960/3293], Loss: 0.7524\n",
      "Epoch [1/2], Step [970/3293], Loss: 0.8646\n",
      "Epoch [1/2], Step [980/3293], Loss: 0.4513\n",
      "Epoch [1/2], Step [990/3293], Loss: 0.8069\n",
      "Epoch [1/2], Step [1000/3293], Loss: 1.2190\n",
      "Epoch [1/2], Step [1010/3293], Loss: 0.7184\n",
      "Epoch [1/2], Step [1020/3293], Loss: 0.9367\n",
      "Epoch [1/2], Step [1030/3293], Loss: 2.0965\n",
      "Epoch [1/2], Step [1040/3293], Loss: 1.9052\n",
      "Epoch [1/2], Step [1050/3293], Loss: 0.5621\n",
      "Epoch [1/2], Step [1060/3293], Loss: 1.4852\n",
      "Epoch [1/2], Step [1070/3293], Loss: 0.8919\n",
      "Epoch [1/2], Step [1080/3293], Loss: 0.2771\n",
      "Epoch [1/2], Step [1090/3293], Loss: 0.5409\n",
      "Epoch [1/2], Step [1100/3293], Loss: 1.9962\n",
      "Epoch [1/2], Step [1110/3293], Loss: 0.9775\n",
      "Epoch [1/2], Step [1120/3293], Loss: 0.7422\n",
      "Epoch [1/2], Step [1130/3293], Loss: 0.9592\n",
      "Epoch [1/2], Step [1140/3293], Loss: 1.5394\n",
      "Epoch [1/2], Step [1150/3293], Loss: 0.4469\n",
      "Epoch [1/2], Step [1160/3293], Loss: 0.3426\n",
      "Epoch [1/2], Step [1170/3293], Loss: 1.4518\n",
      "Epoch [1/2], Step [1180/3293], Loss: 0.1434\n",
      "Epoch [1/2], Step [1190/3293], Loss: 0.3305\n",
      "Epoch [1/2], Step [1200/3293], Loss: 1.3797\n",
      "Epoch [1/2], Step [1210/3293], Loss: 1.0290\n",
      "Epoch [1/2], Step [1220/3293], Loss: 0.6396\n",
      "Epoch [1/2], Step [1230/3293], Loss: 1.1377\n",
      "Epoch [1/2], Step [1240/3293], Loss: 0.9429\n",
      "Epoch [1/2], Step [1250/3293], Loss: 0.6918\n",
      "Epoch [1/2], Step [1260/3293], Loss: 0.2980\n",
      "Epoch [1/2], Step [1270/3293], Loss: 2.2792\n",
      "Epoch [1/2], Step [1280/3293], Loss: 0.2975\n",
      "Epoch [1/2], Step [1290/3293], Loss: 0.3866\n",
      "Epoch [1/2], Step [1300/3293], Loss: 0.4422\n",
      "Epoch [1/2], Step [1310/3293], Loss: 2.1952\n",
      "Epoch [1/2], Step [1320/3293], Loss: 1.5440\n",
      "Epoch [1/2], Step [1330/3293], Loss: 0.3554\n",
      "Epoch [1/2], Step [1340/3293], Loss: 0.5240\n",
      "Epoch [1/2], Step [1350/3293], Loss: 2.7933\n",
      "Epoch [1/2], Step [1360/3293], Loss: 0.2483\n",
      "Epoch [1/2], Step [1370/3293], Loss: 0.3067\n",
      "Epoch [1/2], Step [1380/3293], Loss: 0.5935\n",
      "Epoch [1/2], Step [1390/3293], Loss: 1.2583\n",
      "Epoch [1/2], Step [1400/3293], Loss: 1.4236\n",
      "Epoch [1/2], Step [1410/3293], Loss: 1.3672\n",
      "Epoch [1/2], Step [1420/3293], Loss: 2.4262\n",
      "Epoch [1/2], Step [1430/3293], Loss: 1.3950\n",
      "Epoch [1/2], Step [1440/3293], Loss: 1.7153\n",
      "Epoch [1/2], Step [1450/3293], Loss: 1.0750\n",
      "Epoch [1/2], Step [1460/3293], Loss: 0.4255\n",
      "Epoch [1/2], Step [1470/3293], Loss: 0.7480\n",
      "Epoch [1/2], Step [1480/3293], Loss: 0.2677\n",
      "Epoch [1/2], Step [1490/3293], Loss: 1.3188\n",
      "Epoch [1/2], Step [1500/3293], Loss: 0.5027\n",
      "Epoch [1/2], Step [1510/3293], Loss: 0.8478\n",
      "Epoch [1/2], Step [1520/3293], Loss: 0.6347\n",
      "Epoch [1/2], Step [1530/3293], Loss: 1.8557\n",
      "Epoch [1/2], Step [1540/3293], Loss: 0.5057\n",
      "Epoch [1/2], Step [1550/3293], Loss: 0.4112\n",
      "Epoch [1/2], Step [1560/3293], Loss: 0.2720\n",
      "Epoch [1/2], Step [1570/3293], Loss: 0.1343\n",
      "Epoch [1/2], Step [1580/3293], Loss: 0.6033\n",
      "Epoch [1/2], Step [1590/3293], Loss: 1.0424\n",
      "Epoch [1/2], Step [1600/3293], Loss: 0.9350\n",
      "Epoch [1/2], Step [1610/3293], Loss: 1.2878\n",
      "Epoch [1/2], Step [1620/3293], Loss: 0.8777\n",
      "Epoch [1/2], Step [1630/3293], Loss: 2.7468\n",
      "Epoch [1/2], Step [1640/3293], Loss: 2.0257\n",
      "Epoch [1/2], Step [1650/3293], Loss: 0.3150\n",
      "Epoch [1/2], Step [1660/3293], Loss: 0.4076\n",
      "Epoch [1/2], Step [1670/3293], Loss: 0.6887\n",
      "Epoch [1/2], Step [1680/3293], Loss: 0.3613\n",
      "Epoch [1/2], Step [1690/3293], Loss: 0.2659\n",
      "Epoch [1/2], Step [1700/3293], Loss: 0.2545\n",
      "Epoch [1/2], Step [1710/3293], Loss: 0.1802\n",
      "Epoch [1/2], Step [1720/3293], Loss: 1.2368\n",
      "Epoch [1/2], Step [1730/3293], Loss: 0.1940\n",
      "Epoch [1/2], Step [1740/3293], Loss: 0.2098\n",
      "Epoch [1/2], Step [1750/3293], Loss: 0.6460\n",
      "Epoch [1/2], Step [1760/3293], Loss: 1.6255\n",
      "Epoch [1/2], Step [1770/3293], Loss: 1.5641\n",
      "Epoch [1/2], Step [1780/3293], Loss: 0.2563\n",
      "Epoch [1/2], Step [1790/3293], Loss: 1.0957\n",
      "Epoch [1/2], Step [1800/3293], Loss: 0.9059\n",
      "Epoch [1/2], Step [1810/3293], Loss: 0.4244\n",
      "Epoch [1/2], Step [1820/3293], Loss: 0.8224\n",
      "Epoch [1/2], Step [1830/3293], Loss: 0.5662\n",
      "Epoch [1/2], Step [1840/3293], Loss: 0.2813\n",
      "Epoch [1/2], Step [1850/3293], Loss: 0.8697\n",
      "Epoch [1/2], Step [1860/3293], Loss: 1.0517\n",
      "Epoch [1/2], Step [1870/3293], Loss: 1.4382\n",
      "Epoch [1/2], Step [1880/3293], Loss: 0.0658\n",
      "Epoch [1/2], Step [1890/3293], Loss: 0.7257\n",
      "Epoch [1/2], Step [1900/3293], Loss: 0.7263\n",
      "Epoch [1/2], Step [1910/3293], Loss: 0.8969\n",
      "Epoch [1/2], Step [1920/3293], Loss: 0.7785\n",
      "Epoch [1/2], Step [1930/3293], Loss: 1.0975\n",
      "Epoch [1/2], Step [1940/3293], Loss: 0.6454\n",
      "Epoch [1/2], Step [1950/3293], Loss: 0.4866\n",
      "Epoch [1/2], Step [1960/3293], Loss: 0.8806\n",
      "Epoch [1/2], Step [1970/3293], Loss: 0.4168\n",
      "Epoch [1/2], Step [1980/3293], Loss: 0.4028\n",
      "Epoch [1/2], Step [1990/3293], Loss: 0.6086\n",
      "Epoch [1/2], Step [2000/3293], Loss: 0.0891\n",
      "Epoch [1/2], Step [2010/3293], Loss: 0.8392\n",
      "Epoch [1/2], Step [2020/3293], Loss: 0.4186\n",
      "Epoch [1/2], Step [2030/3293], Loss: 0.6593\n",
      "Epoch [1/2], Step [2040/3293], Loss: 0.1951\n",
      "Epoch [1/2], Step [2050/3293], Loss: 0.4087\n",
      "Epoch [1/2], Step [2060/3293], Loss: 0.1630\n",
      "Epoch [1/2], Step [2070/3293], Loss: 0.7882\n",
      "Epoch [1/2], Step [2080/3293], Loss: 0.1985\n",
      "Epoch [1/2], Step [2090/3293], Loss: 0.5908\n",
      "Epoch [1/2], Step [2100/3293], Loss: 0.5104\n",
      "Epoch [1/2], Step [2110/3293], Loss: 0.4054\n",
      "Epoch [1/2], Step [2120/3293], Loss: 0.6303\n",
      "Epoch [1/2], Step [2130/3293], Loss: 1.0308\n",
      "Epoch [1/2], Step [2140/3293], Loss: 0.1894\n",
      "Epoch [1/2], Step [2150/3293], Loss: 0.1383\n",
      "Epoch [1/2], Step [2160/3293], Loss: 0.5301\n",
      "Epoch [1/2], Step [2170/3293], Loss: 1.1005\n",
      "Epoch [1/2], Step [2180/3293], Loss: 0.7923\n",
      "Epoch [1/2], Step [2190/3293], Loss: 1.2771\n",
      "Epoch [1/2], Step [2200/3293], Loss: 0.0849\n",
      "Epoch [1/2], Step [2210/3293], Loss: 0.3747\n",
      "Epoch [1/2], Step [2220/3293], Loss: 1.3605\n",
      "Epoch [1/2], Step [2230/3293], Loss: 0.9768\n",
      "Epoch [1/2], Step [2240/3293], Loss: 0.8746\n",
      "Epoch [1/2], Step [2250/3293], Loss: 0.5560\n",
      "Epoch [1/2], Step [2260/3293], Loss: 1.6228\n",
      "Epoch [1/2], Step [2270/3293], Loss: 0.2668\n",
      "Epoch [1/2], Step [2280/3293], Loss: 2.0591\n",
      "Epoch [1/2], Step [2290/3293], Loss: 0.9707\n",
      "Epoch [1/2], Step [2300/3293], Loss: 0.4568\n",
      "Epoch [1/2], Step [2310/3293], Loss: 1.0667\n",
      "Epoch [1/2], Step [2320/3293], Loss: 0.0719\n",
      "Epoch [1/2], Step [2330/3293], Loss: 0.5142\n",
      "Epoch [1/2], Step [2340/3293], Loss: 0.1959\n",
      "Epoch [1/2], Step [2350/3293], Loss: 0.4537\n",
      "Epoch [1/2], Step [2360/3293], Loss: 1.5172\n",
      "Epoch [1/2], Step [2370/3293], Loss: 0.4362\n",
      "Epoch [1/2], Step [2380/3293], Loss: 0.2605\n",
      "Epoch [1/2], Step [2390/3293], Loss: 0.2676\n",
      "Epoch [1/2], Step [2400/3293], Loss: 0.8426\n",
      "Epoch [1/2], Step [2410/3293], Loss: 1.2573\n",
      "Epoch [1/2], Step [2420/3293], Loss: 0.5516\n",
      "Epoch [1/2], Step [2430/3293], Loss: 0.3066\n",
      "Epoch [1/2], Step [2440/3293], Loss: 0.3843\n",
      "Epoch [1/2], Step [2450/3293], Loss: 0.6919\n",
      "Epoch [1/2], Step [2460/3293], Loss: 1.0258\n",
      "Epoch [1/2], Step [2470/3293], Loss: 0.5670\n",
      "Epoch [1/2], Step [2480/3293], Loss: 0.8608\n",
      "Epoch [1/2], Step [2490/3293], Loss: 0.5251\n",
      "Epoch [1/2], Step [2500/3293], Loss: 1.9719\n",
      "Epoch [1/2], Step [2510/3293], Loss: 1.3235\n",
      "Epoch [1/2], Step [2520/3293], Loss: 0.7431\n",
      "Epoch [1/2], Step [2530/3293], Loss: 0.4985\n",
      "Epoch [1/2], Step [2540/3293], Loss: 0.9841\n",
      "Epoch [1/2], Step [2550/3293], Loss: 0.5544\n",
      "Epoch [1/2], Step [2560/3293], Loss: 1.5354\n",
      "Epoch [1/2], Step [2570/3293], Loss: 0.1587\n",
      "Epoch [1/2], Step [2580/3293], Loss: 1.2810\n",
      "Epoch [1/2], Step [2590/3293], Loss: 0.4922\n",
      "Epoch [1/2], Step [2600/3293], Loss: 0.1040\n",
      "Epoch [1/2], Step [2610/3293], Loss: 0.1596\n",
      "Epoch [1/2], Step [2620/3293], Loss: 0.5088\n",
      "Epoch [1/2], Step [2630/3293], Loss: 1.7244\n",
      "Epoch [1/2], Step [2640/3293], Loss: 0.5484\n",
      "Epoch [1/2], Step [2650/3293], Loss: 0.4291\n",
      "Epoch [1/2], Step [2660/3293], Loss: 1.0694\n",
      "Epoch [1/2], Step [2670/3293], Loss: 0.8151\n",
      "Epoch [1/2], Step [2680/3293], Loss: 0.8184\n",
      "Epoch [1/2], Step [2690/3293], Loss: 0.1838\n",
      "Epoch [1/2], Step [2700/3293], Loss: 1.0102\n",
      "Epoch [1/2], Step [2710/3293], Loss: 0.8874\n",
      "Epoch [1/2], Step [2720/3293], Loss: 1.1385\n",
      "Epoch [1/2], Step [2730/3293], Loss: 0.9154\n",
      "Epoch [1/2], Step [2740/3293], Loss: 0.6629\n",
      "Epoch [1/2], Step [2750/3293], Loss: 0.1496\n",
      "Epoch [1/2], Step [2760/3293], Loss: 0.3069\n",
      "Epoch [1/2], Step [2770/3293], Loss: 0.2800\n",
      "Epoch [1/2], Step [2780/3293], Loss: 0.6475\n",
      "Epoch [1/2], Step [2790/3293], Loss: 0.0798\n",
      "Epoch [1/2], Step [2800/3293], Loss: 0.7630\n",
      "Epoch [1/2], Step [2810/3293], Loss: 1.1282\n",
      "Epoch [1/2], Step [2820/3293], Loss: 0.8578\n",
      "Epoch [1/2], Step [2830/3293], Loss: 0.7481\n",
      "Epoch [1/2], Step [2840/3293], Loss: 0.3867\n",
      "Epoch [1/2], Step [2850/3293], Loss: 1.4235\n",
      "Epoch [1/2], Step [2860/3293], Loss: 1.0426\n",
      "Epoch [1/2], Step [2870/3293], Loss: 0.4564\n",
      "Epoch [1/2], Step [2880/3293], Loss: 0.2440\n",
      "Epoch [1/2], Step [2890/3293], Loss: 0.3526\n",
      "Epoch [1/2], Step [2900/3293], Loss: 0.2308\n",
      "Epoch [1/2], Step [2910/3293], Loss: 0.8861\n",
      "Epoch [1/2], Step [2920/3293], Loss: 0.4302\n",
      "Epoch [1/2], Step [2930/3293], Loss: 0.6611\n",
      "Epoch [1/2], Step [2940/3293], Loss: 0.1183\n",
      "Epoch [1/2], Step [2950/3293], Loss: 0.1692\n",
      "Epoch [1/2], Step [2960/3293], Loss: 0.7896\n",
      "Epoch [1/2], Step [2970/3293], Loss: 0.0128\n",
      "Epoch [1/2], Step [2980/3293], Loss: 0.3291\n",
      "Epoch [1/2], Step [2990/3293], Loss: 1.3492\n",
      "Epoch [1/2], Step [3000/3293], Loss: 0.3062\n",
      "Epoch [1/2], Step [3010/3293], Loss: 1.1217\n",
      "Epoch [1/2], Step [3020/3293], Loss: 0.3961\n",
      "Epoch [1/2], Step [3030/3293], Loss: 1.1702\n",
      "Epoch [1/2], Step [3040/3293], Loss: 0.7668\n",
      "Epoch [1/2], Step [3050/3293], Loss: 1.2718\n",
      "Epoch [1/2], Step [3060/3293], Loss: 0.1742\n",
      "Epoch [1/2], Step [3070/3293], Loss: 0.3752\n",
      "Epoch [1/2], Step [3080/3293], Loss: 0.1362\n",
      "Epoch [1/2], Step [3090/3293], Loss: 0.8803\n",
      "Epoch [1/2], Step [3100/3293], Loss: 0.5893\n",
      "Epoch [1/2], Step [3110/3293], Loss: 0.3681\n",
      "Epoch [1/2], Step [3120/3293], Loss: 0.2521\n",
      "Epoch [1/2], Step [3130/3293], Loss: 0.2172\n",
      "Epoch [1/2], Step [3140/3293], Loss: 1.3723\n",
      "Epoch [1/2], Step [3150/3293], Loss: 0.7500\n",
      "Epoch [1/2], Step [3160/3293], Loss: 0.5865\n",
      "Epoch [1/2], Step [3170/3293], Loss: 0.2533\n",
      "Epoch [1/2], Step [3180/3293], Loss: 0.4791\n",
      "Epoch [1/2], Step [3190/3293], Loss: 0.7407\n",
      "Epoch [1/2], Step [3200/3293], Loss: 0.5612\n",
      "Epoch [1/2], Step [3210/3293], Loss: 1.0073\n",
      "Epoch [1/2], Step [3220/3293], Loss: 0.3702\n",
      "Epoch [1/2], Step [3230/3293], Loss: 0.0719\n",
      "Epoch [1/2], Step [3240/3293], Loss: 0.8614\n",
      "Epoch [1/2], Step [3250/3293], Loss: 0.8928\n",
      "Epoch [1/2], Step [3260/3293], Loss: 0.5169\n",
      "Epoch [1/2], Step [3270/3293], Loss: 0.2785\n",
      "Epoch [1/2], Step [3280/3293], Loss: 0.2677\n",
      "Epoch [1/2], Step [3290/3293], Loss: 0.1400\n",
      "Epoch 1/2 - Avg Train Loss: 0.9656\n",
      "Evaluation - Loss: 1.0423, Accuracy: 62.71%, Precision: 0.68, Recall: 0.63, F1: 0.62\n",
      "Epoch 1/2 - Eval Loss: 1.0423, Eval Acc: 62.71%\n",
      "Starting training for epoch 2\n",
      "Epoch [2/2], Step [10/3293], Loss: 1.1609\n",
      "Epoch [2/2], Step [20/3293], Loss: 1.0219\n",
      "Epoch [2/2], Step [30/3293], Loss: 0.6946\n",
      "Epoch [2/2], Step [40/3293], Loss: 0.4380\n",
      "Epoch [2/2], Step [50/3293], Loss: 0.2402\n",
      "Epoch [2/2], Step [60/3293], Loss: 1.0216\n",
      "Epoch [2/2], Step [70/3293], Loss: 0.4673\n",
      "Epoch [2/2], Step [80/3293], Loss: 0.8180\n",
      "Epoch [2/2], Step [90/3293], Loss: 0.2889\n",
      "Epoch [2/2], Step [100/3293], Loss: 0.1591\n",
      "Epoch [2/2], Step [110/3293], Loss: 1.8452\n",
      "Epoch [2/2], Step [120/3293], Loss: 0.6268\n",
      "Epoch [2/2], Step [130/3293], Loss: 1.0732\n",
      "Epoch [2/2], Step [140/3293], Loss: 0.8583\n",
      "Epoch [2/2], Step [150/3293], Loss: 0.5503\n",
      "Epoch [2/2], Step [160/3293], Loss: 1.1981\n",
      "Epoch [2/2], Step [170/3293], Loss: 0.1262\n",
      "Epoch [2/2], Step [180/3293], Loss: 0.1568\n",
      "Epoch [2/2], Step [190/3293], Loss: 0.4749\n",
      "Epoch [2/2], Step [200/3293], Loss: 0.2159\n",
      "Epoch [2/2], Step [210/3293], Loss: 0.1034\n",
      "Epoch [2/2], Step [220/3293], Loss: 0.1606\n",
      "Epoch [2/2], Step [230/3293], Loss: 0.1822\n",
      "Epoch [2/2], Step [240/3293], Loss: 0.9664\n",
      "Epoch [2/2], Step [250/3293], Loss: 1.8463\n",
      "Epoch [2/2], Step [260/3293], Loss: 0.1565\n",
      "Epoch [2/2], Step [270/3293], Loss: 0.3329\n",
      "Epoch [2/2], Step [280/3293], Loss: 0.3987\n",
      "Epoch [2/2], Step [290/3293], Loss: 0.7772\n",
      "Epoch [2/2], Step [300/3293], Loss: 1.6361\n",
      "Epoch [2/2], Step [310/3293], Loss: 0.6415\n",
      "Epoch [2/2], Step [320/3293], Loss: 0.1619\n",
      "Epoch [2/2], Step [330/3293], Loss: 0.9296\n",
      "Epoch [2/2], Step [340/3293], Loss: 0.9445\n",
      "Epoch [2/2], Step [350/3293], Loss: 0.3283\n",
      "Epoch [2/2], Step [360/3293], Loss: 0.2285\n",
      "Epoch [2/2], Step [370/3293], Loss: 0.0186\n",
      "Epoch [2/2], Step [380/3293], Loss: 0.4753\n",
      "Epoch [2/2], Step [390/3293], Loss: 0.6723\n",
      "Epoch [2/2], Step [400/3293], Loss: 0.8042\n",
      "Epoch [2/2], Step [410/3293], Loss: 0.5500\n",
      "Epoch [2/2], Step [420/3293], Loss: 0.9333\n",
      "Epoch [2/2], Step [430/3293], Loss: 0.3383\n",
      "Epoch [2/2], Step [440/3293], Loss: 1.1358\n",
      "Epoch [2/2], Step [450/3293], Loss: 0.4300\n",
      "Epoch [2/2], Step [460/3293], Loss: 0.0105\n",
      "Epoch [2/2], Step [470/3293], Loss: 0.0140\n",
      "Epoch [2/2], Step [480/3293], Loss: 0.7824\n",
      "Epoch [2/2], Step [490/3293], Loss: 0.1864\n",
      "Epoch [2/2], Step [500/3293], Loss: 0.1359\n",
      "Epoch [2/2], Step [510/3293], Loss: 1.9496\n",
      "Epoch [2/2], Step [520/3293], Loss: 0.3371\n",
      "Epoch [2/2], Step [530/3293], Loss: 0.0079\n",
      "Epoch [2/2], Step [540/3293], Loss: 1.3636\n",
      "Epoch [2/2], Step [550/3293], Loss: 0.0179\n",
      "Epoch [2/2], Step [560/3293], Loss: 0.0361\n",
      "Epoch [2/2], Step [570/3293], Loss: 0.2866\n",
      "Epoch [2/2], Step [580/3293], Loss: 0.2000\n",
      "Epoch [2/2], Step [590/3293], Loss: 0.2839\n",
      "Epoch [2/2], Step [600/3293], Loss: 1.0310\n",
      "Epoch [2/2], Step [610/3293], Loss: 1.3494\n",
      "Epoch [2/2], Step [620/3293], Loss: 0.7470\n",
      "Epoch [2/2], Step [630/3293], Loss: 0.7129\n",
      "Epoch [2/2], Step [640/3293], Loss: 0.7187\n",
      "Epoch [2/2], Step [650/3293], Loss: 0.9621\n",
      "Epoch [2/2], Step [660/3293], Loss: 0.2402\n",
      "Epoch [2/2], Step [670/3293], Loss: 0.1943\n",
      "Epoch [2/2], Step [680/3293], Loss: 0.1273\n",
      "Epoch [2/2], Step [690/3293], Loss: 0.4758\n",
      "Epoch [2/2], Step [700/3293], Loss: 0.2881\n",
      "Epoch [2/2], Step [710/3293], Loss: 0.6267\n",
      "Epoch [2/2], Step [720/3293], Loss: 0.8976\n",
      "Epoch [2/2], Step [730/3293], Loss: 0.3864\n",
      "Epoch [2/2], Step [740/3293], Loss: 0.0467\n",
      "Epoch [2/2], Step [750/3293], Loss: 0.7146\n",
      "Epoch [2/2], Step [760/3293], Loss: 0.5066\n",
      "Epoch [2/2], Step [770/3293], Loss: 0.7147\n",
      "Epoch [2/2], Step [780/3293], Loss: 0.4308\n",
      "Epoch [2/2], Step [790/3293], Loss: 0.5268\n",
      "Epoch [2/2], Step [800/3293], Loss: 0.1849\n",
      "Epoch [2/2], Step [810/3293], Loss: 1.6509\n",
      "Epoch [2/2], Step [820/3293], Loss: 0.0537\n",
      "Epoch [2/2], Step [830/3293], Loss: 0.1434\n",
      "Epoch [2/2], Step [840/3293], Loss: 0.2767\n",
      "Epoch [2/2], Step [850/3293], Loss: 0.6003\n",
      "Epoch [2/2], Step [860/3293], Loss: 0.2341\n",
      "Epoch [2/2], Step [870/3293], Loss: 0.9349\n",
      "Epoch [2/2], Step [880/3293], Loss: 0.1459\n",
      "Epoch [2/2], Step [890/3293], Loss: 0.2498\n",
      "Epoch [2/2], Step [900/3293], Loss: 0.5079\n",
      "Epoch [2/2], Step [910/3293], Loss: 1.0086\n",
      "Epoch [2/2], Step [920/3293], Loss: 0.1460\n",
      "Epoch [2/2], Step [930/3293], Loss: 0.9340\n",
      "Epoch [2/2], Step [940/3293], Loss: 0.2135\n",
      "Epoch [2/2], Step [950/3293], Loss: 0.1991\n",
      "Epoch [2/2], Step [960/3293], Loss: 0.0301\n",
      "Epoch [2/2], Step [970/3293], Loss: 0.6709\n",
      "Epoch [2/2], Step [980/3293], Loss: 0.9787\n",
      "Epoch [2/2], Step [990/3293], Loss: 1.2732\n",
      "Epoch [2/2], Step [1000/3293], Loss: 0.6212\n",
      "Epoch [2/2], Step [1010/3293], Loss: 0.7738\n",
      "Epoch [2/2], Step [1020/3293], Loss: 0.4956\n",
      "Epoch [2/2], Step [1030/3293], Loss: 0.3905\n",
      "Epoch [2/2], Step [1040/3293], Loss: 0.4639\n",
      "Epoch [2/2], Step [1050/3293], Loss: 1.2679\n",
      "Epoch [2/2], Step [1060/3293], Loss: 0.4154\n",
      "Epoch [2/2], Step [1070/3293], Loss: 0.4692\n",
      "Epoch [2/2], Step [1080/3293], Loss: 0.4008\n",
      "Epoch [2/2], Step [1090/3293], Loss: 0.5786\n",
      "Epoch [2/2], Step [1100/3293], Loss: 0.5612\n",
      "Epoch [2/2], Step [1110/3293], Loss: 0.8756\n",
      "Epoch [2/2], Step [1120/3293], Loss: 0.1769\n",
      "Epoch [2/2], Step [1130/3293], Loss: 0.4917\n",
      "Epoch [2/2], Step [1140/3293], Loss: 0.5294\n",
      "Epoch [2/2], Step [1150/3293], Loss: 0.5250\n",
      "Epoch [2/2], Step [1160/3293], Loss: 0.4374\n",
      "Epoch [2/2], Step [1170/3293], Loss: 0.2278\n",
      "Epoch [2/2], Step [1180/3293], Loss: 0.2529\n",
      "Epoch [2/2], Step [1190/3293], Loss: 1.7044\n",
      "Epoch [2/2], Step [1200/3293], Loss: 0.3843\n",
      "Epoch [2/2], Step [1210/3293], Loss: 0.5051\n",
      "Epoch [2/2], Step [1220/3293], Loss: 0.0982\n",
      "Epoch [2/2], Step [1230/3293], Loss: 2.6752\n",
      "Epoch [2/2], Step [1240/3293], Loss: 0.0429\n",
      "Epoch [2/2], Step [1250/3293], Loss: 2.6671\n",
      "Epoch [2/2], Step [1260/3293], Loss: 0.8534\n",
      "Epoch [2/2], Step [1270/3293], Loss: 0.1480\n",
      "Epoch [2/2], Step [1280/3293], Loss: 0.0494\n",
      "Epoch [2/2], Step [1290/3293], Loss: 0.2954\n",
      "Epoch [2/2], Step [1300/3293], Loss: 1.3376\n",
      "Epoch [2/2], Step [1310/3293], Loss: 0.1343\n",
      "Epoch [2/2], Step [1320/3293], Loss: 0.4460\n",
      "Epoch [2/2], Step [1330/3293], Loss: 0.0555\n",
      "Epoch [2/2], Step [1340/3293], Loss: 0.1475\n",
      "Epoch [2/2], Step [1350/3293], Loss: 0.2897\n",
      "Epoch [2/2], Step [1360/3293], Loss: 0.1867\n",
      "Epoch [2/2], Step [1370/3293], Loss: 0.3802\n",
      "Epoch [2/2], Step [1380/3293], Loss: 1.5315\n",
      "Epoch [2/2], Step [1390/3293], Loss: 0.3208\n",
      "Epoch [2/2], Step [1400/3293], Loss: 1.1264\n",
      "Epoch [2/2], Step [1410/3293], Loss: 0.3307\n",
      "Epoch [2/2], Step [1420/3293], Loss: 0.3480\n",
      "Epoch [2/2], Step [1430/3293], Loss: 1.0625\n",
      "Epoch [2/2], Step [1440/3293], Loss: 0.4737\n",
      "Epoch [2/2], Step [1450/3293], Loss: 0.3309\n",
      "Epoch [2/2], Step [1460/3293], Loss: 0.7080\n",
      "Epoch [2/2], Step [1470/3293], Loss: 0.0717\n",
      "Epoch [2/2], Step [1480/3293], Loss: 0.3033\n",
      "Epoch [2/2], Step [1490/3293], Loss: 1.9711\n",
      "Epoch [2/2], Step [1500/3293], Loss: 0.1480\n",
      "Epoch [2/2], Step [1510/3293], Loss: 0.1494\n",
      "Epoch [2/2], Step [1520/3293], Loss: 0.1291\n",
      "Epoch [2/2], Step [1530/3293], Loss: 1.0407\n",
      "Epoch [2/2], Step [1540/3293], Loss: 0.6096\n",
      "Epoch [2/2], Step [1550/3293], Loss: 1.6439\n",
      "Epoch [2/2], Step [1560/3293], Loss: 0.9247\n",
      "Epoch [2/2], Step [1570/3293], Loss: 0.0664\n",
      "Epoch [2/2], Step [1580/3293], Loss: 0.3383\n",
      "Epoch [2/2], Step [1590/3293], Loss: 0.7792\n",
      "Epoch [2/2], Step [1600/3293], Loss: 0.8420\n",
      "Epoch [2/2], Step [1610/3293], Loss: 0.5626\n",
      "Epoch [2/2], Step [1620/3293], Loss: 0.0618\n",
      "Epoch [2/2], Step [1630/3293], Loss: 0.4010\n",
      "Epoch [2/2], Step [1640/3293], Loss: 0.0904\n",
      "Epoch [2/2], Step [1650/3293], Loss: 0.7229\n",
      "Epoch [2/2], Step [1660/3293], Loss: 0.0147\n",
      "Epoch [2/2], Step [1670/3293], Loss: 0.1214\n",
      "Epoch [2/2], Step [1680/3293], Loss: 0.6759\n",
      "Epoch [2/2], Step [1690/3293], Loss: 0.0498\n",
      "Epoch [2/2], Step [1700/3293], Loss: 0.1570\n",
      "Epoch [2/2], Step [1710/3293], Loss: 0.1396\n",
      "Epoch [2/2], Step [1720/3293], Loss: 1.4789\n",
      "Epoch [2/2], Step [1730/3293], Loss: 0.4334\n",
      "Epoch [2/2], Step [1740/3293], Loss: 0.5235\n",
      "Epoch [2/2], Step [1750/3293], Loss: 0.0554\n",
      "Epoch [2/2], Step [1760/3293], Loss: 0.0215\n",
      "Epoch [2/2], Step [1770/3293], Loss: 0.1129\n",
      "Epoch [2/2], Step [1780/3293], Loss: 0.0242\n",
      "Epoch [2/2], Step [1790/3293], Loss: 0.2664\n",
      "Epoch [2/2], Step [1800/3293], Loss: 0.3640\n",
      "Epoch [2/2], Step [1810/3293], Loss: 0.7968\n",
      "Epoch [2/2], Step [1820/3293], Loss: 0.3036\n",
      "Epoch [2/2], Step [1830/3293], Loss: 0.4501\n",
      "Epoch [2/2], Step [1840/3293], Loss: 0.7523\n",
      "Epoch [2/2], Step [1850/3293], Loss: 0.2176\n",
      "Epoch [2/2], Step [1860/3293], Loss: 0.2114\n",
      "Epoch [2/2], Step [1870/3293], Loss: 0.8615\n",
      "Epoch [2/2], Step [1880/3293], Loss: 0.6540\n",
      "Epoch [2/2], Step [1890/3293], Loss: 0.3772\n",
      "Epoch [2/2], Step [1900/3293], Loss: 0.5144\n",
      "Epoch [2/2], Step [1910/3293], Loss: 0.1429\n",
      "Epoch [2/2], Step [1920/3293], Loss: 1.1162\n",
      "Epoch [2/2], Step [1930/3293], Loss: 0.5513\n",
      "Epoch [2/2], Step [1940/3293], Loss: 0.2409\n",
      "Epoch [2/2], Step [1950/3293], Loss: 1.3337\n",
      "Epoch [2/2], Step [1960/3293], Loss: 0.3340\n",
      "Epoch [2/2], Step [1970/3293], Loss: 0.2594\n",
      "Epoch [2/2], Step [1980/3293], Loss: 0.7932\n",
      "Epoch [2/2], Step [1990/3293], Loss: 0.5867\n",
      "Epoch [2/2], Step [2000/3293], Loss: 0.4150\n",
      "Epoch [2/2], Step [2010/3293], Loss: 0.2709\n",
      "Epoch [2/2], Step [2020/3293], Loss: 0.6918\n",
      "Epoch [2/2], Step [2030/3293], Loss: 0.0493\n",
      "Epoch [2/2], Step [2040/3293], Loss: 0.5465\n",
      "Epoch [2/2], Step [2050/3293], Loss: 1.0792\n",
      "Epoch [2/2], Step [2060/3293], Loss: 0.4315\n",
      "Epoch [2/2], Step [2070/3293], Loss: 0.3909\n",
      "Epoch [2/2], Step [2080/3293], Loss: 0.7135\n",
      "Epoch [2/2], Step [2090/3293], Loss: 0.0583\n",
      "Epoch [2/2], Step [2100/3293], Loss: 0.1193\n",
      "Epoch [2/2], Step [2110/3293], Loss: 0.0384\n",
      "Epoch [2/2], Step [2120/3293], Loss: 0.6414\n",
      "Epoch [2/2], Step [2130/3293], Loss: 0.5508\n",
      "Epoch [2/2], Step [2140/3293], Loss: 0.1220\n",
      "Epoch [2/2], Step [2150/3293], Loss: 0.2762\n",
      "Epoch [2/2], Step [2160/3293], Loss: 0.2535\n",
      "Epoch [2/2], Step [2170/3293], Loss: 0.1326\n",
      "Epoch [2/2], Step [2180/3293], Loss: 1.1957\n",
      "Epoch [2/2], Step [2190/3293], Loss: 0.3585\n",
      "Epoch [2/2], Step [2200/3293], Loss: 0.3436\n",
      "Epoch [2/2], Step [2210/3293], Loss: 0.8841\n",
      "Epoch [2/2], Step [2220/3293], Loss: 0.0237\n",
      "Epoch [2/2], Step [2230/3293], Loss: 1.0100\n",
      "Epoch [2/2], Step [2240/3293], Loss: 0.1631\n",
      "Epoch [2/2], Step [2250/3293], Loss: 0.1166\n",
      "Epoch [2/2], Step [2260/3293], Loss: 0.0177\n",
      "Epoch [2/2], Step [2270/3293], Loss: 2.4982\n",
      "Epoch [2/2], Step [2280/3293], Loss: 0.3141\n",
      "Epoch [2/2], Step [2290/3293], Loss: 0.3799\n",
      "Epoch [2/2], Step [2300/3293], Loss: 0.8945\n",
      "Epoch [2/2], Step [2310/3293], Loss: 0.5610\n",
      "Epoch [2/2], Step [2320/3293], Loss: 0.1263\n",
      "Epoch [2/2], Step [2330/3293], Loss: 0.1018\n",
      "Epoch [2/2], Step [2340/3293], Loss: 0.1483\n",
      "Epoch [2/2], Step [2350/3293], Loss: 0.7049\n",
      "Epoch [2/2], Step [2360/3293], Loss: 1.1235\n",
      "Epoch [2/2], Step [2370/3293], Loss: 0.2125\n",
      "Epoch [2/2], Step [2380/3293], Loss: 1.2972\n",
      "Epoch [2/2], Step [2390/3293], Loss: 1.1970\n",
      "Epoch [2/2], Step [2400/3293], Loss: 0.8328\n",
      "Epoch [2/2], Step [2410/3293], Loss: 1.3114\n",
      "Epoch [2/2], Step [2420/3293], Loss: 0.6849\n",
      "Epoch [2/2], Step [2430/3293], Loss: 0.0906\n",
      "Epoch [2/2], Step [2440/3293], Loss: 0.3731\n",
      "Epoch [2/2], Step [2450/3293], Loss: 1.3345\n",
      "Epoch [2/2], Step [2460/3293], Loss: 0.5975\n",
      "Epoch [2/2], Step [2470/3293], Loss: 0.2289\n",
      "Epoch [2/2], Step [2480/3293], Loss: 0.0429\n",
      "Epoch [2/2], Step [2490/3293], Loss: 0.0433\n",
      "Epoch [2/2], Step [2500/3293], Loss: 1.3003\n",
      "Epoch [2/2], Step [2510/3293], Loss: 0.2714\n",
      "Epoch [2/2], Step [2520/3293], Loss: 0.4168\n",
      "Epoch [2/2], Step [2530/3293], Loss: 0.1926\n",
      "Epoch [2/2], Step [2540/3293], Loss: 1.2972\n",
      "Epoch [2/2], Step [2550/3293], Loss: 0.1204\n",
      "Epoch [2/2], Step [2560/3293], Loss: 1.1802\n",
      "Epoch [2/2], Step [2570/3293], Loss: 0.2761\n",
      "Epoch [2/2], Step [2580/3293], Loss: 0.3943\n",
      "Epoch [2/2], Step [2590/3293], Loss: 0.2992\n",
      "Epoch [2/2], Step [2600/3293], Loss: 0.6486\n",
      "Epoch [2/2], Step [2610/3293], Loss: 1.2491\n",
      "Epoch [2/2], Step [2620/3293], Loss: 0.1659\n",
      "Epoch [2/2], Step [2630/3293], Loss: 0.4562\n",
      "Epoch [2/2], Step [2640/3293], Loss: 0.0368\n",
      "Epoch [2/2], Step [2650/3293], Loss: 0.6017\n",
      "Epoch [2/2], Step [2660/3293], Loss: 0.9338\n",
      "Epoch [2/2], Step [2670/3293], Loss: 1.0638\n",
      "Epoch [2/2], Step [2680/3293], Loss: 0.8373\n",
      "Epoch [2/2], Step [2690/3293], Loss: 0.0611\n",
      "Epoch [2/2], Step [2700/3293], Loss: 0.4994\n",
      "Epoch [2/2], Step [2710/3293], Loss: 0.4296\n",
      "Epoch [2/2], Step [2720/3293], Loss: 0.6093\n",
      "Epoch [2/2], Step [2730/3293], Loss: 0.5013\n",
      "Epoch [2/2], Step [2740/3293], Loss: 0.9986\n",
      "Epoch [2/2], Step [2750/3293], Loss: 1.6839\n",
      "Epoch [2/2], Step [2760/3293], Loss: 0.6063\n",
      "Epoch [2/2], Step [2770/3293], Loss: 0.0687\n",
      "Epoch [2/2], Step [2780/3293], Loss: 0.1022\n",
      "Epoch [2/2], Step [2790/3293], Loss: 0.1542\n",
      "Epoch [2/2], Step [2800/3293], Loss: 0.1627\n",
      "Epoch [2/2], Step [2810/3293], Loss: 0.2414\n",
      "Epoch [2/2], Step [2820/3293], Loss: 1.0210\n",
      "Epoch [2/2], Step [2830/3293], Loss: 0.1647\n",
      "Epoch [2/2], Step [2840/3293], Loss: 0.3505\n",
      "Epoch [2/2], Step [2850/3293], Loss: 0.0027\n",
      "Epoch [2/2], Step [2860/3293], Loss: 0.2789\n",
      "Epoch [2/2], Step [2870/3293], Loss: 0.3146\n",
      "Epoch [2/2], Step [2880/3293], Loss: 0.1962\n",
      "Epoch [2/2], Step [2890/3293], Loss: 0.2469\n",
      "Epoch [2/2], Step [2900/3293], Loss: 0.1495\n",
      "Epoch [2/2], Step [2910/3293], Loss: 1.1820\n",
      "Epoch [2/2], Step [2920/3293], Loss: 0.5216\n",
      "Epoch [2/2], Step [2930/3293], Loss: 0.0409\n",
      "Epoch [2/2], Step [2940/3293], Loss: 1.0574\n",
      "Epoch [2/2], Step [2950/3293], Loss: 0.6371\n",
      "Epoch [2/2], Step [2960/3293], Loss: 0.1211\n",
      "Epoch [2/2], Step [2970/3293], Loss: 0.2113\n",
      "Epoch [2/2], Step [2980/3293], Loss: 0.4162\n",
      "Epoch [2/2], Step [2990/3293], Loss: 0.4752\n",
      "Epoch [2/2], Step [3000/3293], Loss: 0.8515\n",
      "Epoch [2/2], Step [3010/3293], Loss: 0.3414\n",
      "Epoch [2/2], Step [3020/3293], Loss: 1.4306\n",
      "Epoch [2/2], Step [3030/3293], Loss: 0.1005\n",
      "Epoch [2/2], Step [3040/3293], Loss: 0.6333\n",
      "Epoch [2/2], Step [3050/3293], Loss: 1.0650\n",
      "Epoch [2/2], Step [3060/3293], Loss: 0.4165\n",
      "Epoch [2/2], Step [3070/3293], Loss: 0.2479\n",
      "Epoch [2/2], Step [3080/3293], Loss: 0.1943\n",
      "Epoch [2/2], Step [3090/3293], Loss: 0.6766\n",
      "Epoch [2/2], Step [3100/3293], Loss: 0.5023\n",
      "Epoch [2/2], Step [3110/3293], Loss: 0.6726\n",
      "Epoch [2/2], Step [3120/3293], Loss: 1.7118\n",
      "Epoch [2/2], Step [3130/3293], Loss: 0.4294\n",
      "Epoch [2/2], Step [3140/3293], Loss: 1.3495\n",
      "Epoch [2/2], Step [3150/3293], Loss: 0.6883\n",
      "Epoch [2/2], Step [3160/3293], Loss: 0.1484\n",
      "Epoch [2/2], Step [3170/3293], Loss: 0.1516\n",
      "Epoch [2/2], Step [3180/3293], Loss: 0.0428\n",
      "Epoch [2/2], Step [3190/3293], Loss: 0.5809\n",
      "Epoch [2/2], Step [3200/3293], Loss: 0.0365\n",
      "Epoch [2/2], Step [3210/3293], Loss: 0.5654\n",
      "Epoch [2/2], Step [3220/3293], Loss: 0.1796\n",
      "Epoch [2/2], Step [3230/3293], Loss: 0.1966\n",
      "Epoch [2/2], Step [3240/3293], Loss: 0.0630\n",
      "Epoch [2/2], Step [3250/3293], Loss: 0.3754\n",
      "Epoch [2/2], Step [3260/3293], Loss: 1.4099\n",
      "Epoch [2/2], Step [3270/3293], Loss: 1.3889\n",
      "Epoch [2/2], Step [3280/3293], Loss: 1.6925\n",
      "Epoch [2/2], Step [3290/3293], Loss: 0.1500\n",
      "Epoch 2/2 - Avg Train Loss: 0.5266\n",
      "Evaluation - Loss: 1.0890, Accuracy: 63.40%, Precision: 0.69, Recall: 0.63, F1: 0.64\n",
      "Epoch 2/2 - Eval Loss: 1.0890, Eval Acc: 63.40%\n"
     ]
    }
   ],
   "source": [
    "train_losses = []  # To store average training loss per epoch\n",
    "val_losses = []    # To store validation loss per epoch\n",
    "set_seeds(config[\"experiment\"]['seed'])\n",
    "\n",
    "start_time = time.time()\n",
    "for epoch in range(config[\"train\"][\"epochs\"]):\n",
    "    # Training step\n",
    "    avg_train_loss = train(model, \n",
    "                                     train_loader, \n",
    "                                     criterion, \n",
    "                                     optimizer, \n",
    "                                     epoch, config, device=device)\n",
    "    train_losses.append(avg_train_loss)  # Store avg training loss\n",
    "    print(f\"Epoch {epoch+1}/{config[\"train\"][\"epochs\"]} - Avg Train Loss: {\n",
    "        avg_train_loss:.12f}\")\n",
    "    \n",
    "    # Evaluation step\n",
    "    eval_metrics = evaluate_low_log(model, val_loader, criterion, config, epoch+1, device=device)\n",
    "    val_losses.append(eval_metrics[\"loss\"])  # Store validation loss\n",
    "    print(f\"Epoch {epoch+1}/{config[\"train\"][\"epochs\"]} - Eval Loss: {\n",
    "        eval_metrics['loss']:.12f}, Eval Acc: {eval_metrics['accuracy']:.2f}%\")\n",
    "\n",
    "end_time = time.time()\n",
    "duration = end_time - start_time\n",
    "wandb.log({\"duration\": duration})\n"
   ]
  },
  {
   "cell_type": "markdown",
   "metadata": {},
   "source": [
    "If you are done logging or you want to run the experiment again, finish with the block below. But if you think you might want to submit this run to the competition, don't finish logging until the end once you've added the competition score."
   ]
  },
  {
   "cell_type": "code",
   "execution_count": null,
   "metadata": {},
   "outputs": [
    {
     "data": {
      "text/html": [
       "\n",
       "    <style>\n",
       "        .wandb-row {\n",
       "            display: flex;\n",
       "            flex-direction: row;\n",
       "            flex-wrap: wrap;\n",
       "            justify-content: flex-start;\n",
       "            width: 100%;\n",
       "        }\n",
       "        .wandb-col {\n",
       "            display: flex;\n",
       "            flex-direction: column;\n",
       "            flex-basis: 100%;\n",
       "            flex: 1;\n",
       "            padding: 10px;\n",
       "        }\n",
       "    </style>\n",
       "<div class=\"wandb-row\"><div class=\"wandb-col\"><h3>Run history:</h3><br/><table class=\"wandb\"><tr><td>duration</td><td>▁</td></tr><tr><td>epoch</td><td>▁▁▁▁▁▁▁▁▁▁▁▁▁▁▁▁▁▁▁▁▁▁▁▁▁███████████████</td></tr><tr><td>eval_accuracy</td><td>▁█</td></tr><tr><td>eval_f1</td><td>▁█</td></tr><tr><td>eval_loss</td><td>▁█</td></tr><tr><td>eval_macro_f1</td><td>█▁</td></tr><tr><td>eval_precision</td><td>▁█</td></tr><tr><td>eval_recall</td><td>▁█</td></tr><tr><td>f1_antelope_duiker</td><td>▁█</td></tr><tr><td>f1_bird</td><td>▁█</td></tr><tr><td>f1_blank</td><td>▁█</td></tr><tr><td>f1_civet_genet</td><td>█▁</td></tr><tr><td>f1_hog</td><td>█▁</td></tr><tr><td>f1_leopard</td><td>▁█</td></tr><tr><td>f1_macro avg</td><td>█▁</td></tr><tr><td>f1_monkey_prosimian</td><td>▁█</td></tr><tr><td>f1_rodent</td><td>▁█</td></tr><tr><td>f1_weighted avg</td><td>▁█</td></tr><tr><td>loss</td><td>▅▇█▃▆▃▃▅▅▄▇▅▂▅▄▂▅▃▄▂▂▁▂▃▅▇▁▁▂▂▄▂▂▂▃▁▁▄▂▆</td></tr></table><br/></div><div class=\"wandb-col\"><h3>Run summary:</h3><br/><table class=\"wandb\"><tr><td>duration</td><td>2542.28467</td></tr><tr><td>epoch</td><td>2</td></tr><tr><td>eval_accuracy</td><td>63.40066</td></tr><tr><td>eval_f1</td><td>0.63853</td></tr><tr><td>eval_loss</td><td>1.08899</td></tr><tr><td>eval_macro_f1</td><td>0.62529</td></tr><tr><td>eval_precision</td><td>0.69436</td></tr><tr><td>eval_recall</td><td>0.63401</td></tr><tr><td>f1_antelope_duiker</td><td>0.68008</td></tr><tr><td>f1_bird</td><td>0.604</td></tr><tr><td>f1_blank</td><td>0.50767</td></tr><tr><td>f1_civet_genet</td><td>0.81481</td></tr><tr><td>f1_hog</td><td>0.45016</td></tr><tr><td>f1_leopard</td><td>0.66149</td></tr><tr><td>f1_macro avg</td><td>0.62529</td></tr><tr><td>f1_monkey_prosimian</td><td>0.66191</td></tr><tr><td>f1_rodent</td><td>0.62217</td></tr><tr><td>f1_weighted avg</td><td>0.63853</td></tr><tr><td>loss</td><td>0.02693</td></tr></table><br/></div></div>"
      ],
      "text/plain": [
       "<IPython.core.display.HTML object>"
      ]
     },
     "metadata": {},
     "output_type": "display_data"
    },
    {
     "data": {
      "text/html": [
       " View run <strong style=\"color:#cdcd00\">clear-microwave-12</strong> at: <a href='https://wandb.ai/kseeger7-georgia-institute-of-technology/wildlife/runs/3bs97qrs' target=\"_blank\">https://wandb.ai/kseeger7-georgia-institute-of-technology/wildlife/runs/3bs97qrs</a><br/> View project at: <a href='https://wandb.ai/kseeger7-georgia-institute-of-technology/wildlife' target=\"_blank\">https://wandb.ai/kseeger7-georgia-institute-of-technology/wildlife</a><br/>Synced 5 W&B file(s), 0 media file(s), 61 artifact file(s) and 4 other file(s)"
      ],
      "text/plain": [
       "<IPython.core.display.HTML object>"
      ]
     },
     "metadata": {},
     "output_type": "display_data"
    },
    {
     "data": {
      "text/html": [
       "Find logs at: <code>.\\wandb\\run-20241202_233416-3bs97qrs\\logs</code>"
      ],
      "text/plain": [
       "<IPython.core.display.HTML object>"
      ]
     },
     "metadata": {},
     "output_type": "display_data"
    }
   ],
   "source": [
    "# ✨ W&B: Mark the run as complete (Or wait until the end of notebook)\n",
    "# wandb.finish()"
   ]
  },
  {
   "cell_type": "markdown",
   "metadata": {},
   "source": [
    "---\n"
   ]
  },
  {
   "cell_type": "markdown",
   "metadata": {},
   "source": [
    "### **Explore Experiment** "
   ]
  },
  {
   "cell_type": "code",
   "execution_count": null,
   "metadata": {},
   "outputs": [],
   "source": [
    "# set to True to explore and potentially submit your results \n",
    "explore = False"
   ]
  },
  {
   "cell_type": "markdown",
   "metadata": {},
   "source": [
    "#### Learning Curve"
   ]
  },
  {
   "cell_type": "code",
   "execution_count": 16,
   "metadata": {},
   "outputs": [
    {
     "data": {
      "image/png": "[encoded data removed]",
      "text/plain": [
       "<Figure size 1000x600 with 1 Axes>"
      ]
     },
     "metadata": {},
     "output_type": "display_data"
    }
   ],
   "source": [
    "if explore:\n",
    "    plt.figure(figsize=(10, 6))\n",
    "    plt.plot(range(1, config[\"train\"][\"epochs\"]+1), train_losses, label=\"Training Loss\", marker=\"o\")\n",
    "    plt.plot(range(1, config[\"train\"][\"epochs\"]+1), val_losses, label=\"Validation Loss\", marker=\"o\")\n",
    "    plt.xlabel(\"Epochs\")\n",
    "    plt.ylabel(\"Loss\")\n",
    "    plt.title(\"Learning Curve\")\n",
    "    plt.legend()\n",
    "    plt.grid(True)\n",
    "    plt.show()"
   ]
  },
  {
   "cell_type": "markdown",
   "metadata": {},
   "source": [
    "#### Batch Loss During Training"
   ]
  },
  {
   "cell_type": "code",
   "execution_count": 17,
   "metadata": {},
   "outputs": [
    {
     "data": {
      "image/png": "[encoded data removed]",
      "text/plain": [
       "<Figure size 1000x500 with 1 Axes>"
      ]
     },
     "metadata": {},
     "output_type": "display_data"
    }
   ],
   "source": [
    "if explore:\n",
    "    # Convert tracking_loss to a pandas Series for convenient rolling average\n",
    "    tracking_loss_series = pd.Series(tracking_loss_all)\n",
    "\n",
    "    # Plot\n",
    "    plt.figure(figsize=(10, 5))\n",
    "    tracking_loss_series.plot(alpha=0.2, label=\"Batch Loss\")\n",
    "    tracking_loss_series.rolling(center=True, min_periods=1, window=10).mean().plot(\n",
    "        label=\"Loss (Moving Avg)\", linewidth=2\n",
    "    )\n",
    "    plt.xlabel(\"(Epoch, Batch)\")\n",
    "    plt.ylabel(\"Loss\")\n",
    "    plt.title(\"Batch Loss During Training\")\n",
    "    plt.legend(loc=\"upper right\")\n",
    "    plt.show()"
   ]
  },
  {
   "cell_type": "markdown",
   "metadata": {},
   "source": [
    "#### Class Distribution  "
   ]
  },
  {
   "cell_type": "markdown",
   "metadata": {},
   "source": [
    "True Labels from Training Set"
   ]
  },
  {
   "cell_type": "code",
   "execution_count": 18,
   "metadata": {},
   "outputs": [
    {
     "name": "stdout",
     "output_type": "stream",
     "text": [
      "True labels (training):\n",
      "civet_genet         2055\n",
      "monkey_prosimian    1959\n",
      "antelope_duiker     1867\n",
      "leopard             1859\n",
      "blank               1800\n",
      "rodent              1535\n",
      "bird                1324\n",
      "hog                  772\n",
      "Name: count, dtype: int64\n"
     ]
    }
   ],
   "source": [
    "if explore:\n",
    "    print(\"True labels (training):\")\n",
    "    print(y_train.idxmax(axis=1).value_counts())   "
   ]
  },
  {
   "cell_type": "markdown",
   "metadata": {},
   "source": [
    "True and Predicated Labels from Validation Set"
   ]
  },
  {
   "cell_type": "code",
   "execution_count": 19,
   "metadata": {},
   "outputs": [
    {
     "name": "stdout",
     "output_type": "stream",
     "text": [
      "Predicted labels (eval):\n",
      "predicted_label\n",
      "antelope_duiker     884\n",
      "blank               761\n",
      "monkey_prosimian    449\n",
      "rodent              406\n",
      "civet_genet         280\n",
      "leopard             249\n",
      "bird                183\n",
      "hog                 105\n",
      "Name: count, dtype: int64\n",
      "\n",
      "True labels (eval):\n",
      "true_label\n",
      "antelope_duiker     607\n",
      "monkey_prosimian    533\n",
      "rodent              478\n",
      "blank               413\n",
      "leopard             395\n",
      "civet_genet         368\n",
      "bird                317\n",
      "hog                 206\n",
      "Name: count, dtype: int64\n"
     ]
    }
   ],
   "source": [
    "if explore:\n",
    "    # Extract predictions and true labels from eval_metrics\n",
    "    all_preds = eval_metrics[\"all_preds\"]\n",
    "    all_labels = eval_metrics[\"all_labels\"]\n",
    "\n",
    "    # Convert all_preds to DataFrame and map to class names\n",
    "    preds_df = pd.DataFrame(all_preds, columns=[\"predicted_class\"])\n",
    "    preds_df[\"predicted_label\"] = preds_df[\"predicted_class\"].map(\n",
    "        lambda idx: species_labels[idx]\n",
    "    )\n",
    "\n",
    "    # Convert all_labels to DataFrame and map to class names\n",
    "    labels_df = pd.DataFrame(all_labels, columns=[\"true_class\"])\n",
    "    labels_df[\"true_label\"] = labels_df[\"true_class\"].map(\n",
    "        lambda idx: species_labels[idx]\n",
    "    )\n",
    "\n",
    "    # Combine predictions and true labels for analysis\n",
    "    results_df = pd.concat([preds_df, labels_df], axis=1)\n",
    "\n",
    "    # Display value counts for predicted and true labels\n",
    "    print(\"Predicted labels (eval):\")\n",
    "    print(results_df[\"predicted_label\"].value_counts())\n",
    "\n",
    "    print(\"\\nTrue labels (eval):\")\n",
    "    print(results_df[\"true_label\"].value_counts())"
   ]
  },
  {
   "cell_type": "markdown",
   "metadata": {},
   "source": [
    "Accuracy per class"
   ]
  },
  {
   "cell_type": "code",
   "execution_count": 20,
   "metadata": {},
   "outputs": [
    {
     "name": "stdout",
     "output_type": "stream",
     "text": [
      "Per-Class Accuracy:\n",
      "true_label\n",
      "antelope_duiker     0.835255\n",
      "bird                0.476341\n",
      "blank               0.721550\n",
      "civet_genet         0.717391\n",
      "hog                 0.339806\n",
      "leopard             0.539241\n",
      "monkey_prosimian    0.609756\n",
      "rodent              0.575314\n",
      "dtype: float64\n"
     ]
    },
    {
     "name": "stderr",
     "output_type": "stream",
     "text": [
      "C:\\Users\\kseeg\\AppData\\Local\\Temp\\ipykernel_57088\\3812328652.py:2: DeprecationWarning: DataFrameGroupBy.apply operated on the grouping columns. This behavior is deprecated, and in a future version of pandas the grouping columns will be excluded from the operation. Either pass `include_groups=False` to exclude the groupings or explicitly select the grouping columns after groupby to silence this warning.\n",
      "  per_class_accuracy = results_df.groupby(\"true_label\").apply(\n"
     ]
    }
   ],
   "source": [
    "if explore:    \n",
    "    per_class_accuracy = results_df.groupby(\"true_label\").apply(\n",
    "        lambda x: (x[\"true_label\"] == x[\"predicted_label\"]).mean(), \n",
    "    )\n",
    "    print(\"Per-Class Accuracy:\")\n",
    "    print(per_class_accuracy)"
   ]
  },
  {
   "cell_type": "markdown",
   "metadata": {},
   "source": [
    "Confusion Matrix"
   ]
  },
  {
   "cell_type": "code",
   "execution_count": 21,
   "metadata": {},
   "outputs": [
    {
     "data": {
      "image/png": "[encoded data removed]",
      "text/plain": [
       "<Figure size 1000x1000 with 2 Axes>"
      ]
     },
     "metadata": {},
     "output_type": "display_data"
    }
   ],
   "source": [
    "if explore:\n",
    "    from sklearn.metrics import ConfusionMatrixDisplay\n",
    "\n",
    "    eval_true = pd.Series(all_labels).apply(lambda x: species_labels[x])\n",
    "    eval_predictions = pd.Series(all_preds).apply(lambda x: species_labels[x])\n",
    "\n",
    "    # Plot confusion matrix\n",
    "    fig, ax = plt.subplots(figsize=(10, 10))\n",
    "    cm = ConfusionMatrixDisplay.from_predictions(\n",
    "        eval_true,\n",
    "        eval_predictions,\n",
    "        ax=ax,\n",
    "        xticks_rotation=90,\n",
    "        colorbar=True,\n",
    "        normalize='true'\n",
    "    )\n",
    "    plt.title(\"Normalized Confusion Matrix\")\n",
    "    plt.show()"
   ]
  },
  {
   "cell_type": "markdown",
   "metadata": {},
   "source": [
    "### **Create Submission**"
   ]
  },
  {
   "cell_type": "markdown",
   "metadata": {},
   "source": [
    "### Set up Datatloader"
   ]
  },
  {
   "cell_type": "code",
   "execution_count": 24,
   "metadata": {},
   "outputs": [
    {
     "name": "stdout",
     "output_type": "stream",
     "text": [
      "Test set: 4464 samples\n"
     ]
    }
   ],
   "source": [
    "if explore:\n",
    "    set_seeds(config[\"experiment\"][\"seed\"])\n",
    "    test_dataset = ImagesDataset(\n",
    "        test_features, \n",
    "        transform=val_transforms, \n",
    "        device=device)\n",
    "\n",
    "    if(device==\"cuda\"):\n",
    "        pin=False\n",
    "    else:\n",
    "        pin=True\n",
    "\n",
    "    test_loader = DataLoader(\n",
    "        test_dataset, \n",
    "        batch_size=config[\"train\"][\"batch_size\"], \n",
    "        shuffle=False, pin_memory=pin)\n",
    "    \n",
    "    print(f\"Test set: {len(test_dataset)} samples\")"
   ]
  },
  {
   "cell_type": "markdown",
   "metadata": {},
   "source": [
    "### Test Model"
   ]
  },
  {
   "cell_type": "code",
   "execution_count": 25,
   "metadata": {},
   "outputs": [],
   "source": [
    "if explore:\n",
    "    test_preds_collector = []\n",
    "\n",
    "    # put the model in eval mode so we don't update any parameters\n",
    "    model.eval()\n",
    "\n",
    "    # we aren't updating our weights so no need to calculate gradients\n",
    "    with torch.no_grad():\n",
    "        for batch_n, batch in enumerate(test_loader):\n",
    "            # run the forward step\n",
    "            images = batch[\"image\"].to(device)\n",
    "            logits = model(images)\n",
    "\n",
    "            # apply softmax so that model outputs are in range [0,1]\n",
    "            preds = F.softmax(logits, dim=1)\n",
    "\n",
    "            # store this batch's predictions in df\n",
    "            # note that PyTorch Tensors need to first be detached from their computational graph before converting to numpy arrays\n",
    "            preds_df = pd.DataFrame(\n",
    "                preds.cpu().numpy(),\n",
    "                index=batch[\"image_id\"],\n",
    "                columns=species_labels,\n",
    "            )\n",
    "            test_preds_collector.append(preds_df)\n",
    "\n",
    "    submission_df = pd.concat(test_preds_collector)"
   ]
  },
  {
   "cell_type": "markdown",
   "metadata": {},
   "source": [
    "Create your submission. Update submission_number.\n",
    "\n",
    "Make sure your directory is properly set up, as both `/data` and `/results` are ignored by the repo."
   ]
  },
  {
   "cell_type": "code",
   "execution_count": 29,
   "metadata": {},
   "outputs": [],
   "source": [
    "if explore:\n",
    "    submission_number=14\n",
    "    submission_df.index.name = 'id'\n",
    "    submission_df = submission_df.round(6)\n",
    "    submission_format_path = \"../data/givens/submission_format.csv\"\n",
    "    submission_format = pd.read_csv(submission_format_path, index_col=\"id\")\n",
    "\n",
    "\n",
    "    assert all(submission_df.index == submission_format.index)\n",
    "    assert all(submission_df.columns == submission_format.columns)\n",
    "\n",
    "    # Save submission_df for further use\n",
    "    submission_df_path = f\"../results/submissions/submission{submission_number}.csv\"\n",
    "    submission_df.to_csv(submission_df_path)"
   ]
  },
  {
   "cell_type": "markdown",
   "metadata": {},
   "source": [
    "After you submit update the submission score for logging."
   ]
  },
  {
   "cell_type": "code",
   "execution_count": null,
   "metadata": {},
   "outputs": [],
   "source": [
    "if explore:\n",
    "     # ✨ Mannualy Log Test Results to W&B\n",
    "    wandb.log({\n",
    "        \"test_score\": 1.4578\n",
    "    })"
   ]
  },
  {
   "cell_type": "markdown",
   "metadata": {},
   "source": [
    "End your logging session."
   ]
  },
  {
   "cell_type": "code",
   "execution_count": 30,
   "metadata": {},
   "outputs": [],
   "source": [
    "if explore:\n",
    "    # ✨ W&B: Mark the run as complete (Or wait until the end of notebook)\n",
    "    wandb.finish()"
   ]
  }
 ],
 "metadata": {
  "accelerator": "GPU",
  "anaconda-cloud": {},
  "colab": {
   "gpuType": "T4",
   "include_colab_link": true,
   "provenance": []
  },
  "kernelspec": {
   "display_name": "FinalProject",
   "language": "python",
   "name": "python3"
  },
  "language_info": {
   "codemirror_mode": {
    "name": "ipython",
    "version": 3
   },
   "file_extension": ".py",
   "mimetype": "text/x-python",
   "name": "python",
   "nbconvert_exporter": "python",
   "pygments_lexer": "ipython3",
   "version": "3.11.10"
  }
 },
 "nbformat": 4,
 "nbformat_minor": 0
}
