{
 "cells": [
  {
   "cell_type": "markdown",
   "metadata": {
    "id": "j6y23yCuMBwj",
    "tags": []
   },
   "source": [
    "## Weights and Balances (W&B or wand) Pipeline"
   ]
  },
  {
   "cell_type": "code",
   "execution_count": 23,
   "metadata": {
    "id": "uKiaXIRuMBwn"
   },
   "outputs": [],
   "source": [
    "from utils import verify_data, plot_species_grid, verify_splits\n",
    "\n",
    "%matplotlib inline\n",
    "\n",
    "import os\n",
    "import wandb\n",
    "import random\n",
    "import matplotlib.pyplot as plt\n",
    "import pandas as pd\n",
    "import torch\n",
    "import torch.nn as nn \n",
    "import torchvision.models as models\n",
    "from torchvision import transforms\n",
    "import torch.nn.functional as F\n",
    "import torch.optim as optim\n",
    "from sklearn.model_selection import train_test_split\n",
    "from sklearn.metrics import precision_score, recall_score, f1_score, confusion_matrix\n",
    "from torch.utils.data import Dataset, DataLoader\n",
    "from tqdm import tqdm\n",
    "from PIL import Image"
   ]
  },
  {
   "cell_type": "code",
   "execution_count": 2,
   "metadata": {},
   "outputs": [
    {
     "name": "stdout",
     "output_type": "stream",
     "text": [
      "2.5.1\n",
      "True\n"
     ]
    }
   ],
   "source": [
    "print(torch.__version__)\n",
    "print(torch.backends.mps.is_available())\n",
    "\n",
    "# Determine whether to use MPS (Metal Performance Shaders) or fallback to CPU\n",
    "device = \"mps\" if torch.backends.mps.is_available() else \"cpu\""
   ]
  },
  {
   "cell_type": "code",
   "execution_count": 3,
   "metadata": {},
   "outputs": [
    {
     "name": "stdout",
     "output_type": "stream",
     "text": [
      "Note: you may need to restart the kernel to use updated packages.\n"
     ]
    }
   ],
   "source": [
    "%pip install wandb -qU"
   ]
  },
  {
   "cell_type": "code",
   "execution_count": 5,
   "metadata": {},
   "outputs": [
    {
     "data": {
      "text/plain": [
       "<torch._C.Generator at 0x303a76af0>"
      ]
     },
     "execution_count": 5,
     "metadata": {},
     "output_type": "execute_result"
    }
   ],
   "source": [
    "seed = 42\n",
    "random.seed(seed)  # Python's random module\n",
    "torch.manual_seed(seed)  # PyTorch CPU/GPU seed\n",
    "# np.random.seed(seed)  # NumPy random seed"
   ]
  },
  {
   "cell_type": "code",
   "execution_count": null,
   "metadata": {},
   "outputs": [],
   "source": [
    "NUM_CLASSES = 8  # Number of target classes\n",
    "\n",
    "# Constants for the model experiments and logging\n",
    "RESNET50_WEIGHTS = models.ResNet50_Weights.DEFAULT  # Pre-trained weights\n",
    "HIDDEN_UNITS1 = 100  # Number of units in the hidden fully connected layer\n",
    "\n",
    "# Hyperparmeters\n",
    "EPOCHS = 1\n",
    "DROPOUT_RATE = 0.1  # Dropout rate for regularization\n",
    "BATCH_SIZE = 32\n",
    "LR = 0.01\n",
    "MOMENTUM = 0.09\n",
    "\n",
    "# Logging params\n",
    "NUM_BATCHES_TO_LOG = 10 # from the test data for each test step\n",
    "NUM_IMAGES_PER_BATCH = 32 # Number of images to log per test batch\n"
   ]
  },
  {
   "cell_type": "code",
   "execution_count": 7,
   "metadata": {
    "id": "kFk46IPKMBwo"
   },
   "outputs": [],
   "source": [
    "# Define the base path where images are stored\n",
    "base_path = \"./data/givens/\"\n",
    "train_features = pd.read_csv(f\"{base_path}train_features.csv\", index_col=\"id\")\n",
    "test_features = pd.read_csv(f\"{base_path}test_features.csv\", index_col=\"id\")\n",
    "train_labels = pd.read_csv(f\"{base_path}train_labels.csv\", index_col=\"id\")"
   ]
  },
  {
   "cell_type": "markdown",
   "metadata": {
    "id": "u6sZMIpEMBwo"
   },
   "source": [
    "The `features` CSVs contain the image ID, filepath and site ID for each image."
   ]
  },
  {
   "cell_type": "code",
   "execution_count": 8,
   "metadata": {
    "colab": {
     "base_uri": "https://localhost:8080/"
    },
    "id": "_IKcKFKBhsYW",
    "outputId": "c7bdb61d-b60e-4c84-9468-26f9655d21f8"
   },
   "outputs": [
    {
     "name": "stdout",
     "output_type": "stream",
     "text": [
      "object\n",
      "0\n"
     ]
    }
   ],
   "source": [
    "print(test_features['filepath'].dtype)\n",
    "print(test_features['filepath'].isnull().sum())  # Count any NaN values"
   ]
  },
  {
   "cell_type": "code",
   "execution_count": 9,
   "metadata": {},
   "outputs": [],
   "source": [
    "# Add a 'filepath' column with the full path to each image\n",
    "# Subdirectories for train and test images\n",
    "train_images_path = os.path.join(base_path, \"train_features\")\n",
    "test_images_path = os.path.join(base_path, \"test_features\")\n",
    "\n",
    "train_features['filepath'] = train_features.index.map(\n",
    "    lambda img_id: os.path.join(train_images_path, f\"{img_id}.jpg\"))\n",
    "\n",
    "test_features['filepath'] = test_features.index.map(\n",
    "    lambda img_id: os.path.join(test_images_path, f\"{img_id}.jpg\"))"
   ]
  },
  {
   "cell_type": "markdown",
   "metadata": {
    "id": "rrHGSQGaMBwp"
   },
   "source": [
    "Let's store a sorted list of the labels, so that we can sort the inputs and outputs to our model in a consistent way."
   ]
  },
  {
   "cell_type": "code",
   "execution_count": 10,
   "metadata": {
    "colab": {
     "base_uri": "https://localhost:8080/"
    },
    "id": "mlxx7flxMBwp",
    "outputId": "e6a1a5e9-9632-49a4-c85a-f5f4104d30df"
   },
   "outputs": [],
   "source": [
    "species_labels = sorted(train_labels.columns.unique())\n",
    "# species_labels"
   ]
  },
  {
   "cell_type": "markdown",
   "metadata": {
    "id": "U2kftnIdMBwp"
   },
   "source": [
    "### 3. Explore the data (Optional)"
   ]
  },
  {
   "cell_type": "code",
   "execution_count": null,
   "metadata": {
    "colab": {
     "base_uri": "https://localhost:8080/",
     "height": 237
    },
    "id": "fw3qfrSZMBwo",
    "outputId": "52e120a4-274f-4555-a5f7-2cb80b377b9b"
   },
   "outputs": [],
   "source": [
    "# helper function (optional)\n",
    "verify_data(train_features,test_features, train_labels)"
   ]
  },
  {
   "cell_type": "code",
   "execution_count": null,
   "metadata": {},
   "outputs": [],
   "source": [
    "# helper function (optional)\n",
    "plot_species_grid(train_features, train_labels, species_labels)"
   ]
  },
  {
   "cell_type": "markdown",
   "metadata": {
    "id": "XHLg_-qfMBwp"
   },
   "source": [
    "There's a lot more data exploration to do. For example, you might also want to look at the distribution of image dimensions or camera trap sites. But since our primary goal here is to develop a benchmark, let's move on to the modeling!"
   ]
  },
  {
   "cell_type": "markdown",
   "metadata": {
    "id": "YNzMhcTGMBwp"
   },
   "source": [
    "### 4. Split into train and evaluation sets\n",
    "\n",
    "First, we'll need to split the images into train and eval sets. We'll put aside 20% of the data for evaluation and stratify by the target labels to ensure we have similar relative frequencies of each class in the train and eval sets."
   ]
  },
  {
   "cell_type": "code",
   "execution_count": 11,
   "metadata": {
    "id": "HANesGE0MBwq"
   },
   "outputs": [],
   "source": [
    "\n",
    "# Split the data (80% training, 20% validation)\n",
    "X_train, X_val, y_train, y_val = train_test_split(\n",
    "    train_features, \n",
    "    train_labels, \n",
    "    test_size=0.2, \n",
    "    stratify=train_labels, \n",
    "    random_state=42\n",
    ")"
   ]
  },
  {
   "cell_type": "code",
   "execution_count": null,
   "metadata": {},
   "outputs": [],
   "source": [
    "\n",
    "# Helper function (optional)\n",
    "verify_splits(X_train, y_train, X_val,  y_val)"
   ]
  },
  {
   "cell_type": "markdown",
   "metadata": {},
   "source": [
    "### 4. Build the datasets"
   ]
  },
  {
   "cell_type": "code",
   "execution_count": 12,
   "metadata": {},
   "outputs": [],
   "source": [
    "class ImagesDataset(Dataset):\n",
    "    \"\"\"Reads in an image, transforms pixel values, and serves\n",
    "    a dictionary containing the image id, image tensors, and label.\n",
    "    \"\"\"\n",
    "\n",
    "    def __init__(self, train_features, \n",
    "                 train_labels=None, \n",
    "                 transform=None, device=device):\n",
    "        self.data = train_features\n",
    "        self.label = train_labels\n",
    "        self.device = device\n",
    "        self.transform = transform\n",
    "\n",
    "    def __getitem__(self, index):\n",
    "    \n",
    "        image_id = self.data.index[index]\n",
    "        image = Image.open(self.data.iloc[index][\"filepath\"]).convert(\"RGB\")\n",
    "\n",
    "        if self.transform:\n",
    "            image = self.transform(image)\n",
    "\n",
    "        sample = {\"image_id\": image_id, \"image\": image}\n",
    "     \n",
    "        if self.label is not None:\n",
    "            label = torch.tensor(self.label.iloc[index].values, dtype=torch.float)\n",
    "            if self.device:\n",
    "                label = label.to(self.device)\n",
    "            sample[\"label\"] = label\n",
    "\n",
    "        return sample\n",
    "\n",
    "    def __len__(self):\n",
    "        return len(self.data)"
   ]
  },
  {
   "cell_type": "markdown",
   "metadata": {},
   "source": [
    "Set up transformations."
   ]
  },
  {
   "cell_type": "code",
   "execution_count": 13,
   "metadata": {},
   "outputs": [],
   "source": [
    "# train_transform = transforms.Compose([\n",
    "#     transforms.Resize((224, 224)),  # Resize to match model input\n",
    "#     transforms.RandomHorizontalFlip(p=0.5),  # Randomly flip horizontally\n",
    "#     transforms.RandomRotation(15),  # Rotate within 15 degrees\n",
    "#     transforms.ToTensor(),  # Convert PIL image to tensor\n",
    "#     transforms.Normalize(mean=(0.485, 0.456, 0.406), std=(0.229, 0.224, 0.225)),  # Normalize using ImageNet stats\n",
    "# ])\n",
    "train_transform = transforms.Compose([\n",
    "    transforms.Resize((224, 224)),\n",
    "                    transforms.ToTensor(),\n",
    "                    transforms.Normalize(\n",
    "                        mean=(0.485, 0.456, 0.406), std=(0.229, 0.224, 0.225))\n",
    "])"
   ]
  },
  {
   "cell_type": "code",
   "execution_count": 14,
   "metadata": {},
   "outputs": [],
   "source": [
    "val_transform = transforms.Compose([\n",
    "    transforms.Resize((224, 224)),  # Ensure consistent input size\n",
    "    transforms.ToTensor(),  # Convert to tensor\n",
    "    transforms.Normalize(mean=(0.485, 0.456, 0.406), std=(0.229, 0.224, 0.225)),  # Normalize using ImageNet stats\n",
    "])"
   ]
  },
  {
   "cell_type": "code",
   "execution_count": 15,
   "metadata": {},
   "outputs": [],
   "source": [
    "# Create datasets\n",
    "train_dataset = ImagesDataset(\n",
    "    X_train, \n",
    "    y_train, \n",
    "    transform=train_transform, device=device)\n",
    "val_dataset = ImagesDataset(\n",
    "    X_val, \n",
    "    y_val, \n",
    "    transform=val_transform, \n",
    "    device=device)\n",
    "\n",
    "# Create DataLoaders\n",
    "\n",
    "train_loader = DataLoader(\n",
    "    train_dataset, \n",
    "    batch_size=BATCH_SIZE, \n",
    "    shuffle=True, pin_memory=True)\n",
    "val_loader = DataLoader(\n",
    "    val_dataset, \n",
    "    batch_size=BATCH_SIZE, \n",
    "    shuffle=False, pin_memory=True)"
   ]
  },
  {
   "cell_type": "code",
   "execution_count": 16,
   "metadata": {},
   "outputs": [
    {
     "name": "stdout",
     "output_type": "stream",
     "text": [
      "Training set: 13190 samples\n",
      "Validation set: 3298 samples\n"
     ]
    }
   ],
   "source": [
    "# Print shapes for verification\n",
    "print(f\"Training set: {len(train_dataset)} samples\")\n",
    "print(f\"Validation set: {len(val_dataset)} samples\")"
   ]
  },
  {
   "cell_type": "markdown",
   "metadata": {
    "id": "cPwe5YFjMBwv",
    "tags": []
   },
   "source": [
    "### 5. Training\n",
    "Now it's time to start building our model and then training it.\n",
    "\n",
    "We'll use a pretrained ResNet50 model as our backbone. ResNets are one of the more popular networks for image classification tasks. The pretrained model outputs a 2048-dimension embedding, which we will then connect to two more dense layers, with a ReLU and Dropout step in between.\n",
    "\n",
    "These final layers, defined in `model.fc`, are the new \"head\" of our model, and allow us to transform the image embeddings produced by the pretrained \"backbone\" into the 8-dimensional output required to learn the species classification task we're tackling here. Prior to redefining it below, `model.fc` would be the final, dense layer connecting the 2048-dimension embedding to a 1000-dimension output (corresponding to the 1000 ImageNet classes that the pretrained model was trained on). We will instead prepare the model for the current task by redefining `model.fc` to produce an 8-dimensional output corresponding to our 8 species classes (including blanks).\n",
    "\n",
    "We'll also add a couple more layers in between. The `ReLU` layer introduces non-linearity into the model head, in effect activating important features and suppressing noise. And the `Dropout` layer is a commonly used regularization component that randomly drops some nodes from the previous layer's outputs (10% of nodes in this case) during each training step, mitigating our risk of overfitting."
   ]
  },
  {
   "cell_type": "markdown",
   "metadata": {},
   "source": [
    "#### Define the model, loss, and optimizer:"
   ]
  },
  {
   "cell_type": "code",
   "execution_count": 78,
   "metadata": {
    "colab": {
     "base_uri": "https://localhost:8080/"
    },
    "id": "Yf3bCjmwMBwv",
    "outputId": "e0b47689-3576-4c08-c1f8-fb4515032200"
   },
   "outputs": [],
   "source": [
    "# model = models.resnet50(pretrained=True) fixed warning\n",
    "model = models.resnet50(weights=RESNET50_WEIGHTS)\n",
    "model.fc = nn.Sequential(\n",
    "    nn.Linear(2048, HIDDEN_UNITS1),  # dense layer takes a 2048-dim input and outputs 100-dim\n",
    "    nn.ReLU(inplace=True),  # ReLU activation introduces non-linearity\n",
    "    nn.Dropout(DROPOUT_RATE),  # common technique to mitigate overfitting\n",
    "    nn.Linear(HIDDEN_UNITS1, NUM_CLASSES\n",
    "    ),  # final dense layer outputs 8-dim corresponding to our target classes\n",
    ")\n",
    "model = model.to(device)  # Move model to MPS device\n",
    "\n",
    "criterion = nn.CrossEntropyLoss()\n",
    "optimizer = optim.SGD(model.parameters(), lr=LR, momentum=MOMENTUM)\n"
   ]
  },
  {
   "cell_type": "markdown",
   "metadata": {},
   "source": [
    "#### Set up logging"
   ]
  },
  {
   "cell_type": "code",
   "execution_count": 85,
   "metadata": {},
   "outputs": [
    {
     "data": {
      "text/plain": [
       "True"
      ]
     },
     "execution_count": 85,
     "metadata": {},
     "output_type": "execute_result"
    }
   ],
   "source": [
    "wandb.require()\n",
    "wandb.login()"
   ]
  },
  {
   "cell_type": "code",
   "execution_count": 86,
   "metadata": {},
   "outputs": [
    {
     "data": {
      "text/html": [
       "Tracking run with wandb version 0.18.7"
      ],
      "text/plain": [
       "<IPython.core.display.HTML object>"
      ]
     },
     "metadata": {},
     "output_type": "display_data"
    },
    {
     "data": {
      "text/html": [
       "Run data is saved locally in <code>/Users/evaball/Documents/CS_Projects/HomeWork/Gatech/wildlife/wandb/run-20241119_012012-tfuoh4ex</code>"
      ],
      "text/plain": [
       "<IPython.core.display.HTML object>"
      ]
     },
     "metadata": {},
     "output_type": "display_data"
    },
    {
     "data": {
      "text/html": [
       "Syncing run <strong><a href='https://wandb.ai/gball30-georgia-institute-of-technology/wildlife/runs/tfuoh4ex' target=\"_blank\">prime-bird-7</a></strong> to <a href='https://wandb.ai/gball30-georgia-institute-of-technology/wildlife' target=\"_blank\">Weights & Biases</a> (<a href='https://wandb.me/developer-guide' target=\"_blank\">docs</a>)<br/>"
      ],
      "text/plain": [
       "<IPython.core.display.HTML object>"
      ]
     },
     "metadata": {},
     "output_type": "display_data"
    },
    {
     "data": {
      "text/html": [
       " View project at <a href='https://wandb.ai/gball30-georgia-institute-of-technology/wildlife' target=\"_blank\">https://wandb.ai/gball30-georgia-institute-of-technology/wildlife</a>"
      ],
      "text/plain": [
       "<IPython.core.display.HTML object>"
      ]
     },
     "metadata": {},
     "output_type": "display_data"
    },
    {
     "data": {
      "text/html": [
       " View run at <a href='https://wandb.ai/gball30-georgia-institute-of-technology/wildlife/runs/tfuoh4ex' target=\"_blank\">https://wandb.ai/gball30-georgia-institute-of-technology/wildlife/runs/tfuoh4ex</a>"
      ],
      "text/plain": [
       "<IPython.core.display.HTML object>"
      ]
     },
     "metadata": {},
     "output_type": "display_data"
    }
   ],
   "source": [
    "# ✨ W&B: Initialize a new run to track this model's training\n",
    "wandb.init(project=\"wildlife\")\n",
    "\n",
    "# ✨ W&B: Log anything we want to experiment with here\n",
    "cfg = wandb.config\n",
    "cfg.update({\"epochs\" : EPOCHS, \"batch_size\": BATCH_SIZE,\n",
    "            \"model\": \"ResNet50\", \"weights\": RESNET50_WEIGHTS,\n",
    "            \"hidden_units1\" : HIDDEN_UNITS1, \"dropout\": DROPOUT_RATE,\n",
    "            \"lr\": LR, \"momentum\": MOMENTUM,\n",
    "            # num images being logged\n",
    "            \"img_count\" : min(50, NUM_IMAGES_PER_BATCH*NUM_BATCHES_TO_LOG)})\n",
    "\n"
   ]
  },
  {
   "cell_type": "code",
   "execution_count": 87,
   "metadata": {},
   "outputs": [],
   "source": [
    "def log_test_predictions(images, \n",
    "                         image_ids,\n",
    "                         labels, \n",
    "                         outputs, \n",
    "                         probs,\n",
    "                         predicted, \n",
    "                         test_table, \n",
    "                         counter):\n",
    "                        #  preds_collector):\n",
    "    \"\"\"\n",
    "    Log predictions, confidence scores, and true labels for a batch of test \n",
    "        images. Creating a table of results in W&B. It visualizes image \n",
    "        misclassifications.\n",
    "    Args:\n",
    "        images (torch.Tensor): Batch of test images.\n",
    "        image_ids (list): List of IDs corresponding to the test images.\n",
    "        labels (torch.Tensor): Ground-truth labels.\n",
    "        outputs (torch.Tensor): Model outputs (logits).\n",
    "        predicted (torch.Tensor): Predicted class indices.\n",
    "        test_table (wandb.Table): W&B Table to log predictions.\n",
    "        counter (int): Current count of images logged.\n",
    "    \"\"\"\n",
    "    # Obtain confidence scores for all classes\n",
    "    # scores = F.softmax(outputs.data, dim=1)\n",
    "    log_scores = probs.cpu().numpy()  # Convert to NumPy for logging\n",
    "    log_images = images.cpu().numpy()\n",
    "    log_labels = labels.argmax(axis=1).cpu().numpy()\n",
    "    log_preds = predicted.cpu().numpy()\n",
    "\n",
    "    # Add data to W&B table\n",
    "    for img, img_id, true_label, pred, conf_scores in zip(\n",
    "        log_images, image_ids, log_labels, log_preds, log_scores\n",
    "    ):\n",
    "        if counter >= cfg[\"img_count\"]:\n",
    "            break  # Stop logging once the limit is reached\n",
    "\n",
    "        # Convert image from [C, H, W] to [H, W, C]\n",
    "        img = img.transpose(1, 2, 0)\n",
    "        \n",
    "        # Add data to the W&B table\n",
    "        test_table.add_data(\n",
    "            img_id,              # Image_ID\n",
    "            wandb.Image(img),    # Image\n",
    "            pred,                # Predicted class\n",
    "            true_label,          # Ground-truth label\n",
    "            *conf_scores         # Confidence scores for all classes\n",
    "        )\n",
    "        counter += 1  # Increment the counter\n",
    "\n",
    "        # return preds_collector\n"
   ]
  },
  {
   "cell_type": "markdown",
   "metadata": {
    "id": "6XwuufhOMBwv"
   },
   "source": [
    "#### Set up training Loop\n",
    "We're now ready to train our model!\n",
    "\n",
    "We'll start simple and just run it for one epoch, but feel free to run it for more `num_epochs` if you've got the time. We hope to see a decreasing loss as training progresses, which will provide some evidence that the model is learning. Note that we haven't frozen any weights in the pretrained model, a choice which you may want to revisit and we discuss in a little more detail below.\n",
    "\n",
    "For each epoch we'll iterate through the batches, and for each batch we'll do the following:\n",
    "1. Zero out the gradients. PyTorch will sum the gradients from past batches when doing its backward pass, so in order to make sure we are only using the gradients computed for the current batch, we zero out the gradients at the beginning of each batch.\n",
    "2. Run the forward pass.\n",
    "3. Compute the loss and track it.\n",
    "4. Compute our gradients and update our weight parameters.\n",
    "\n",
    "Note: Colab T4 GPU: 1h 36m -Eva"
   ]
  },
  {
   "cell_type": "code",
   "execution_count": 88,
   "metadata": {},
   "outputs": [],
   "source": [
    "def train_one_epoch(model, train_loader, criterion, optimizer, epoch):\n",
    "    \"\"\"\n",
    "    Train the model for one epoch.\n",
    "\n",
    "    Args:\n",
    "        model (nn.Module): The model being trained.\n",
    "        train_loader (DataLoader): DataLoader for training data.\n",
    "        criterion (nn.Module): Loss function.\n",
    "        optimizer (Optimizer): Optimizer for training.\n",
    "        epoch (int): Current epoch number.\n",
    "        cfg (dict): W&B configuration.\n",
    "\n",
    "    Returns:\n",
    "        float: Average loss for all batches in the epoch. Summarizing how \n",
    "        the model is performing during this epoch\n",
    "    \"\"\"\n",
    "    print(f\"Starting training for epoch {epoch}\")\n",
    "    model.train()\n",
    "    total_loss = 0\n",
    "    # total_steps = len(train_loader) # num batches in loader\n",
    "    tracking_loss = []  # List to store loss for every batch\n",
    "\n",
    "    for batch_n, batch in enumerate(train_loader):\n",
    "        images = batch[\"image\"].to(device)\n",
    "        labels = batch[\"label\"].to(device)\n",
    "\n",
    "        # forward pass\n",
    "        outputs = model(images)\n",
    "        loss = criterion(outputs, labels)\n",
    "        total_loss += loss.item()\n",
    "        tracking_loss.append(loss.item())  # Store batch loss for tracking \n",
    "\n",
    "        # backward and optimize\n",
    "        optimizer.zero_grad()\n",
    "        loss.backward() # wrt\n",
    "        optimizer.step()\n",
    "\n",
    "        # ✨ W&B: Log loss over training steps, visualized in the UI live\n",
    "        wandb.log({\"loss\" : loss, \"epoch\": epoch})\n",
    "\n",
    "        # Print progress every 100 batches\n",
    "        if (batch_n + 1 ) % 100 == 0: \n",
    "            print ('Epoch [{}/{}], Step [{}/{}], Loss: {:.4f}'\n",
    "                .format(epoch+1, EPOCHS, batch_n+1, len(train_loader), loss.item()))\n",
    "            \n",
    "    avg_loss = total_loss / len(train_loader)\n",
    "    return avg_loss, tracking_loss\n",
    "                "
   ]
  },
  {
   "cell_type": "markdown",
   "metadata": {},
   "source": [
    "#### Set up Evaluation Loop"
   ]
  },
  {
   "cell_type": "code",
   "execution_count": null,
   "metadata": {},
   "outputs": [],
   "source": [
    "def evaluate(model, val_loader, criterion, log_counter):\n",
    "    \"\"\"\n",
    "    Evaluate the model on a test/validation dataset.\n",
    "\n",
    "    Args:\n",
    "        model (nn.Module): The model to evaluate.\n",
    "        test_loader (DataLoader): DataLoader for test data.\n",
    "        criterion (nn.Module): Loss function.\n",
    "        cfg (dict): W&B configuration.\n",
    "\n",
    "    Returns:\n",
    "        dict: Metrics including accuracy and average loss.\n",
    "    \"\"\"\n",
    "    model.eval()\n",
    "    total_loss = 0\n",
    "    correct = 0\n",
    "    total = 0\n",
    "    log_counter = 0\n",
    "\n",
    "    # Collect all predictions and labels for metric calculations\n",
    "    all_preds = []\n",
    "    all_labels = []\n",
    "\n",
    "    # ✨ Initialize the W&B table\n",
    "    test_table = wandb.Table(columns=[\n",
    "        \"image_id\", \"image\", \"predicted\", \"true_label\",\n",
    "        \"score_antelope_duiker\", \"score_bird\", \"score_blank\",\n",
    "        \"score_civet_genet\", \"score_hog\", \"score_leopard\",\n",
    "        \"score_monkey_prosimian\", \"score_rodent\"\n",
    "    ])\n",
    "    \n",
    "    with torch.no_grad():\n",
    "        for batch_n, batch in enumerate(val_loader):\n",
    "            images = batch[\"image\"].to(device)\n",
    "            labels = batch[\"label\"].to(device)\n",
    "            image_ids = batch[\"image_id\"]\n",
    "\n",
    "            # forward pass\n",
    "            outputs = model(images)\n",
    "            probs = F.softmax(outputs, dim=1)  # For logging\n",
    "\n",
    "            loss = criterion(outputs, labels)\n",
    "            total_loss += loss.item()\n",
    "\n",
    "            _, predicted = torch.max(outputs, dim=1) \n",
    "            correct += (predicted == labels.argmax(dim=1)).sum().item()\n",
    "            total += labels.size(0)\n",
    "\n",
    "            # Store predictions and labels for metrics\n",
    "            all_preds.extend(predicted.cpu().numpy())\n",
    "            all_labels.extend(labels.argmax(dim=1).cpu().numpy())  # Convert one-hot to class indices\n",
    "            \n",
    "\n",
    "            # Log predictions (only log a limited number of batches)\n",
    "            if batch_n < NUM_BATCHES_TO_LOG:\n",
    "                log_test_predictions(images, image_ids, labels, \n",
    "                                     outputs,probs, predicted, \n",
    "                                     test_table,log_counter)\n",
    "                log_counter += 1\n",
    "\n",
    "    # Calculate metrics\n",
    "    acc = 100 * correct / total\n",
    "    avg_loss = total_loss / len(val_loader)\n",
    "    precision = precision_score(all_labels, all_preds, average=\"weighted\")\n",
    "    recall = recall_score(all_labels, all_preds, average=\"weighted\")\n",
    "    f1 = f1_score(all_labels, all_preds, average=\"weighted\")\n",
    "    macro_f1 = f1_score(all_labels, all_preds, average=\"macro\")\n",
    "    conf_matrix = confusion_matrix(all_labels, all_preds)\n",
    "\n",
    "    # ✨ Log metrics to W&B\n",
    "    wandb.log({\n",
    "        \"eval_loss\": avg_loss,\n",
    "        \"eval_accuracy\": acc,\n",
    "        \"eval_precision\": precision,\n",
    "        \"eval_recall\": recall,\n",
    "        \"eval_f1\": f1,\n",
    "        \"eval_macro_f1\": macro_f1,\n",
    "        \"confusion_matrix\": wandb.plot.confusion_matrix(\n",
    "            probs=None,\n",
    "            y_true=all_labels,\n",
    "            preds=all_preds,\n",
    "            class_names=[\n",
    "                \"antelope_duiker\", \"bird\", \"blank\", \"civet_genet\", \n",
    "                \"hog\", \"leopard\", \"monkey_prosimian\", \"rodent\"\n",
    "            ]\n",
    "        )\n",
    "    })\n",
    "\n",
    "    wandb.log({\"test_predictions\": test_table})\n",
    "        \n",
    "    print(f\"Evaluation - Loss: {avg_loss:.4f}, Accuracy: {acc:.2f}%, Precision: {precision:.2f}, Recall: {recall:.2f}, F1: {f1:.2f}\")\n",
    "    \n",
    "    return {\n",
    "        \"loss\": avg_loss,\n",
    "        \"accuracy\": acc,\n",
    "        \"precision\": precision,\n",
    "        \"recall\": recall,\n",
    "        \"f1\": f1,\n",
    "        \"macro_f1\": macro_f1,\n",
    "        \"confusion_matrix\": conf_matrix,\n",
    "        \"all_preds\": all_preds,\n",
    "        \"all_labels\": all_labels\n",
    "    }"
   ]
  },
  {
   "cell_type": "markdown",
   "metadata": {},
   "source": [
    "#### Run the Train and Eval Blocks"
   ]
  },
  {
   "cell_type": "code",
   "execution_count": 90,
   "metadata": {},
   "outputs": [
    {
     "name": "stdout",
     "output_type": "stream",
     "text": [
      "Starting training for epoch 0\n",
      "Epoch [1/1], Step [100/413], Loss: 1.1544\n",
      "Epoch [1/1], Step [200/413], Loss: 1.0770\n",
      "Epoch [1/1], Step [300/413], Loss: 1.2001\n",
      "Epoch [1/1], Step [400/413], Loss: 0.9843\n",
      "Epoch 1/1 - Avg Train Loss: 1.2060\n",
      "Evaluation - Loss: 1.0022, Accuracy: 63.52%, Precision: 0.63, Recall: 0.64, F1: 0.62\n",
      "Epoch 1/1 - Eval Loss: 1.0022, Eval Acc: 63.52%\n"
     ]
    }
   ],
   "source": [
    "log_counter = 0\n",
    "tracking_loss_all = []\n",
    "\n",
    "for epoch in range(EPOCHS):\n",
    "    #Training step\n",
    "    avg_train_loss, tracking_loss = train_one_epoch(model, \n",
    "                                     train_loader, \n",
    "                                     criterion, \n",
    "                                     optimizer, \n",
    "                                     epoch)\n",
    "    tracking_loss_all.extend(tracking_loss)  # Append to global list\n",
    "    print(f\"Epoch {epoch+1}/{cfg['epochs']} - Avg Train Loss: {\n",
    "        avg_train_loss:.4f}\")\n",
    "\n",
    "    \n",
    "    \n",
    "    # Evaluation step\n",
    "    eval_metrics = evaluate(model, val_loader, criterion, log_counter)\n",
    "    print(f\"Epoch {epoch+1}/{cfg['epochs']} - Eval Loss: {\n",
    "        eval_metrics['loss']:.4f}, Eval Acc: {eval_metrics['accuracy']:.2f}%\")\n"
   ]
  },
  {
   "cell_type": "code",
   "execution_count": 91,
   "metadata": {},
   "outputs": [
    {
     "data": {
      "text/html": [
       "\n",
       "    <style>\n",
       "        .wandb-row {\n",
       "            display: flex;\n",
       "            flex-direction: row;\n",
       "            flex-wrap: wrap;\n",
       "            justify-content: flex-start;\n",
       "            width: 100%;\n",
       "        }\n",
       "        .wandb-col {\n",
       "            display: flex;\n",
       "            flex-direction: column;\n",
       "            flex-basis: 100%;\n",
       "            flex: 1;\n",
       "            padding: 10px;\n",
       "        }\n",
       "    </style>\n",
       "<div class=\"wandb-row\"><div class=\"wandb-col\"><h3>Run history:</h3><br/><table class=\"wandb\"><tr><td>epoch</td><td>▁▁▁▁▁▁▁▁▁▁▁▁▁▁▁▁▁▁▁▁▁▁▁▁▁▁▁▁▁▁▁▁▁▁▁▁▁▁▁▁</td></tr><tr><td>eval_accuracy</td><td>▁</td></tr><tr><td>eval_f1</td><td>▁</td></tr><tr><td>eval_loss</td><td>▁</td></tr><tr><td>eval_macro_f1</td><td>▁</td></tr><tr><td>eval_precision</td><td>▁</td></tr><tr><td>eval_recall</td><td>▁</td></tr><tr><td>loss</td><td>▆▅▅▆▆▆▆▆▆▇▃█▅▇▅▄▄▄▄▃▆▆▃▅▃▅▄▄▂▃▅▃▃▂▃▂▃▁▄▂</td></tr></table><br/></div><div class=\"wandb-col\"><h3>Run summary:</h3><br/><table class=\"wandb\"><tr><td>epoch</td><td>0</td></tr><tr><td>eval_accuracy</td><td>63.52335</td></tr><tr><td>eval_f1</td><td>0.62411</td></tr><tr><td>eval_loss</td><td>1.00219</td></tr><tr><td>eval_macro_f1</td><td>0.62334</td></tr><tr><td>eval_precision</td><td>0.63353</td></tr><tr><td>eval_recall</td><td>0.63523</td></tr><tr><td>loss</td><td>1.34636</td></tr></table><br/></div></div>"
      ],
      "text/plain": [
       "<IPython.core.display.HTML object>"
      ]
     },
     "metadata": {},
     "output_type": "display_data"
    },
    {
     "data": {
      "text/html": [
       " View run <strong style=\"color:#cdcd00\">prime-bird-7</strong> at: <a href='https://wandb.ai/gball30-georgia-institute-of-technology/wildlife/runs/tfuoh4ex' target=\"_blank\">https://wandb.ai/gball30-georgia-institute-of-technology/wildlife/runs/tfuoh4ex</a><br/> View project at: <a href='https://wandb.ai/gball30-georgia-institute-of-technology/wildlife' target=\"_blank\">https://wandb.ai/gball30-georgia-institute-of-technology/wildlife</a><br/>Synced 5 W&B file(s), 0 media file(s), 324 artifact file(s) and 2 other file(s)"
      ],
      "text/plain": [
       "<IPython.core.display.HTML object>"
      ]
     },
     "metadata": {},
     "output_type": "display_data"
    },
    {
     "data": {
      "text/html": [
       "Find logs at: <code>./wandb/run-20241119_012012-tfuoh4ex/logs</code>"
      ],
      "text/plain": [
       "<IPython.core.display.HTML object>"
      ]
     },
     "metadata": {},
     "output_type": "display_data"
    }
   ],
   "source": [
    "# ✨ W&B: Mark the run as complete (useful for multi-cell notebook)\n",
    "wandb.finish()"
   ]
  },
  {
   "cell_type": "markdown",
   "metadata": {
    "id": "Zl7bVTmFMBwv"
   },
   "source": [
    "Now let's plot the loss by epoch and batch. The x-axis here is a tuple of `(epoch, batch)`."
   ]
  },
  {
   "cell_type": "code",
   "execution_count": null,
   "metadata": {},
   "outputs": [],
   "source": [
    "# Convert tracking_loss to a pandas Series for convenient rolling average\n",
    "tracking_loss_series = pd.Series(tracking_loss_all)\n",
    "\n",
    "# Plot\n",
    "plt.figure(figsize=(10, 5))\n",
    "tracking_loss_series.plot(alpha=0.2, label=\"Batch Loss\")\n",
    "tracking_loss_series.rolling(center=True, min_periods=1, window=10).mean().plot(\n",
    "    label=\"Loss (Moving Avg)\", linewidth=2\n",
    ")\n",
    "plt.xlabel(\"(Epoch, Batch)\")\n",
    "plt.ylabel(\"Loss\")\n",
    "plt.title(\"Batch Loss During Training\")\n",
    "plt.legend(loc=\"upper right\")\n",
    "plt.show()"
   ]
  },
  {
   "cell_type": "code",
   "execution_count": null,
   "metadata": {
    "colab": {
     "base_uri": "https://localhost:8080/",
     "height": 448
    },
    "id": "zSZBtSnGMBwv",
    "outputId": "6a3a6e19-e8a7-41fd-b386-8672a4d0bbe6"
   },
   "outputs": [],
   "source": [
    "# tracking_loss = pd.Series(tracking_loss)\n",
    "\n",
    "# plt.figure(figsize=(10, 5))\n",
    "# tracking_loss.plot(alpha=0.2, label=\"loss\")\n",
    "# tracking_loss.rolling(center=True, min_periods=1, window=10).mean().plot(\n",
    "#     label=\"loss (moving avg)\"\n",
    "# )\n",
    "# plt.xlabel(\"(Epoch, Batch)\")\n",
    "# plt.ylabel(\"Loss\")\n",
    "# plt.legend(loc=0)"
   ]
  },
  {
   "cell_type": "markdown",
   "metadata": {
    "id": "hp95JZH-MBwv"
   },
   "source": [
    "Good news, the loss is going down! This is an encouraging start, especially since we haven't done anything fancy yet.\n",
    "\n",
    "Note: In this version of the benchmark, the loss reaches 1.85 with the different randomness and params warning. The benchmark from the competition reaches 1.3. That is surprising."
   ]
  },
  {
   "cell_type": "code",
   "execution_count": null,
   "metadata": {
    "id": "ByNFrKQtMBwv"
   },
   "outputs": [],
   "source": [
    "# torch.save(model, \"model.pth\")"
   ]
  },
  {
   "cell_type": "markdown",
   "metadata": {
    "id": "jVxXyhglMBww",
    "tags": []
   },
   "source": [
    "### Predicted labels distribution\n",
    "First let's review the species distribution we saw in the training set."
   ]
  },
  {
   "cell_type": "code",
   "execution_count": 63,
   "metadata": {
    "colab": {
     "base_uri": "https://localhost:8080/",
     "height": 352
    },
    "id": "mroK41PCMBww",
    "outputId": "8743d2d9-e5a9-4d0f-eb8d-55b7101e6f5b"
   },
   "outputs": [
    {
     "name": "stdout",
     "output_type": "stream",
     "text": [
      "True labels (training):\n"
     ]
    },
    {
     "data": {
      "text/plain": [
       "monkey_prosimian    1994\n",
       "antelope_duiker     1979\n",
       "civet_genet         1938\n",
       "leopard             1803\n",
       "blank               1770\n",
       "rodent              1610\n",
       "bird                1313\n",
       "hog                  783\n",
       "Name: count, dtype: int64"
      ]
     },
     "execution_count": 63,
     "metadata": {},
     "output_type": "execute_result"
    }
   ],
   "source": [
    "print(\"True labels (training):\")\n",
    "y_train.idxmax(axis=1).value_counts()"
   ]
  },
  {
   "cell_type": "code",
   "execution_count": 64,
   "metadata": {},
   "outputs": [
    {
     "name": "stdout",
     "output_type": "stream",
     "text": [
      "Predicted labels (eval):\n",
      "predicted_label\n",
      "blank               657\n",
      "monkey_prosimian    483\n",
      "antelope_duiker     447\n",
      "civet_genet         437\n",
      "rodent              431\n",
      "leopard             395\n",
      "bird                313\n",
      "hog                 135\n",
      "Name: count, dtype: int64\n",
      "\n",
      "True labels (eval):\n",
      "true_label\n",
      "monkey_prosimian    498\n",
      "antelope_duiker     495\n",
      "civet_genet         485\n",
      "leopard             451\n",
      "blank               443\n",
      "rodent              403\n",
      "bird                328\n",
      "hog                 195\n",
      "Name: count, dtype: int64\n"
     ]
    }
   ],
   "source": [
    "# Extract predictions and true labels from eval_metrics\n",
    "all_preds = eval_metrics[\"all_preds\"]\n",
    "all_labels = eval_metrics[\"all_labels\"]\n",
    "\n",
    "# Convert all_preds to DataFrame and map to class names\n",
    "preds_df = pd.DataFrame(all_preds, columns=[\"predicted_class\"])\n",
    "preds_df[\"predicted_label\"] = preds_df[\"predicted_class\"].map(\n",
    "    lambda idx: species_labels[idx]\n",
    ")\n",
    "\n",
    "# Convert all_labels to DataFrame and map to class names\n",
    "labels_df = pd.DataFrame(all_labels, columns=[\"true_class\"])\n",
    "labels_df[\"true_label\"] = labels_df[\"true_class\"].map(\n",
    "    lambda idx: species_labels[idx]\n",
    ")\n",
    "\n",
    "# Combine predictions and true labels for analysis\n",
    "results_df = pd.concat([preds_df, labels_df], axis=1)\n",
    "\n",
    "# Display value counts for predicted and true labels\n",
    "print(\"Predicted labels (eval):\")\n",
    "print(results_df[\"predicted_label\"].value_counts())\n",
    "\n",
    "print(\"\\nTrue labels (eval):\")\n",
    "print(results_df[\"true_label\"].value_counts())"
   ]
  },
  {
   "cell_type": "markdown",
   "metadata": {
    "id": "tu2sSN7IMBww"
   },
   "source": [
    "### Accuracy\n",
    "Now let's compute how accurate our model is and compare that against some trivial baseline models. First let's get the labels with the highest score for each image."
   ]
  },
  {
   "cell_type": "markdown",
   "metadata": {
    "id": "BN_v3KrmMBww"
   },
   "source": [
    "Random guessing across 8 classes would yield an accuracy of 12.5% (1/8). But we could construct a slightly better trivial model by always guessing the most common class (\"monkey_prosimian\" images in this case).\n",
    "\n",
    "If we were to always guess that an image is `monkey_prosimian`, we could achieve accuracy of 15.8%."
   ]
  },
  {
   "cell_type": "code",
   "execution_count": 68,
   "metadata": {
    "colab": {
     "base_uri": "https://localhost:8080/"
    },
    "id": "AqHjEQQEMBww",
    "outputId": "24d44f60-984b-43ee-f8aa-86af6fc568c2"
   },
   "outputs": [
    {
     "name": "stdout",
     "output_type": "stream",
     "text": [
      "Benchmark Accuracy (always guessing 'monkey_prosimian'): 0.1510\n"
     ]
    }
   ],
   "source": [
    "# Convert all_labels (true labels) to their class names\n",
    "eval_true = pd.Series(all_labels).apply(lambda x: species_labels[x])\n",
    "\n",
    "# Simulate always guessing \"monkey_prosimian\"\n",
    "monkey_predictions = pd.Series(\"monkey_prosimian\", index=eval_true.index)\n",
    "\n",
    "# Compute the accuracy of always predicting \"monkey_prosimian\"\n",
    "benchmark_accuracy = (eval_true == monkey_predictions).sum() / len(monkey_predictions)\n",
    "\n",
    "print(f\"Benchmark Accuracy (always guessing 'monkey_prosimian'): {benchmark_accuracy:.4f}\")\n"
   ]
  },
  {
   "cell_type": "code",
   "execution_count": 70,
   "metadata": {},
   "outputs": [
    {
     "name": "stdout",
     "output_type": "stream",
     "text": [
      "Model Accuracy: 0.6225\n"
     ]
    }
   ],
   "source": [
    "\n",
    "eval_predictions = pd.Series(all_preds).apply(lambda x: species_labels[x])\n",
    "\n",
    "# Calculate model accuracy\n",
    "model_accuracy = (eval_predictions == eval_true).sum() / len(eval_true)\n",
    "\n",
    "# Print results\n",
    "print(f\"Model Accuracy: {model_accuracy:.4f}\")\n"
   ]
  },
  {
   "cell_type": "code",
   "execution_count": 67,
   "metadata": {
    "colab": {
     "base_uri": "https://localhost:8080/"
    },
    "id": "0faml30JMBww",
    "outputId": "b5f889f6-1d75-4eb0-aaa5-1aaba0427bc3"
   },
   "outputs": [
    {
     "data": {
      "text/plain": [
       "0.15100060642813826"
      ]
     },
     "execution_count": 67,
     "metadata": {},
     "output_type": "execute_result"
    }
   ],
   "source": [
    "correct = (eval_predictions == eval_true).sum()\n",
    "accuracy = correct / len(eval_predictions)\n",
    "accuracy"
   ]
  },
  {
   "cell_type": "code",
   "execution_count": 65,
   "metadata": {},
   "outputs": [
    {
     "name": "stdout",
     "output_type": "stream",
     "text": [
      "Per-Class Accuracy:\n",
      "true_label\n",
      "antelope_duiker     0.422222\n",
      "bird                0.588415\n",
      "blank               0.514673\n",
      "civet_genet         0.814433\n",
      "hog                 0.533333\n",
      "leopard             0.833703\n",
      "monkey_prosimian    0.594378\n",
      "rodent              0.625310\n",
      "dtype: float64\n"
     ]
    },
    {
     "name": "stderr",
     "output_type": "stream",
     "text": [
      "/var/folders/f9/_qvc3zsj1sg4_558kbgxv0d00000gn/T/ipykernel_64673/3003157961.py:2: DeprecationWarning: DataFrameGroupBy.apply operated on the grouping columns. This behavior is deprecated, and in a future version of pandas the grouping columns will be excluded from the operation. Either pass `include_groups=False` to exclude the groupings or explicitly select the grouping columns after groupby to silence this warning.\n",
      "  per_class_accuracy = results_df.groupby(\"true_label\").apply(\n"
     ]
    }
   ],
   "source": [
    "# accuracy per class\n",
    "per_class_accuracy = results_df.groupby(\"true_label\").apply(\n",
    "    lambda x: (x[\"true_label\"] == x[\"predicted_label\"]).mean()\n",
    ")\n",
    "print(\"Per-Class Accuracy:\")\n",
    "print(per_class_accuracy)\n"
   ]
  },
  {
   "cell_type": "markdown",
   "metadata": {
    "id": "ZphQMtVlMBww"
   },
   "source": [
    "Our accuracy on the evaluation set is about 50%, which is not a bad start for a very simple first pass and one epoch of training."
   ]
  },
  {
   "cell_type": "markdown",
   "metadata": {
    "id": "rx4Q6fugMBww"
   },
   "source": [
    "Let's look at the predictions from another angle.\n",
    "\n",
    "We can see from the confusion matrix below that our model does reasonably well on some species, but we have plenty of room for improvement on antelopes, birds, hogs and blanks.\n",
    "\n",
    "Note: Ours actually doesn't predict any birds, blanks, or hogs which is a problem."
   ]
  },
  {
   "cell_type": "code",
   "execution_count": 73,
   "metadata": {},
   "outputs": [
    {
     "data": {
      "image/png": "[encoded data removed]",
      "text/plain": [
       "<Figure size 1000x1000 with 2 Axes>"
      ]
     },
     "metadata": {},
     "output_type": "display_data"
    }
   ],
   "source": [
    "from sklearn.metrics import ConfusionMatrixDisplay\n",
    "\n",
    "# Convert predictions to species names\n",
    "\n",
    "\n",
    "# Plot confusion matrix\n",
    "fig, ax = plt.subplots(figsize=(10, 10))\n",
    "cm = ConfusionMatrixDisplay.from_predictions(\n",
    "    eval_true,\n",
    "    eval_predictions,\n",
    "    ax=ax,\n",
    "    xticks_rotation=90,\n",
    "    colorbar=True,\n",
    ")\n",
    "plt.show()\n"
   ]
  },
  {
   "cell_type": "markdown",
   "metadata": {
    "id": "8suCHLTEMBww"
   },
   "source": [
    "That's where you come in! What can you do to improve on this benchmark?\n",
    "\n",
    "Here are some ideas you might want to try:\n",
    "* Train on the full training dataset. We've only used 50% of the training data so far.\n",
    "* Train for more epochs. We've only done 1 so far.\n",
    "* Try another pretrained model. For example, you may have more success with EfficientNet, or another ResNet model with more layers like ResNet152. See what's available from pytorch [here](https://pytorch.org/vision/stable/models.html). You may also want to review which models are or have been state of the art for image classification tasks, for example on [paperswithcode.com](https://paperswithcode.com/task/image-classification). Keep in mind that different models will require different input and output dimensions, so you'll need to update how you construct `model` above.\n",
    "* Experiment with different loss functions.\n",
    "* Experiment with different learning rates or learning rate schedulers.\n",
    "* Add more layers to the model head (`model.fc`).\n",
    "* You also may want to consider freezing the weights in the backbone model and only training the head (`model.fc`). If this results in higher accuracy, that suggests the current approach may be overwriting the backbone weights in a problematic way. One approach here would be to train just the model head, and then unfreeze the backbone but train at a lower learning rate.\n",
    "* Training will be much faster using GPUs, but you will need to make some small tweaks to the code.\n",
    "* As you become more comfortable iterating through different versions of the model, you may want to try out [PyTorch Lightning](https://www.pytorchlightning.ai/) or [Lightning Flash](https://lightning-flash.readthedocs.io/en/latest/quickstart.html), which build upon PyTorch and eliminate a lot of boilerplate code, in addition to providing a more complete research framework for deep learning problems."
   ]
  },
  {
   "cell_type": "markdown",
   "metadata": {
    "id": "dg9QTTxKMBwx"
   },
   "source": [
    "## 8. Create submission"
   ]
  },
  {
   "cell_type": "markdown",
   "metadata": {
    "id": "76a6DRx_MBwx"
   },
   "source": [
    "Last but not least, we'll want to participate in the competition and see where we stand on the leaderboard.\n",
    "\n",
    "To do this we need to create predictions for the **competition test set** (not the eval set we used above). You don't have labels for these.\n",
    "\n",
    "We'll create predictions in the same way we did for the `eval` set, but this time using the `test_features` we downloaded from the [competition website](https://www.drivendata.org/competitions/87/competition-image-classification-wildlife-conservation/data/)."
   ]
  },
  {
   "cell_type": "code",
   "execution_count": null,
   "metadata": {
    "id": "X83p0e6kMBwx"
   },
   "outputs": [],
   "source": [
    "# test_dataset = ImagesDataset(test_features.filepath.to_frame())\n",
    "# test_dataloader = DataLoader(test_dataset, batch_size=32)"
   ]
  },
  {
   "cell_type": "code",
   "execution_count": 74,
   "metadata": {},
   "outputs": [],
   "source": [
    "test_dataset = ImagesDataset(\n",
    "    test_features, \n",
    "    transform=val_transform, \n",
    "    device=device)\n",
    "\n",
    "# Create DataLoaders\n",
    "\n",
    "test_loader = DataLoader(\n",
    "    test_dataset, \n",
    "    batch_size=BATCH_SIZE, \n",
    "    shuffle=False, pin_memory=True)"
   ]
  },
  {
   "cell_type": "code",
   "execution_count": 75,
   "metadata": {
    "colab": {
     "base_uri": "https://localhost:8080/",
     "height": 461
    },
    "id": "yz08YKCrMBwx",
    "outputId": "6a79bdbb-ebff-4dd5-c21b-d7710c68ceb4"
   },
   "outputs": [
    {
     "name": "stderr",
     "output_type": "stream",
     "text": [
      "100%|██████████| 140/140 [00:41<00:00,  3.37it/s]\n"
     ]
    },
    {
     "data": {
      "text/html": [
       "<div>\n",
       "<style scoped>\n",
       "    .dataframe tbody tr th:only-of-type {\n",
       "        vertical-align: middle;\n",
       "    }\n",
       "\n",
       "    .dataframe tbody tr th {\n",
       "        vertical-align: top;\n",
       "    }\n",
       "\n",
       "    .dataframe thead th {\n",
       "        text-align: right;\n",
       "    }\n",
       "</style>\n",
       "<table border=\"1\" class=\"dataframe\">\n",
       "  <thead>\n",
       "    <tr style=\"text-align: right;\">\n",
       "      <th></th>\n",
       "      <th>antelope_duiker</th>\n",
       "      <th>bird</th>\n",
       "      <th>blank</th>\n",
       "      <th>civet_genet</th>\n",
       "      <th>hog</th>\n",
       "      <th>leopard</th>\n",
       "      <th>monkey_prosimian</th>\n",
       "      <th>rodent</th>\n",
       "    </tr>\n",
       "  </thead>\n",
       "  <tbody>\n",
       "    <tr>\n",
       "      <th>ZJ016488</th>\n",
       "      <td>0.140674</td>\n",
       "      <td>0.009188</td>\n",
       "      <td>0.419940</td>\n",
       "      <td>0.183665</td>\n",
       "      <td>0.021934</td>\n",
       "      <td>0.019338</td>\n",
       "      <td>0.010165</td>\n",
       "      <td>0.195096</td>\n",
       "    </tr>\n",
       "    <tr>\n",
       "      <th>ZJ016489</th>\n",
       "      <td>0.214198</td>\n",
       "      <td>0.086237</td>\n",
       "      <td>0.251079</td>\n",
       "      <td>0.014660</td>\n",
       "      <td>0.131235</td>\n",
       "      <td>0.059874</td>\n",
       "      <td>0.183692</td>\n",
       "      <td>0.059025</td>\n",
       "    </tr>\n",
       "    <tr>\n",
       "      <th>ZJ016490</th>\n",
       "      <td>0.289024</td>\n",
       "      <td>0.023614</td>\n",
       "      <td>0.337853</td>\n",
       "      <td>0.046195</td>\n",
       "      <td>0.075420</td>\n",
       "      <td>0.128450</td>\n",
       "      <td>0.064639</td>\n",
       "      <td>0.034805</td>\n",
       "    </tr>\n",
       "    <tr>\n",
       "      <th>ZJ016491</th>\n",
       "      <td>0.000036</td>\n",
       "      <td>0.000003</td>\n",
       "      <td>0.001083</td>\n",
       "      <td>0.000035</td>\n",
       "      <td>0.000127</td>\n",
       "      <td>0.998707</td>\n",
       "      <td>0.000003</td>\n",
       "      <td>0.000005</td>\n",
       "    </tr>\n",
       "    <tr>\n",
       "      <th>ZJ016492</th>\n",
       "      <td>0.266016</td>\n",
       "      <td>0.348726</td>\n",
       "      <td>0.103497</td>\n",
       "      <td>0.002784</td>\n",
       "      <td>0.028574</td>\n",
       "      <td>0.005957</td>\n",
       "      <td>0.150701</td>\n",
       "      <td>0.093746</td>\n",
       "    </tr>\n",
       "    <tr>\n",
       "      <th>...</th>\n",
       "      <td>...</td>\n",
       "      <td>...</td>\n",
       "      <td>...</td>\n",
       "      <td>...</td>\n",
       "      <td>...</td>\n",
       "      <td>...</td>\n",
       "      <td>...</td>\n",
       "      <td>...</td>\n",
       "    </tr>\n",
       "    <tr>\n",
       "      <th>ZJ020947</th>\n",
       "      <td>0.293875</td>\n",
       "      <td>0.097904</td>\n",
       "      <td>0.383345</td>\n",
       "      <td>0.008635</td>\n",
       "      <td>0.035269</td>\n",
       "      <td>0.027431</td>\n",
       "      <td>0.090573</td>\n",
       "      <td>0.062967</td>\n",
       "    </tr>\n",
       "    <tr>\n",
       "      <th>ZJ020948</th>\n",
       "      <td>0.357973</td>\n",
       "      <td>0.064724</td>\n",
       "      <td>0.327845</td>\n",
       "      <td>0.007293</td>\n",
       "      <td>0.027368</td>\n",
       "      <td>0.031524</td>\n",
       "      <td>0.126656</td>\n",
       "      <td>0.056617</td>\n",
       "    </tr>\n",
       "    <tr>\n",
       "      <th>ZJ020949</th>\n",
       "      <td>0.165419</td>\n",
       "      <td>0.014979</td>\n",
       "      <td>0.192968</td>\n",
       "      <td>0.146374</td>\n",
       "      <td>0.179651</td>\n",
       "      <td>0.015740</td>\n",
       "      <td>0.005491</td>\n",
       "      <td>0.279379</td>\n",
       "    </tr>\n",
       "    <tr>\n",
       "      <th>ZJ020950</th>\n",
       "      <td>0.141708</td>\n",
       "      <td>0.427231</td>\n",
       "      <td>0.108675</td>\n",
       "      <td>0.001202</td>\n",
       "      <td>0.010577</td>\n",
       "      <td>0.003005</td>\n",
       "      <td>0.202000</td>\n",
       "      <td>0.105601</td>\n",
       "    </tr>\n",
       "    <tr>\n",
       "      <th>ZJ020951</th>\n",
       "      <td>0.001346</td>\n",
       "      <td>0.000673</td>\n",
       "      <td>0.010435</td>\n",
       "      <td>0.000725</td>\n",
       "      <td>0.001179</td>\n",
       "      <td>0.984837</td>\n",
       "      <td>0.000446</td>\n",
       "      <td>0.000359</td>\n",
       "    </tr>\n",
       "  </tbody>\n",
       "</table>\n",
       "<p>4464 rows × 8 columns</p>\n",
       "</div>"
      ],
      "text/plain": [
       "          antelope_duiker      bird     blank  civet_genet       hog  \\\n",
       "ZJ016488         0.140674  0.009188  0.419940     0.183665  0.021934   \n",
       "ZJ016489         0.214198  0.086237  0.251079     0.014660  0.131235   \n",
       "ZJ016490         0.289024  0.023614  0.337853     0.046195  0.075420   \n",
       "ZJ016491         0.000036  0.000003  0.001083     0.000035  0.000127   \n",
       "ZJ016492         0.266016  0.348726  0.103497     0.002784  0.028574   \n",
       "...                   ...       ...       ...          ...       ...   \n",
       "ZJ020947         0.293875  0.097904  0.383345     0.008635  0.035269   \n",
       "ZJ020948         0.357973  0.064724  0.327845     0.007293  0.027368   \n",
       "ZJ020949         0.165419  0.014979  0.192968     0.146374  0.179651   \n",
       "ZJ020950         0.141708  0.427231  0.108675     0.001202  0.010577   \n",
       "ZJ020951         0.001346  0.000673  0.010435     0.000725  0.001179   \n",
       "\n",
       "           leopard  monkey_prosimian    rodent  \n",
       "ZJ016488  0.019338          0.010165  0.195096  \n",
       "ZJ016489  0.059874          0.183692  0.059025  \n",
       "ZJ016490  0.128450          0.064639  0.034805  \n",
       "ZJ016491  0.998707          0.000003  0.000005  \n",
       "ZJ016492  0.005957          0.150701  0.093746  \n",
       "...            ...               ...       ...  \n",
       "ZJ020947  0.027431          0.090573  0.062967  \n",
       "ZJ020948  0.031524          0.126656  0.056617  \n",
       "ZJ020949  0.015740          0.005491  0.279379  \n",
       "ZJ020950  0.003005          0.202000  0.105601  \n",
       "ZJ020951  0.984837          0.000446  0.000359  \n",
       "\n",
       "[4464 rows x 8 columns]"
      ]
     },
     "execution_count": 75,
     "metadata": {},
     "output_type": "execute_result"
    }
   ],
   "source": [
    "test_preds_collector = []\n",
    "\n",
    "# put the model in eval mode so we don't update any parameters\n",
    "model.eval()\n",
    "\n",
    "# we aren't updating our weights so no need to calculate gradients\n",
    "with torch.no_grad():\n",
    "    for batch in tqdm(test_loader, total=len(test_loader)):\n",
    "        # run the forward step\n",
    "        images = batch[\"image\"].to(device)\n",
    "        logits = model(images)\n",
    "\n",
    "        # apply softmax so that model outputs are in range [0,1]\n",
    "        preds = F.softmax(logits, dim=1)\n",
    "\n",
    "        # store this batch's predictions in df\n",
    "        # note that PyTorch Tensors need to first be detached from their computational graph before converting to numpy arrays\n",
    "        preds_df = pd.DataFrame(\n",
    "            preds.cpu().numpy(),\n",
    "            index=batch[\"image_id\"],\n",
    "            columns=species_labels,\n",
    "        )\n",
    "        test_preds_collector.append(preds_df)\n",
    "\n",
    "submission_df = pd.concat(test_preds_collector)\n",
    "submission_df"
   ]
  },
  {
   "cell_type": "markdown",
   "metadata": {
    "id": "Cf7PXcg8MBwx"
   },
   "source": [
    "Let's check a couple things on `submission_df` before submitting to the platform. We'll want to make sure our submission's index and column labels match the submission format. (The DrivenData platform will do these data integrity checks as well, but it will be quicker to detect problems this way.)"
   ]
  },
  {
   "cell_type": "code",
   "execution_count": 76,
   "metadata": {
    "id": "-cRBuX8fMBwx"
   },
   "outputs": [],
   "source": [
    "submission_format_path = \"./data/givens/submission_format.csv\"\n",
    "submission_format = pd.read_csv(submission_format_path, index_col=\"id\")\n",
    "\n",
    "\n",
    "assert all(submission_df.index == submission_format.index)\n",
    "assert all(submission_df.columns == submission_format.columns)\n",
    "\n",
    "# Save submission_df for further use\n",
    "submission_df_path = \"./data/submissions/submission2.csv\"\n",
    "submission_df.to_csv(submission_df_path, index=True)"
   ]
  },
  {
   "cell_type": "markdown",
   "metadata": {
    "id": "tdAFuw5-MBwx"
   },
   "source": [
    "Looks like we're ready to submit! Save the dataframe out to a CSV file and then upload it via the [Submissions page](https://www.drivendata.org/competitions/87/competition-image-classification-wildlife-conservation/submissions/) on the competition website."
   ]
  },
  {
   "cell_type": "markdown",
   "metadata": {
    "id": "EvIGabdp5Sky"
   },
   "source": [
    "Our actual score for this is 1.7325 -Eva"
   ]
  }
 ],
 "metadata": {
  "accelerator": "GPU",
  "anaconda-cloud": {},
  "colab": {
   "gpuType": "T4",
   "include_colab_link": true,
   "provenance": []
  },
  "kernelspec": {
   "display_name": "mlflow",
   "language": "python",
   "name": "python3"
  },
  "language_info": {
   "codemirror_mode": {
    "name": "ipython",
    "version": 3
   },
   "file_extension": ".py",
   "mimetype": "text/x-python",
   "name": "python",
   "nbconvert_exporter": "python",
   "pygments_lexer": "ipython3",
   "version": "3.12.7"
  }
 },
 "nbformat": 4,
 "nbformat_minor": 0
}
